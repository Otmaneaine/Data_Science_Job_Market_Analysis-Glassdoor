{
 "cells": [
  {
   "cell_type": "code",
   "execution_count": 339,
   "metadata": {},
   "outputs": [],
   "source": [
    "import os # This will be used to tell us where the file is\n",
    "import pandas as pd\n",
    "import numpy as np\n",
    "# for the visuals\n",
    "import matplotlib.pyplot as plt\n",
    "from wordcloud import WordCloud\n",
    "import plotly.express as px \n",
    "\n"
   ]
  },
  {
   "cell_type": "code",
   "execution_count": 340,
   "metadata": {},
   "outputs": [
    {
     "data": {
      "text/html": [
       "<div>\n",
       "<style scoped>\n",
       "    .dataframe tbody tr th:only-of-type {\n",
       "        vertical-align: middle;\n",
       "    }\n",
       "\n",
       "    .dataframe tbody tr th {\n",
       "        vertical-align: top;\n",
       "    }\n",
       "\n",
       "    .dataframe thead th {\n",
       "        text-align: right;\n",
       "    }\n",
       "</style>\n",
       "<table border=\"1\" class=\"dataframe\">\n",
       "  <thead>\n",
       "    <tr style=\"text-align: right;\">\n",
       "      <th></th>\n",
       "      <th>index</th>\n",
       "      <th>Job Title</th>\n",
       "      <th>Salary Estimate</th>\n",
       "      <th>Job Description</th>\n",
       "      <th>Rating</th>\n",
       "      <th>Company Name</th>\n",
       "      <th>Location</th>\n",
       "      <th>Headquarters</th>\n",
       "      <th>Size</th>\n",
       "      <th>Founded</th>\n",
       "      <th>Type of ownership</th>\n",
       "      <th>Industry</th>\n",
       "      <th>Sector</th>\n",
       "      <th>Revenue</th>\n",
       "      <th>Competitors</th>\n",
       "    </tr>\n",
       "  </thead>\n",
       "  <tbody>\n",
       "    <tr>\n",
       "      <th>0</th>\n",
       "      <td>0</td>\n",
       "      <td>Sr Data Scientist</td>\n",
       "      <td>$137K-$171K (Glassdoor est.)</td>\n",
       "      <td>Description\\n\\nThe Senior Data Scientist is re...</td>\n",
       "      <td>3.1</td>\n",
       "      <td>Healthfirst\\n3.1</td>\n",
       "      <td>New York, NY</td>\n",
       "      <td>New York, NY</td>\n",
       "      <td>1001 to 5000 employees</td>\n",
       "      <td>1993</td>\n",
       "      <td>Nonprofit Organization</td>\n",
       "      <td>Insurance Carriers</td>\n",
       "      <td>Insurance</td>\n",
       "      <td>Unknown / Non-Applicable</td>\n",
       "      <td>EmblemHealth, UnitedHealth Group, Aetna</td>\n",
       "    </tr>\n",
       "    <tr>\n",
       "      <th>1</th>\n",
       "      <td>1</td>\n",
       "      <td>Data Scientist</td>\n",
       "      <td>$137K-$171K (Glassdoor est.)</td>\n",
       "      <td>Secure our Nation, Ignite your Future\\n\\nJoin ...</td>\n",
       "      <td>4.2</td>\n",
       "      <td>ManTech\\n4.2</td>\n",
       "      <td>Chantilly, VA</td>\n",
       "      <td>Herndon, VA</td>\n",
       "      <td>5001 to 10000 employees</td>\n",
       "      <td>1968</td>\n",
       "      <td>Company - Public</td>\n",
       "      <td>Research &amp; Development</td>\n",
       "      <td>Business Services</td>\n",
       "      <td>$1 to $2 billion (USD)</td>\n",
       "      <td>-1</td>\n",
       "    </tr>\n",
       "    <tr>\n",
       "      <th>2</th>\n",
       "      <td>2</td>\n",
       "      <td>Data Scientist</td>\n",
       "      <td>$137K-$171K (Glassdoor est.)</td>\n",
       "      <td>Overview\\n\\n\\nAnalysis Group is one of the lar...</td>\n",
       "      <td>3.8</td>\n",
       "      <td>Analysis Group\\n3.8</td>\n",
       "      <td>Boston, MA</td>\n",
       "      <td>Boston, MA</td>\n",
       "      <td>1001 to 5000 employees</td>\n",
       "      <td>1981</td>\n",
       "      <td>Private Practice / Firm</td>\n",
       "      <td>Consulting</td>\n",
       "      <td>Business Services</td>\n",
       "      <td>$100 to $500 million (USD)</td>\n",
       "      <td>-1</td>\n",
       "    </tr>\n",
       "    <tr>\n",
       "      <th>3</th>\n",
       "      <td>3</td>\n",
       "      <td>Data Scientist</td>\n",
       "      <td>$137K-$171K (Glassdoor est.)</td>\n",
       "      <td>JOB DESCRIPTION:\\n\\nDo you have a passion for ...</td>\n",
       "      <td>3.5</td>\n",
       "      <td>INFICON\\n3.5</td>\n",
       "      <td>Newton, MA</td>\n",
       "      <td>Bad Ragaz, Switzerland</td>\n",
       "      <td>501 to 1000 employees</td>\n",
       "      <td>2000</td>\n",
       "      <td>Company - Public</td>\n",
       "      <td>Electrical &amp; Electronic Manufacturing</td>\n",
       "      <td>Manufacturing</td>\n",
       "      <td>$100 to $500 million (USD)</td>\n",
       "      <td>MKS Instruments, Pfeiffer Vacuum, Agilent Tech...</td>\n",
       "    </tr>\n",
       "    <tr>\n",
       "      <th>4</th>\n",
       "      <td>4</td>\n",
       "      <td>Data Scientist</td>\n",
       "      <td>$137K-$171K (Glassdoor est.)</td>\n",
       "      <td>Data Scientist\\nAffinity Solutions / Marketing...</td>\n",
       "      <td>2.9</td>\n",
       "      <td>Affinity Solutions\\n2.9</td>\n",
       "      <td>New York, NY</td>\n",
       "      <td>New York, NY</td>\n",
       "      <td>51 to 200 employees</td>\n",
       "      <td>1998</td>\n",
       "      <td>Company - Private</td>\n",
       "      <td>Advertising &amp; Marketing</td>\n",
       "      <td>Business Services</td>\n",
       "      <td>Unknown / Non-Applicable</td>\n",
       "      <td>Commerce Signals, Cardlytics, Yodlee</td>\n",
       "    </tr>\n",
       "  </tbody>\n",
       "</table>\n",
       "</div>"
      ],
      "text/plain": [
       "   index          Job Title               Salary Estimate  \\\n",
       "0      0  Sr Data Scientist  $137K-$171K (Glassdoor est.)   \n",
       "1      1     Data Scientist  $137K-$171K (Glassdoor est.)   \n",
       "2      2     Data Scientist  $137K-$171K (Glassdoor est.)   \n",
       "3      3     Data Scientist  $137K-$171K (Glassdoor est.)   \n",
       "4      4     Data Scientist  $137K-$171K (Glassdoor est.)   \n",
       "\n",
       "                                     Job Description  Rating  \\\n",
       "0  Description\\n\\nThe Senior Data Scientist is re...     3.1   \n",
       "1  Secure our Nation, Ignite your Future\\n\\nJoin ...     4.2   \n",
       "2  Overview\\n\\n\\nAnalysis Group is one of the lar...     3.8   \n",
       "3  JOB DESCRIPTION:\\n\\nDo you have a passion for ...     3.5   \n",
       "4  Data Scientist\\nAffinity Solutions / Marketing...     2.9   \n",
       "\n",
       "              Company Name       Location            Headquarters  \\\n",
       "0         Healthfirst\\n3.1   New York, NY            New York, NY   \n",
       "1             ManTech\\n4.2  Chantilly, VA             Herndon, VA   \n",
       "2      Analysis Group\\n3.8     Boston, MA              Boston, MA   \n",
       "3             INFICON\\n3.5     Newton, MA  Bad Ragaz, Switzerland   \n",
       "4  Affinity Solutions\\n2.9   New York, NY            New York, NY   \n",
       "\n",
       "                      Size  Founded        Type of ownership  \\\n",
       "0   1001 to 5000 employees     1993   Nonprofit Organization   \n",
       "1  5001 to 10000 employees     1968         Company - Public   \n",
       "2   1001 to 5000 employees     1981  Private Practice / Firm   \n",
       "3    501 to 1000 employees     2000         Company - Public   \n",
       "4      51 to 200 employees     1998        Company - Private   \n",
       "\n",
       "                                Industry             Sector  \\\n",
       "0                     Insurance Carriers          Insurance   \n",
       "1                 Research & Development  Business Services   \n",
       "2                             Consulting  Business Services   \n",
       "3  Electrical & Electronic Manufacturing      Manufacturing   \n",
       "4                Advertising & Marketing  Business Services   \n",
       "\n",
       "                      Revenue  \\\n",
       "0    Unknown / Non-Applicable   \n",
       "1      $1 to $2 billion (USD)   \n",
       "2  $100 to $500 million (USD)   \n",
       "3  $100 to $500 million (USD)   \n",
       "4    Unknown / Non-Applicable   \n",
       "\n",
       "                                         Competitors  \n",
       "0            EmblemHealth, UnitedHealth Group, Aetna  \n",
       "1                                                 -1  \n",
       "2                                                 -1  \n",
       "3  MKS Instruments, Pfeiffer Vacuum, Agilent Tech...  \n",
       "4               Commerce Signals, Cardlytics, Yodlee  "
      ]
     },
     "execution_count": 340,
     "metadata": {},
     "output_type": "execute_result"
    }
   ],
   "source": [
    "pwd = os.getcwd() # This creates a string of the folder this Python Script is stored in\n",
    "\n",
    "filepath = pwd + \"/Uncleaned_DS_jobs.csv\" # This creates a string that is the filepath to the simple_csv file\n",
    "raw_data = pd.read_csv(filepath) # This reads the csv into Python\n",
    "raw_data.head()"
   ]
  },
  {
   "cell_type": "code",
   "execution_count": 341,
   "metadata": {},
   "outputs": [],
   "source": [
    "cleaned_data = raw_data.copy()"
   ]
  },
  {
   "cell_type": "markdown",
   "metadata": {},
   "source": [
    "***\n",
    "Let's explore first our data"
   ]
  },
  {
   "cell_type": "code",
   "execution_count": 342,
   "metadata": {},
   "outputs": [
    {
     "name": "stdout",
     "output_type": "stream",
     "text": [
      "<class 'pandas.core.frame.DataFrame'>\n",
      "RangeIndex: 672 entries, 0 to 671\n",
      "Data columns (total 15 columns):\n",
      " #   Column             Non-Null Count  Dtype  \n",
      "---  ------             --------------  -----  \n",
      " 0   index              672 non-null    int64  \n",
      " 1   Job Title          672 non-null    object \n",
      " 2   Salary Estimate    672 non-null    object \n",
      " 3   Job Description    672 non-null    object \n",
      " 4   Rating             672 non-null    float64\n",
      " 5   Company Name       672 non-null    object \n",
      " 6   Location           672 non-null    object \n",
      " 7   Headquarters       672 non-null    object \n",
      " 8   Size               672 non-null    object \n",
      " 9   Founded            672 non-null    int64  \n",
      " 10  Type of ownership  672 non-null    object \n",
      " 11  Industry           672 non-null    object \n",
      " 12  Sector             672 non-null    object \n",
      " 13  Revenue            672 non-null    object \n",
      " 14  Competitors        672 non-null    object \n",
      "dtypes: float64(1), int64(2), object(12)\n",
      "memory usage: 78.9+ KB\n"
     ]
    }
   ],
   "source": [
    "cleaned_data.info()"
   ]
  },
  {
   "cell_type": "code",
   "execution_count": 343,
   "metadata": {},
   "outputs": [
    {
     "name": "stdout",
     "output_type": "stream",
     "text": [
      "index                0\n",
      "Job Title            0\n",
      "Salary Estimate      0\n",
      "Job Description      0\n",
      "Rating               0\n",
      "Company Name         0\n",
      "Location             0\n",
      "Headquarters         0\n",
      "Size                 0\n",
      "Founded              0\n",
      "Type of ownership    0\n",
      "Industry             0\n",
      "Sector               0\n",
      "Revenue              0\n",
      "Competitors          0\n",
      "dtype: int64\n"
     ]
    }
   ],
   "source": [
    "# Check for missing null values\n",
    "print(cleaned_data.isnull().sum())"
   ]
  },
  {
   "cell_type": "code",
   "execution_count": 344,
   "metadata": {},
   "outputs": [
    {
     "data": {
      "text/html": [
       "<div>\n",
       "<style scoped>\n",
       "    .dataframe tbody tr th:only-of-type {\n",
       "        vertical-align: middle;\n",
       "    }\n",
       "\n",
       "    .dataframe tbody tr th {\n",
       "        vertical-align: top;\n",
       "    }\n",
       "\n",
       "    .dataframe thead th {\n",
       "        text-align: right;\n",
       "    }\n",
       "</style>\n",
       "<table border=\"1\" class=\"dataframe\">\n",
       "  <thead>\n",
       "    <tr style=\"text-align: right;\">\n",
       "      <th></th>\n",
       "      <th>index</th>\n",
       "      <th>Rating</th>\n",
       "      <th>Founded</th>\n",
       "    </tr>\n",
       "  </thead>\n",
       "  <tbody>\n",
       "    <tr>\n",
       "      <th>count</th>\n",
       "      <td>672.000000</td>\n",
       "      <td>672.000000</td>\n",
       "      <td>672.000000</td>\n",
       "    </tr>\n",
       "    <tr>\n",
       "      <th>mean</th>\n",
       "      <td>335.500000</td>\n",
       "      <td>3.518601</td>\n",
       "      <td>1635.529762</td>\n",
       "    </tr>\n",
       "    <tr>\n",
       "      <th>std</th>\n",
       "      <td>194.133974</td>\n",
       "      <td>1.410329</td>\n",
       "      <td>756.746640</td>\n",
       "    </tr>\n",
       "    <tr>\n",
       "      <th>min</th>\n",
       "      <td>0.000000</td>\n",
       "      <td>-1.000000</td>\n",
       "      <td>-1.000000</td>\n",
       "    </tr>\n",
       "    <tr>\n",
       "      <th>25%</th>\n",
       "      <td>167.750000</td>\n",
       "      <td>3.300000</td>\n",
       "      <td>1917.750000</td>\n",
       "    </tr>\n",
       "    <tr>\n",
       "      <th>50%</th>\n",
       "      <td>335.500000</td>\n",
       "      <td>3.800000</td>\n",
       "      <td>1995.000000</td>\n",
       "    </tr>\n",
       "    <tr>\n",
       "      <th>75%</th>\n",
       "      <td>503.250000</td>\n",
       "      <td>4.300000</td>\n",
       "      <td>2009.000000</td>\n",
       "    </tr>\n",
       "    <tr>\n",
       "      <th>max</th>\n",
       "      <td>671.000000</td>\n",
       "      <td>5.000000</td>\n",
       "      <td>2019.000000</td>\n",
       "    </tr>\n",
       "  </tbody>\n",
       "</table>\n",
       "</div>"
      ],
      "text/plain": [
       "            index      Rating      Founded\n",
       "count  672.000000  672.000000   672.000000\n",
       "mean   335.500000    3.518601  1635.529762\n",
       "std    194.133974    1.410329   756.746640\n",
       "min      0.000000   -1.000000    -1.000000\n",
       "25%    167.750000    3.300000  1917.750000\n",
       "50%    335.500000    3.800000  1995.000000\n",
       "75%    503.250000    4.300000  2009.000000\n",
       "max    671.000000    5.000000  2019.000000"
      ]
     },
     "execution_count": 344,
     "metadata": {},
     "output_type": "execute_result"
    }
   ],
   "source": [
    "cleaned_data.describe()"
   ]
  },
  {
   "cell_type": "markdown",
   "metadata": {},
   "source": [
    "* Notice the min values of both the Rating and Founded is -1.\n",
    "* Plus we don't need the index column."
   ]
  },
  {
   "cell_type": "markdown",
   "metadata": {},
   "source": [
    "Drop Unnecessary Columns: Index, Competitors \\\n",
    "Both Columns are irrelevant \n"
   ]
  },
  {
   "cell_type": "code",
   "execution_count": 345,
   "metadata": {},
   "outputs": [],
   "source": [
    "# drop the index, Competitors cols.\n",
    "cleaned_data.drop(['index'], axis=1, inplace=True)\n",
    "cleaned_data.drop(['Competitors'], axis=1, inplace=True)"
   ]
  },
  {
   "cell_type": "markdown",
   "metadata": {},
   "source": [
    "#### Handling Null Values"
   ]
  },
  {
   "cell_type": "code",
   "execution_count": 346,
   "metadata": {},
   "outputs": [
    {
     "name": "stdout",
     "output_type": "stream",
     "text": [
      "Job Title            0\n",
      "Salary Estimate      0\n",
      "Job Description      0\n",
      "Rating               0\n",
      "Company Name         0\n",
      "Location             0\n",
      "Headquarters         0\n",
      "Size                 0\n",
      "Founded              0\n",
      "Type of ownership    0\n",
      "Industry             0\n",
      "Sector               0\n",
      "Revenue              0\n",
      "dtype: int64\n"
     ]
    }
   ],
   "source": [
    "# Check for missing values\n",
    "print(cleaned_data.isnull().sum())"
   ]
  },
  {
   "cell_type": "markdown",
   "metadata": {},
   "source": [
    "* It's clear that we don't have any null values in the dataset"
   ]
  },
  {
   "cell_type": "code",
   "execution_count": 347,
   "metadata": {},
   "outputs": [
    {
     "data": {
      "text/plain": [
       "Job Title            False\n",
       "Salary Estimate      False\n",
       "Job Description      False\n",
       "Rating               False\n",
       "Company Name         False\n",
       "Location             False\n",
       "Headquarters         False\n",
       "Size                 False\n",
       "Founded              False\n",
       "Type of ownership    False\n",
       "Industry             False\n",
       "Sector               False\n",
       "Revenue              False\n",
       "dtype: bool"
      ]
     },
     "execution_count": 347,
     "metadata": {},
     "output_type": "execute_result"
    }
   ],
   "source": [
    "# Check if any column contains infinite values\n",
    "cleaned_data.isin([np.inf, -np.inf]).any()"
   ]
  },
  {
   "cell_type": "markdown",
   "metadata": {},
   "source": [
    "* Dataset doesn't contain infinity.\n",
    "***"
   ]
  },
  {
   "cell_type": "markdown",
   "metadata": {},
   "source": [
    "### Clean and Standardize Columns"
   ]
  },
  {
   "cell_type": "markdown",
   "metadata": {},
   "source": [
    "##### Handling the Job Title Col."
   ]
  },
  {
   "cell_type": "code",
   "execution_count": 348,
   "metadata": {},
   "outputs": [
    {
     "data": {
      "text/plain": [
       "Job Title\n",
       "Data Scientist                                            337\n",
       "Data Engineer                                              26\n",
       "Senior Data Scientist                                      19\n",
       "Machine Learning Engineer                                  16\n",
       "Data Analyst                                               12\n",
       "                                                         ... \n",
       "Data Science Instructor                                     1\n",
       "Business Data Analyst                                       1\n",
       "Purification Scientist                                      1\n",
       "Data Engineer, Enterprise Analytics                         1\n",
       "AI/ML - Machine Learning Scientist, Siri Understanding      1\n",
       "Name: count, Length: 172, dtype: int64"
      ]
     },
     "execution_count": 348,
     "metadata": {},
     "output_type": "execute_result"
    }
   ],
   "source": [
    "cleaned_data['Job Title'].value_counts()"
   ]
  },
  {
   "cell_type": "code",
   "execution_count": 349,
   "metadata": {},
   "outputs": [
    {
     "data": {
      "text/plain": [
       "array(['Sr Data Scientist', 'Data Scientist',\n",
       "       'Data Scientist / Machine Learning Expert',\n",
       "       'Staff Data Scientist - Analytics',\n",
       "       'Data Scientist - Statistics, Early Career', 'Data Modeler',\n",
       "       'Experienced Data Scientist', 'Data Scientist - Contract',\n",
       "       'Data Analyst II', 'Medical Lab Scientist',\n",
       "       'Data Scientist/Machine Learning', 'Human Factors Scientist',\n",
       "       'Business Intelligence Analyst I- Data Insights',\n",
       "       'Data Scientist - Risk', 'Data Scientist-Human Resources',\n",
       "       'Senior Research Statistician- Data Scientist', 'Data Engineer',\n",
       "       'Associate Data Scientist', 'Business Intelligence Analyst',\n",
       "       'Senior Analyst/Data Scientist', 'Data Analyst',\n",
       "       'Machine Learning Engineer', 'Data Analyst I',\n",
       "       'Scientist - Molecular Biology',\n",
       "       'Computational Scientist, Machine Learning',\n",
       "       'Senior Data Scientist', 'Jr. Data Engineer',\n",
       "       'E-Commerce Data Analyst', 'Data Analytics Engineer',\n",
       "       'Product Data Scientist - Ads Data Science',\n",
       "       'Data Scientist - Intermediate', 'Global Data Analyst',\n",
       "       'Data & Machine Learning Scientist',\n",
       "       'Data Scientist - Machine Learning', 'Data Engineer (Remote)',\n",
       "       'Data Scientist, Applied Machine Learning - Bay Area',\n",
       "       'Principal Data Scientist', 'Business Data Analyst',\n",
       "       'Purification Scientist', 'Data Engineer, Enterprise Analytics',\n",
       "       'Data Scientist 3 (718)', 'Real World Science, Data Scientist',\n",
       "       'Data Scientist - Image and Video Analytics',\n",
       "       'Data Science Manager, Payment Acceptance - USA',\n",
       "       'Data Scientist / Applied Mathematician',\n",
       "       'Patient Safety- Associate Data Scientist',\n",
       "       '(Sr.) Data Scientist -', 'Data Scientist, Kinship - NYC/Portland',\n",
       "       'Applied Technology Researcher / Data Scientist',\n",
       "       'Health Data Scientist - Biomedical/Biostats',\n",
       "       'Staff Data Scientist', 'Sr Data Engineer (Sr BI Developer)',\n",
       "       'Lead Data Scientist', 'RFP Data Analyst',\n",
       "       'Data Scientist (TS/SCI)', 'Software Engineer - Data Science',\n",
       "       'Data Analyst/Engineer', 'NGS Scientist', 'Senior Data Engineer',\n",
       "       'Sr. ML/Data Scientist - AI/NLP/Chatbot',\n",
       "       'Data Integration and Modeling Engineer',\n",
       "       'Tableau Data Engineer 20-0117', 'AI Data Scientist',\n",
       "       'Research Scientist Patient Preferences (Remote)',\n",
       "       'Scientist - Biomarker and Flow Cytometry', 'Analytics Manager',\n",
       "       'Staff Scientist- Upstream PD',\n",
       "       'Sr Scientist - Extractables & Leachables',\n",
       "       'ELISA RESEARCH SCIENTIST (CV-15)', 'Say Business Data Analyst',\n",
       "       'Geospatial Data Scientist', 'Computational Scientist',\n",
       "       'Senior Data Analyst', 'Sr Data Analyst',\n",
       "       'Machine Learning Scientist - Bay Area, CA',\n",
       "       'Senior Data Scientist - Algorithms',\n",
       "       'Senior Data & Machine Learning Scientist',\n",
       "       'Research Scientist - Patient-Centered Research (Remote)',\n",
       "       'Jr. Business Data Analyst (position added 6/12/2020)',\n",
       "       'Sr. Data Scientist II',\n",
       "       'Production Engineer - Statistics/Data Analysis',\n",
       "       'Statistical Scientist', 'Computational Behavioral Scientist',\n",
       "       'Principal Data Scientist - Machine Learning',\n",
       "       'Principal Machine Learning Scientist',\n",
       "       'Senior Data Scientist - R&D Oncology',\n",
       "       'Health Plan Data Analyst, Sr',\n",
       "       'Principal Scientist/Associate Director, Quality Control and Analytical Technologies',\n",
       "       'Analytics - Business Assurance Data Analyst',\n",
       "       'Senior Data Scientist – Image Analytics, Novartis AI Innovation Lab',\n",
       "       'Data Science Instructor', 'Senior Business Intelligence Analyst',\n",
       "       'In-Line Inspection Data Analyst',\n",
       "       'Data Scientist - TS/SCI FSP or CI Required',\n",
       "       'Data Scientist - TS/SCI Required',\n",
       "       'Data Science Software Engineer',\n",
       "       'ENGINEER - COMPUTER SCIENTIST - RESEARCH COMPUTER SCIENTIST - SIGNAL PROCESSING - SAN ANTONIO OR',\n",
       "       'AI Ops Data Scientist', 'Intelligence Data Analyst, Senior',\n",
       "       'Analytics Manager - Data Mart',\n",
       "       'Data Modeler (Analytical Systems)',\n",
       "       'Senior Machine Learning Scientist - Bay Area, CA',\n",
       "       'Report Writer-Data Analyst', 'Staff Data Scientist - Pricing',\n",
       "       'Equity Data Insights Analyst - Quantitative Analyst',\n",
       "       'Operations Data Analyst', 'Software Data Engineer',\n",
       "       'Real World Evidence (RWE) Scientist', 'Computer Scientist 1',\n",
       "       'Environmental Data Science', 'Staff BI and Data Engineer',\n",
       "       'Data Scientist - Statistics, Mid-Career',\n",
       "       'Director of Data Science',\n",
       "       'Data Engineer, Digital & Comp Pathology',\n",
       "       'Manager / Lead, Data Science & Analytics',\n",
       "       'Diversity and Inclusion Data Analyst',\n",
       "       'Data Scientist Machine Learning', 'Chief Scientist',\n",
       "       'Development Scientist, Voltaren',\n",
       "       'Principal Data & Analytics Platform Engineer',\n",
       "       'Machine Learning Engineer/Scientist',\n",
       "       'Data Analyst - Unilever Prestige', 'VP, Data Science',\n",
       "       'Data Engineer - Kafka', 'Decision Scientist',\n",
       "       'Data Science All Star Program - Data Engineer Track',\n",
       "       'Scientist - Machine Learning', 'Sr. Data Scientist',\n",
       "       'Applied AI Scientist / Engineer',\n",
       "       'Data Engineer (Analytics, SQL, Python, AWS)',\n",
       "       'Senior Data Analyst - Finance & Platform Analytics',\n",
       "       'Market Research Data Scientist',\n",
       "       'IT Partner Digital Health Technology and Data Science',\n",
       "       'Software Engineer (Data Scientist, C,C++,Linux,Unix) - SISW - MG',\n",
       "       'Senior Clinical Data Scientist Programmer',\n",
       "       'Computer Vision / Deep Learning Scientist',\n",
       "       'Data Solutions Engineer - Data Modeler',\n",
       "       'Data Scientist (TS/SCI w/ Poly)',\n",
       "       'Weapons and Sensors Engineer/Scientist',\n",
       "       'Applied Computer Scientist', 'Cloud Data Engineer (Azure)',\n",
       "       'Lead Certified Clinical Laboratory Scientist - Saturday - Tuesday, 8:00pm - 6:30am shift',\n",
       "       'Sr. Data Analyst',\n",
       "       'Senior Scientist - Toxicologist - Product Integrity (Stewardship)',\n",
       "       'Senior Machine Learning Engineer',\n",
       "       'Data Scientist- Industrial Discrete Sector Industry',\n",
       "       'Senior Principal Data Scientist (Python/R)',\n",
       "       'Data Scientist(s)/Machine Learning Engineer',\n",
       "       'Scientist / Group Lead, Cancer Biology',\n",
       "       'Manager, Field Application Scientist, Southeast',\n",
       "       'COMPUTER SCIENTIST - ENGINEER - RESEARCH COMPUTER SCIENTIST - SIGNAL PROCESSING',\n",
       "       'Machine Learning Scientist / Engineer', 'Data Science Analyst',\n",
       "       'COMPUTER SCIENTIST - ENGINEER - RESEARCH COMPUTER SCIENTIST - TRANSPORTATION TECHNOLOGY',\n",
       "       'Software Engineer - Machine Learning & Data Science (Applied Intelligence Services Team)',\n",
       "       'Clinical Data Analyst', 'Data Scientist Technical Specialist',\n",
       "       'Data Science Manager', 'Big Data Engineer', 'Data Architect',\n",
       "       'Aviation AI/ML Data Scientist', 'Machine Learning Engineer, Sr.',\n",
       "       'Information Systems Engineering Specialist (Engineering Scientist)',\n",
       "       'Scientist/Research Associate-Metabolic Engineering',\n",
       "       'Vice President, Biometrics and Clinical Data Management',\n",
       "       'Enterprise Data Analyst (Enterprise Portfolio Management Office)',\n",
       "       'Lead Data Scientist – Network Analysis and Control',\n",
       "       'Sr. Research Associate/ Scientist, NGS prep & Molecular Genomics',\n",
       "       'Developer III - Data Science',\n",
       "       'Hydrogen/Tritium Materials Scientist (Experienced)',\n",
       "       'Data Scientist/Data Analytics Practitioner',\n",
       "       'AI/ML - Machine Learning Scientist, Siri Understanding'],\n",
       "      dtype=object)"
      ]
     },
     "execution_count": 349,
     "metadata": {},
     "output_type": "execute_result"
    }
   ],
   "source": [
    "\n",
    "cleaned_data['Job Title'].unique()"
   ]
  },
  {
   "cell_type": "markdown",
   "metadata": {},
   "source": [
    "* We observe that the job tiles consists of primarly Data Scientist, Data Engineer, Machine Learning, Data Analyst etc.\n",
    "* We can classify Job tiles to make the data set more comprehnisive. \n",
    "* We can create new feature about the seniority of the job i.e., Junior, Senior etc.  \n"
   ]
  },
  {
   "cell_type": "code",
   "execution_count": 350,
   "metadata": {},
   "outputs": [],
   "source": [
    "# Function to classify the job title col.\n",
    "def job_title_classifier(title):\n",
    "\n",
    "    if 'data scientist' in title.lower() or 'data science' in title.lower(): \n",
    "        return 'Data Scientist'\n",
    "    elif 'data engineer' in title.lower():\n",
    "        return 'Data Engineer'\n",
    "    elif 'analyst' in title.lower():\n",
    "        return 'Data Analyst'\n",
    "    elif 'deep learning' in title.lower():\n",
    "        return 'Deep Learning Scientist'\n",
    "    elif 'machine learning' in title.lower():\n",
    "        return 'Machine Learning Engineer'\n",
    "    elif 'manager' in title.lower():\n",
    "        return 'Manager'\n",
    "    elif 'director' in title.lower():\n",
    "        return 'Director'\n",
    "    else:\n",
    "        return 'NA'"
   ]
  },
  {
   "cell_type": "code",
   "execution_count": 351,
   "metadata": {},
   "outputs": [
    {
     "data": {
      "text/plain": [
       "Job_Title_Simplified\n",
       "Data Scientist               474\n",
       "NA                            55\n",
       "Data Analyst                  54\n",
       "Data Engineer                 46\n",
       "Machine Learning Engineer     35\n",
       "Manager                        4\n",
       "Director                       2\n",
       "Deep Learning Scientist        2\n",
       "Name: count, dtype: int64"
      ]
     },
     "execution_count": 351,
     "metadata": {},
     "output_type": "execute_result"
    }
   ],
   "source": [
    "cleaned_data['Job_Title_Simplified'] = cleaned_data['Job Title'].apply(job_title_classifier)\n",
    "cleaned_data['Job_Title_Simplified'].value_counts()"
   ]
  },
  {
   "cell_type": "code",
   "execution_count": 352,
   "metadata": {},
   "outputs": [],
   "source": [
    "# To classify the seniority of the job\n",
    "senior = ['senior', 'sr', 'sr.', 'lead', 'principal' ]\n",
    "junior = ['junior', 'jr', 'jr.']\n",
    "def seniority_classifier(title):\n",
    "    if any(item in title.lower() for item in senior):\n",
    "            return 'Senior'\n",
    "    elif any(item in title.lower() for item in junior):\n",
    "        return 'Junior'\n",
    "    else:\n",
    "        return 'NA'"
   ]
  },
  {
   "cell_type": "code",
   "execution_count": 353,
   "metadata": {},
   "outputs": [
    {
     "data": {
      "text/plain": [
       "Job_Seniority\n",
       "NA        576\n",
       "Senior     94\n",
       "Junior      2\n",
       "Name: count, dtype: int64"
      ]
     },
     "execution_count": 353,
     "metadata": {},
     "output_type": "execute_result"
    }
   ],
   "source": [
    "cleaned_data['Job_Seniority'] = cleaned_data['Job Title'].apply(seniority_classifier)\n",
    "cleaned_data['Job_Seniority'].value_counts()"
   ]
  },
  {
   "cell_type": "markdown",
   "metadata": {},
   "source": [
    "\n",
    "***\n",
    "#### Handling the Salary Estimate Col.\n"
   ]
  },
  {
   "cell_type": "code",
   "execution_count": 354,
   "metadata": {},
   "outputs": [
    {
     "data": {
      "text/plain": [
       "Salary Estimate\n",
       "$79K-$131K (Glassdoor est.)     32\n",
       "$99K-$132K (Glassdoor est.)     32\n",
       "$75K-$131K (Glassdoor est.)     32\n",
       "$137K-$171K (Glassdoor est.)    30\n",
       "$90K-$109K (Glassdoor est.)     30\n",
       "$56K-$97K (Glassdoor est.)      22\n",
       "$79K-$106K (Glassdoor est.)     22\n",
       "$90K-$124K (Glassdoor est.)     22\n",
       "$110K-$163K (Glassdoor est.)    21\n",
       "$92K-$155K (Glassdoor est.)     21\n",
       "$138K-$158K (Glassdoor est.)    21\n",
       "$128K-$201K (Glassdoor est.)    21\n",
       "$212K-$331K (Glassdoor est.)    21\n",
       "$95K-$119K (Glassdoor est.)     21\n",
       "$69K-$116K (Glassdoor est.)     21\n",
       "$124K-$198K (Glassdoor est.)    21\n",
       "$112K-$116K (Glassdoor est.)    21\n",
       "$122K-$146K (Glassdoor est.)    21\n",
       "$91K-$150K (Glassdoor est.)     21\n",
       "$101K-$165K (Glassdoor est.)    21\n",
       "$79K-$147K (Glassdoor est.)     20\n",
       "$31K-$56K (Glassdoor est.)      20\n",
       "$145K-$225K(Employer est.)      20\n",
       "$141K-$225K (Glassdoor est.)    20\n",
       "$66K-$112K (Glassdoor est.)     20\n",
       "$80K-$132K (Glassdoor est.)     20\n",
       "$87K-$141K (Glassdoor est.)     20\n",
       "$105K-$167K (Glassdoor est.)    20\n",
       "$79K-$133K (Glassdoor est.)     19\n",
       "$71K-$123K (Glassdoor est.)     19\n",
       "Name: count, dtype: int64"
      ]
     },
     "execution_count": 354,
     "metadata": {},
     "output_type": "execute_result"
    }
   ],
   "source": [
    "cleaned_data['Salary Estimate'].value_counts()"
   ]
  },
  {
   "cell_type": "code",
   "execution_count": 355,
   "metadata": {},
   "outputs": [
    {
     "data": {
      "text/plain": [
       "array(['$137K-$171K (Glassdoor est.)', '$75K-$131K (Glassdoor est.)',\n",
       "       '$79K-$131K (Glassdoor est.)', '$99K-$132K (Glassdoor est.)',\n",
       "       '$90K-$109K (Glassdoor est.)', '$101K-$165K (Glassdoor est.)',\n",
       "       '$56K-$97K (Glassdoor est.)', '$79K-$106K (Glassdoor est.)',\n",
       "       '$71K-$123K (Glassdoor est.)', '$90K-$124K (Glassdoor est.)',\n",
       "       '$91K-$150K (Glassdoor est.)', '$141K-$225K (Glassdoor est.)',\n",
       "       '$145K-$225K(Employer est.)', '$79K-$147K (Glassdoor est.)',\n",
       "       '$122K-$146K (Glassdoor est.)', '$112K-$116K (Glassdoor est.)',\n",
       "       '$110K-$163K (Glassdoor est.)', '$124K-$198K (Glassdoor est.)',\n",
       "       '$79K-$133K (Glassdoor est.)', '$69K-$116K (Glassdoor est.)',\n",
       "       '$31K-$56K (Glassdoor est.)', '$95K-$119K (Glassdoor est.)',\n",
       "       '$212K-$331K (Glassdoor est.)', '$66K-$112K (Glassdoor est.)',\n",
       "       '$128K-$201K (Glassdoor est.)', '$138K-$158K (Glassdoor est.)',\n",
       "       '$80K-$132K (Glassdoor est.)', '$87K-$141K (Glassdoor est.)',\n",
       "       '$92K-$155K (Glassdoor est.)', '$105K-$167K (Glassdoor est.)'],\n",
       "      dtype=object)"
      ]
     },
     "execution_count": 355,
     "metadata": {},
     "output_type": "execute_result"
    }
   ],
   "source": [
    "cleaned_data['Salary Estimate'].unique()"
   ]
  },
  {
   "cell_type": "markdown",
   "metadata": {},
   "source": [
    "* It will be good if only keep the salary range without the additional un-nessaccery info."
   ]
  },
  {
   "cell_type": "code",
   "execution_count": 356,
   "metadata": {},
   "outputs": [],
   "source": [
    "# We split the whole Salary and we keep only the part with the digit e.g. $137K-$171K\n",
    "cleaned_data['Salary Estimate'] = cleaned_data['Salary Estimate'].apply(lambda salary: salary.split('(')[0] )\n",
    "# We replace the \"$\" with empty string\n",
    "cleaned_data['Salary Estimate'] = cleaned_data['Salary Estimate'].apply(lambda salary: salary.replace('$', '') )\n",
    "# We replace the \"K\" with empty string\n",
    "cleaned_data['Salary Estimate'] = cleaned_data['Salary Estimate'].apply(lambda salary: salary.replace('K', '') )\n"
   ]
  },
  {
   "cell_type": "code",
   "execution_count": 357,
   "metadata": {},
   "outputs": [
    {
     "data": {
      "text/html": [
       "<div>\n",
       "<style scoped>\n",
       "    .dataframe tbody tr th:only-of-type {\n",
       "        vertical-align: middle;\n",
       "    }\n",
       "\n",
       "    .dataframe tbody tr th {\n",
       "        vertical-align: top;\n",
       "    }\n",
       "\n",
       "    .dataframe thead th {\n",
       "        text-align: right;\n",
       "    }\n",
       "</style>\n",
       "<table border=\"1\" class=\"dataframe\">\n",
       "  <thead>\n",
       "    <tr style=\"text-align: right;\">\n",
       "      <th></th>\n",
       "      <th>Job Title</th>\n",
       "      <th>Salary Estimate</th>\n",
       "      <th>Job Description</th>\n",
       "      <th>Rating</th>\n",
       "      <th>Company Name</th>\n",
       "      <th>Location</th>\n",
       "      <th>Headquarters</th>\n",
       "      <th>Size</th>\n",
       "      <th>Founded</th>\n",
       "      <th>Type of ownership</th>\n",
       "      <th>Industry</th>\n",
       "      <th>Sector</th>\n",
       "      <th>Revenue</th>\n",
       "      <th>Job_Title_Simplified</th>\n",
       "      <th>Job_Seniority</th>\n",
       "    </tr>\n",
       "  </thead>\n",
       "  <tbody>\n",
       "    <tr>\n",
       "      <th>0</th>\n",
       "      <td>Sr Data Scientist</td>\n",
       "      <td>137-171</td>\n",
       "      <td>Description\\n\\nThe Senior Data Scientist is re...</td>\n",
       "      <td>3.1</td>\n",
       "      <td>Healthfirst\\n3.1</td>\n",
       "      <td>New York, NY</td>\n",
       "      <td>New York, NY</td>\n",
       "      <td>1001 to 5000 employees</td>\n",
       "      <td>1993</td>\n",
       "      <td>Nonprofit Organization</td>\n",
       "      <td>Insurance Carriers</td>\n",
       "      <td>Insurance</td>\n",
       "      <td>Unknown / Non-Applicable</td>\n",
       "      <td>Data Scientist</td>\n",
       "      <td>Senior</td>\n",
       "    </tr>\n",
       "    <tr>\n",
       "      <th>1</th>\n",
       "      <td>Data Scientist</td>\n",
       "      <td>137-171</td>\n",
       "      <td>Secure our Nation, Ignite your Future\\n\\nJoin ...</td>\n",
       "      <td>4.2</td>\n",
       "      <td>ManTech\\n4.2</td>\n",
       "      <td>Chantilly, VA</td>\n",
       "      <td>Herndon, VA</td>\n",
       "      <td>5001 to 10000 employees</td>\n",
       "      <td>1968</td>\n",
       "      <td>Company - Public</td>\n",
       "      <td>Research &amp; Development</td>\n",
       "      <td>Business Services</td>\n",
       "      <td>$1 to $2 billion (USD)</td>\n",
       "      <td>Data Scientist</td>\n",
       "      <td>NA</td>\n",
       "    </tr>\n",
       "    <tr>\n",
       "      <th>2</th>\n",
       "      <td>Data Scientist</td>\n",
       "      <td>137-171</td>\n",
       "      <td>Overview\\n\\n\\nAnalysis Group is one of the lar...</td>\n",
       "      <td>3.8</td>\n",
       "      <td>Analysis Group\\n3.8</td>\n",
       "      <td>Boston, MA</td>\n",
       "      <td>Boston, MA</td>\n",
       "      <td>1001 to 5000 employees</td>\n",
       "      <td>1981</td>\n",
       "      <td>Private Practice / Firm</td>\n",
       "      <td>Consulting</td>\n",
       "      <td>Business Services</td>\n",
       "      <td>$100 to $500 million (USD)</td>\n",
       "      <td>Data Scientist</td>\n",
       "      <td>NA</td>\n",
       "    </tr>\n",
       "    <tr>\n",
       "      <th>3</th>\n",
       "      <td>Data Scientist</td>\n",
       "      <td>137-171</td>\n",
       "      <td>JOB DESCRIPTION:\\n\\nDo you have a passion for ...</td>\n",
       "      <td>3.5</td>\n",
       "      <td>INFICON\\n3.5</td>\n",
       "      <td>Newton, MA</td>\n",
       "      <td>Bad Ragaz, Switzerland</td>\n",
       "      <td>501 to 1000 employees</td>\n",
       "      <td>2000</td>\n",
       "      <td>Company - Public</td>\n",
       "      <td>Electrical &amp; Electronic Manufacturing</td>\n",
       "      <td>Manufacturing</td>\n",
       "      <td>$100 to $500 million (USD)</td>\n",
       "      <td>Data Scientist</td>\n",
       "      <td>NA</td>\n",
       "    </tr>\n",
       "    <tr>\n",
       "      <th>4</th>\n",
       "      <td>Data Scientist</td>\n",
       "      <td>137-171</td>\n",
       "      <td>Data Scientist\\nAffinity Solutions / Marketing...</td>\n",
       "      <td>2.9</td>\n",
       "      <td>Affinity Solutions\\n2.9</td>\n",
       "      <td>New York, NY</td>\n",
       "      <td>New York, NY</td>\n",
       "      <td>51 to 200 employees</td>\n",
       "      <td>1998</td>\n",
       "      <td>Company - Private</td>\n",
       "      <td>Advertising &amp; Marketing</td>\n",
       "      <td>Business Services</td>\n",
       "      <td>Unknown / Non-Applicable</td>\n",
       "      <td>Data Scientist</td>\n",
       "      <td>NA</td>\n",
       "    </tr>\n",
       "  </tbody>\n",
       "</table>\n",
       "</div>"
      ],
      "text/plain": [
       "           Job Title Salary Estimate  \\\n",
       "0  Sr Data Scientist        137-171    \n",
       "1     Data Scientist        137-171    \n",
       "2     Data Scientist        137-171    \n",
       "3     Data Scientist        137-171    \n",
       "4     Data Scientist        137-171    \n",
       "\n",
       "                                     Job Description  Rating  \\\n",
       "0  Description\\n\\nThe Senior Data Scientist is re...     3.1   \n",
       "1  Secure our Nation, Ignite your Future\\n\\nJoin ...     4.2   \n",
       "2  Overview\\n\\n\\nAnalysis Group is one of the lar...     3.8   \n",
       "3  JOB DESCRIPTION:\\n\\nDo you have a passion for ...     3.5   \n",
       "4  Data Scientist\\nAffinity Solutions / Marketing...     2.9   \n",
       "\n",
       "              Company Name       Location            Headquarters  \\\n",
       "0         Healthfirst\\n3.1   New York, NY            New York, NY   \n",
       "1             ManTech\\n4.2  Chantilly, VA             Herndon, VA   \n",
       "2      Analysis Group\\n3.8     Boston, MA              Boston, MA   \n",
       "3             INFICON\\n3.5     Newton, MA  Bad Ragaz, Switzerland   \n",
       "4  Affinity Solutions\\n2.9   New York, NY            New York, NY   \n",
       "\n",
       "                      Size  Founded        Type of ownership  \\\n",
       "0   1001 to 5000 employees     1993   Nonprofit Organization   \n",
       "1  5001 to 10000 employees     1968         Company - Public   \n",
       "2   1001 to 5000 employees     1981  Private Practice / Firm   \n",
       "3    501 to 1000 employees     2000         Company - Public   \n",
       "4      51 to 200 employees     1998        Company - Private   \n",
       "\n",
       "                                Industry             Sector  \\\n",
       "0                     Insurance Carriers          Insurance   \n",
       "1                 Research & Development  Business Services   \n",
       "2                             Consulting  Business Services   \n",
       "3  Electrical & Electronic Manufacturing      Manufacturing   \n",
       "4                Advertising & Marketing  Business Services   \n",
       "\n",
       "                      Revenue Job_Title_Simplified Job_Seniority  \n",
       "0    Unknown / Non-Applicable       Data Scientist        Senior  \n",
       "1      $1 to $2 billion (USD)       Data Scientist            NA  \n",
       "2  $100 to $500 million (USD)       Data Scientist            NA  \n",
       "3  $100 to $500 million (USD)       Data Scientist            NA  \n",
       "4    Unknown / Non-Applicable       Data Scientist            NA  "
      ]
     },
     "execution_count": 357,
     "metadata": {},
     "output_type": "execute_result"
    }
   ],
   "source": [
    "cleaned_data.head()"
   ]
  },
  {
   "cell_type": "code",
   "execution_count": 358,
   "metadata": {},
   "outputs": [],
   "source": [
    "# We will create three cols. Min, Max and Average Salary\n",
    "cleaned_data['Max_Salary_Estimate'] = cleaned_data['Salary Estimate'].apply(lambda x : int(x.split('-')[1]))\n",
    "cleaned_data['Min_Salary_Estimate'] = cleaned_data['Salary Estimate'].apply(lambda x : int(x.split('-')[0]))\n",
    "cleaned_data['Avg_Salary_Estimate'] = (cleaned_data['Max_Salary_Estimate'] + cleaned_data['Min_Salary_Estimate'])//2"
   ]
  },
  {
   "cell_type": "code",
   "execution_count": 359,
   "metadata": {},
   "outputs": [
    {
     "data": {
      "text/html": [
       "<div>\n",
       "<style scoped>\n",
       "    .dataframe tbody tr th:only-of-type {\n",
       "        vertical-align: middle;\n",
       "    }\n",
       "\n",
       "    .dataframe tbody tr th {\n",
       "        vertical-align: top;\n",
       "    }\n",
       "\n",
       "    .dataframe thead th {\n",
       "        text-align: right;\n",
       "    }\n",
       "</style>\n",
       "<table border=\"1\" class=\"dataframe\">\n",
       "  <thead>\n",
       "    <tr style=\"text-align: right;\">\n",
       "      <th></th>\n",
       "      <th>Job Title</th>\n",
       "      <th>Salary Estimate</th>\n",
       "      <th>Job Description</th>\n",
       "      <th>Rating</th>\n",
       "      <th>Company Name</th>\n",
       "      <th>Location</th>\n",
       "      <th>Headquarters</th>\n",
       "      <th>Size</th>\n",
       "      <th>Founded</th>\n",
       "      <th>Type of ownership</th>\n",
       "      <th>Industry</th>\n",
       "      <th>Sector</th>\n",
       "      <th>Revenue</th>\n",
       "      <th>Job_Title_Simplified</th>\n",
       "      <th>Job_Seniority</th>\n",
       "      <th>Max_Salary_Estimate</th>\n",
       "      <th>Min_Salary_Estimate</th>\n",
       "      <th>Avg_Salary_Estimate</th>\n",
       "    </tr>\n",
       "  </thead>\n",
       "  <tbody>\n",
       "    <tr>\n",
       "      <th>0</th>\n",
       "      <td>Sr Data Scientist</td>\n",
       "      <td>137-171</td>\n",
       "      <td>Description\\n\\nThe Senior Data Scientist is re...</td>\n",
       "      <td>3.1</td>\n",
       "      <td>Healthfirst\\n3.1</td>\n",
       "      <td>New York, NY</td>\n",
       "      <td>New York, NY</td>\n",
       "      <td>1001 to 5000 employees</td>\n",
       "      <td>1993</td>\n",
       "      <td>Nonprofit Organization</td>\n",
       "      <td>Insurance Carriers</td>\n",
       "      <td>Insurance</td>\n",
       "      <td>Unknown / Non-Applicable</td>\n",
       "      <td>Data Scientist</td>\n",
       "      <td>Senior</td>\n",
       "      <td>171</td>\n",
       "      <td>137</td>\n",
       "      <td>154</td>\n",
       "    </tr>\n",
       "    <tr>\n",
       "      <th>1</th>\n",
       "      <td>Data Scientist</td>\n",
       "      <td>137-171</td>\n",
       "      <td>Secure our Nation, Ignite your Future\\n\\nJoin ...</td>\n",
       "      <td>4.2</td>\n",
       "      <td>ManTech\\n4.2</td>\n",
       "      <td>Chantilly, VA</td>\n",
       "      <td>Herndon, VA</td>\n",
       "      <td>5001 to 10000 employees</td>\n",
       "      <td>1968</td>\n",
       "      <td>Company - Public</td>\n",
       "      <td>Research &amp; Development</td>\n",
       "      <td>Business Services</td>\n",
       "      <td>$1 to $2 billion (USD)</td>\n",
       "      <td>Data Scientist</td>\n",
       "      <td>NA</td>\n",
       "      <td>171</td>\n",
       "      <td>137</td>\n",
       "      <td>154</td>\n",
       "    </tr>\n",
       "    <tr>\n",
       "      <th>2</th>\n",
       "      <td>Data Scientist</td>\n",
       "      <td>137-171</td>\n",
       "      <td>Overview\\n\\n\\nAnalysis Group is one of the lar...</td>\n",
       "      <td>3.8</td>\n",
       "      <td>Analysis Group\\n3.8</td>\n",
       "      <td>Boston, MA</td>\n",
       "      <td>Boston, MA</td>\n",
       "      <td>1001 to 5000 employees</td>\n",
       "      <td>1981</td>\n",
       "      <td>Private Practice / Firm</td>\n",
       "      <td>Consulting</td>\n",
       "      <td>Business Services</td>\n",
       "      <td>$100 to $500 million (USD)</td>\n",
       "      <td>Data Scientist</td>\n",
       "      <td>NA</td>\n",
       "      <td>171</td>\n",
       "      <td>137</td>\n",
       "      <td>154</td>\n",
       "    </tr>\n",
       "    <tr>\n",
       "      <th>3</th>\n",
       "      <td>Data Scientist</td>\n",
       "      <td>137-171</td>\n",
       "      <td>JOB DESCRIPTION:\\n\\nDo you have a passion for ...</td>\n",
       "      <td>3.5</td>\n",
       "      <td>INFICON\\n3.5</td>\n",
       "      <td>Newton, MA</td>\n",
       "      <td>Bad Ragaz, Switzerland</td>\n",
       "      <td>501 to 1000 employees</td>\n",
       "      <td>2000</td>\n",
       "      <td>Company - Public</td>\n",
       "      <td>Electrical &amp; Electronic Manufacturing</td>\n",
       "      <td>Manufacturing</td>\n",
       "      <td>$100 to $500 million (USD)</td>\n",
       "      <td>Data Scientist</td>\n",
       "      <td>NA</td>\n",
       "      <td>171</td>\n",
       "      <td>137</td>\n",
       "      <td>154</td>\n",
       "    </tr>\n",
       "    <tr>\n",
       "      <th>4</th>\n",
       "      <td>Data Scientist</td>\n",
       "      <td>137-171</td>\n",
       "      <td>Data Scientist\\nAffinity Solutions / Marketing...</td>\n",
       "      <td>2.9</td>\n",
       "      <td>Affinity Solutions\\n2.9</td>\n",
       "      <td>New York, NY</td>\n",
       "      <td>New York, NY</td>\n",
       "      <td>51 to 200 employees</td>\n",
       "      <td>1998</td>\n",
       "      <td>Company - Private</td>\n",
       "      <td>Advertising &amp; Marketing</td>\n",
       "      <td>Business Services</td>\n",
       "      <td>Unknown / Non-Applicable</td>\n",
       "      <td>Data Scientist</td>\n",
       "      <td>NA</td>\n",
       "      <td>171</td>\n",
       "      <td>137</td>\n",
       "      <td>154</td>\n",
       "    </tr>\n",
       "  </tbody>\n",
       "</table>\n",
       "</div>"
      ],
      "text/plain": [
       "           Job Title Salary Estimate  \\\n",
       "0  Sr Data Scientist        137-171    \n",
       "1     Data Scientist        137-171    \n",
       "2     Data Scientist        137-171    \n",
       "3     Data Scientist        137-171    \n",
       "4     Data Scientist        137-171    \n",
       "\n",
       "                                     Job Description  Rating  \\\n",
       "0  Description\\n\\nThe Senior Data Scientist is re...     3.1   \n",
       "1  Secure our Nation, Ignite your Future\\n\\nJoin ...     4.2   \n",
       "2  Overview\\n\\n\\nAnalysis Group is one of the lar...     3.8   \n",
       "3  JOB DESCRIPTION:\\n\\nDo you have a passion for ...     3.5   \n",
       "4  Data Scientist\\nAffinity Solutions / Marketing...     2.9   \n",
       "\n",
       "              Company Name       Location            Headquarters  \\\n",
       "0         Healthfirst\\n3.1   New York, NY            New York, NY   \n",
       "1             ManTech\\n4.2  Chantilly, VA             Herndon, VA   \n",
       "2      Analysis Group\\n3.8     Boston, MA              Boston, MA   \n",
       "3             INFICON\\n3.5     Newton, MA  Bad Ragaz, Switzerland   \n",
       "4  Affinity Solutions\\n2.9   New York, NY            New York, NY   \n",
       "\n",
       "                      Size  Founded        Type of ownership  \\\n",
       "0   1001 to 5000 employees     1993   Nonprofit Organization   \n",
       "1  5001 to 10000 employees     1968         Company - Public   \n",
       "2   1001 to 5000 employees     1981  Private Practice / Firm   \n",
       "3    501 to 1000 employees     2000         Company - Public   \n",
       "4      51 to 200 employees     1998        Company - Private   \n",
       "\n",
       "                                Industry             Sector  \\\n",
       "0                     Insurance Carriers          Insurance   \n",
       "1                 Research & Development  Business Services   \n",
       "2                             Consulting  Business Services   \n",
       "3  Electrical & Electronic Manufacturing      Manufacturing   \n",
       "4                Advertising & Marketing  Business Services   \n",
       "\n",
       "                      Revenue Job_Title_Simplified Job_Seniority  \\\n",
       "0    Unknown / Non-Applicable       Data Scientist        Senior   \n",
       "1      $1 to $2 billion (USD)       Data Scientist            NA   \n",
       "2  $100 to $500 million (USD)       Data Scientist            NA   \n",
       "3  $100 to $500 million (USD)       Data Scientist            NA   \n",
       "4    Unknown / Non-Applicable       Data Scientist            NA   \n",
       "\n",
       "   Max_Salary_Estimate  Min_Salary_Estimate  Avg_Salary_Estimate  \n",
       "0                  171                  137                  154  \n",
       "1                  171                  137                  154  \n",
       "2                  171                  137                  154  \n",
       "3                  171                  137                  154  \n",
       "4                  171                  137                  154  "
      ]
     },
     "execution_count": 359,
     "metadata": {},
     "output_type": "execute_result"
    }
   ],
   "source": [
    "cleaned_data.head()"
   ]
  },
  {
   "cell_type": "markdown",
   "metadata": {},
   "source": [
    "***\n",
    "##### Handling the Rating Col.\n"
   ]
  },
  {
   "cell_type": "code",
   "execution_count": 360,
   "metadata": {},
   "outputs": [
    {
     "data": {
      "text/plain": [
       "array([ 3.1,  4.2,  3.8,  3.5,  2.9,  3.9,  4.4,  3.6,  4.5,  4.7,  3.7,\n",
       "        3.4,  4.1,  3.2,  4.3,  2.8,  5. ,  4.8,  3.3,  2.7,  2.2,  2.6,\n",
       "        4. ,  2.5,  4.9,  2.4, -1. ,  2.3,  4.6,  3. ,  2.1,  2. ])"
      ]
     },
     "execution_count": 360,
     "metadata": {},
     "output_type": "execute_result"
    }
   ],
   "source": [
    "cleaned_data['Rating'].unique()"
   ]
  },
  {
   "cell_type": "markdown",
   "metadata": {},
   "source": [
    "* -1 rating means we have a missing value, we'll replace it by 0, the min of rating a company can get."
   ]
  },
  {
   "cell_type": "code",
   "execution_count": 361,
   "metadata": {},
   "outputs": [
    {
     "data": {
      "text/plain": [
       "array([3.1, 4.2, 3.8, 3.5, 2.9, 3.9, 4.4, 3.6, 4.5, 4.7, 3.7, 3.4, 4.1,\n",
       "       3.2, 4.3, 2.8, 5. , 4.8, 3.3, 2.7, 2.2, 2.6, 4. , 2.5, 4.9, 2.4,\n",
       "       0. , 2.3, 4.6, 3. , 2.1, 2. ])"
      ]
     },
     "execution_count": 361,
     "metadata": {},
     "output_type": "execute_result"
    }
   ],
   "source": [
    "\n",
    "cleaned_data['Rating'] = cleaned_data['Rating'].replace(-1, 0)\n",
    "cleaned_data['Rating'].unique()"
   ]
  },
  {
   "cell_type": "markdown",
   "metadata": {},
   "source": [
    "***\n",
    "##### Handling the Company Name Col."
   ]
  },
  {
   "cell_type": "code",
   "execution_count": 362,
   "metadata": {},
   "outputs": [
    {
     "data": {
      "text/plain": [
       "array(['Healthfirst\\n3.1', 'ManTech\\n4.2', 'Analysis Group\\n3.8',\n",
       "       'INFICON\\n3.5', 'Affinity Solutions\\n2.9', 'HG Insights\\n4.2',\n",
       "       'Novartis\\n3.9', 'iRobot\\n3.5', 'Intuit - Data\\n4.4',\n",
       "       'XSELL Technologies\\n3.6', 'Novetta\\n4.5', '1904labs\\n4.7',\n",
       "       'PNNL\\n3.7', 'Old World Industries\\n3.1',\n",
       "       'Mathematica Policy Research\\n3.4',\n",
       "       'Guzman & Griffin Technologies (GGTI)\\n4.4',\n",
       "       'Upside Business Travel\\n4.1', 'Buckman\\n3.5',\n",
       "       'Insight Enterprises, Inc.\\n4.2', 'Tower Health\\n3.5',\n",
       "       'Triplebyte\\n3.2', 'PulsePoint\\n4.3', 'Exponent\\n3.5',\n",
       "       'Guardian Life\\n3.5',\n",
       "       'Spectrum Communications and Consulting\\n3.4',\n",
       "       'Oversight Systems\\n4.7', 'LSQ\\n4.2',\n",
       "       'MIT Lincoln Laboratory\\n3.8', 'Kingfisher Systems\\n4.5',\n",
       "       'Formation\\n2.8', 'Cohere Health\\n5.0', 'Acuity Insurance\\n4.8',\n",
       "       'Chef\\n3.6', 'Puget Sound Energy\\n3.3', 'Sandhills Global\\n2.7',\n",
       "       'A Place for Mom\\n2.7', 'Great-Circle Technologies\\n2.2',\n",
       "       'Edmunds.com\\n3.4', 'Cambridge Associates, LLC\\n3.1',\n",
       "       'Liberty Mutual Insurance\\n3.4', 'Cenlar\\n2.6',\n",
       "       'Arsenal Biosciences\\n5.0', 'Eversight\\n4.2', 'Pfizer\\n4.1',\n",
       "       'Klaviyo\\n4.8', 'Intellectual Ventures\\n3.3', 'GovTech\\n3.7',\n",
       "       'Quick Base\\n4.3', 'Giving Assistant\\n4.8', 'Takeda\\n3.7',\n",
       "       'Netskope\\n4.0', 'IT Concepts\\n4.8', 'iSeatz\\n3.5',\n",
       "       'Summa Health System\\n3.7', 'Benson Hill\\n3.5', 'Twitter\\n4.1',\n",
       "       'Postmates - Corporate HQ\\n3.2', 'Envision LLC\\n4.5',\n",
       "       'Swiss Re\\n3.8', 'Systems & Technology Research\\n4.5',\n",
       "       'Dermalogica\\n3.8', 'Bayview Asset Management\\n3.7',\n",
       "       'Via Transportation\\n3.7', 'Grid Dynamics\\n4.0',\n",
       "       'Tempus Labs\\n3.3', 'CareDx\\n2.5', 'IZEA\\n4.2', 'Autodesk\\n4.0',\n",
       "       'Caterpillar\\n3.7', 'New England Biolabs\\n4.9',\n",
       "       'Allied Solutions\\n3.4', 'The Knot Worldwide\\n3.5',\n",
       "       'IFG Companies\\n2.9', 'Amyris\\n3.3', 'AstraZeneca\\n4.0',\n",
       "       'Powertek\\n3.6', 'Object Partners\\n4.7', 'The Mom Project\\n4.9',\n",
       "       'Lightspeed Systems\\n4.3', 'Stripe\\n4.0',\n",
       "       'Comprehensive Healthcare\\n2.6',\n",
       "       'Fullpower Technologies, Inc.\\n4.5', 'Mars\\n3.9',\n",
       "       'NuWave Solutions\\n4.4', 'Merrick Bank\\n3.6', 'QOMPLX\\n3.5',\n",
       "       'GutCheck\\n3.8', 'Inter-American Development Bank\\n3.5',\n",
       "       'Avlino\\n4.9', 'Stratagem Group\\n4.4', 'Evidation\\n4.1',\n",
       "       'Tecolote Research\\n3.8', 'Tivity Health\\n3.2', 'hc1\\n2.9',\n",
       "       'HP Inc.\\n4.1', 'SAIC\\n3.7', 'AllianceBernstein\\n3.2',\n",
       "       'Big Huge Games\\n4.9', 'Maxar Technologies\\n3.5',\n",
       "       'Phantom AI\\n5.0', 'Noblis\\n4.0', 'Spring Health\\n3.6',\n",
       "       'ClearEdge\\n4.0', 'GetWellNetwork\\n4.8', 'TACG Solutions\\n4.5',\n",
       "       'Scoop\\n4.7', 'Montway Inc\\n3.4', 'Juniper Networks\\n3.8',\n",
       "       'Notion Labs\\n5.0', 'Lendio\\n4.9', 'Direct Agents\\n4.4',\n",
       "       'NAVEX Global\\n3.3', 'Upstart\\n4.2', 'AppLovin\\n4.8',\n",
       "       'ISO New England\\n3.8', 'Relativity\\n3.7', 'Tempo Automation\\n3.3',\n",
       "       'MITRE\\n3.3', 'Expedition Technology, Inc.\\n5.0', 'Evidera\\n3.8',\n",
       "       'Plymouth Rock Assurance\\n3.4', 'Crown Bioscience\\n2.4',\n",
       "       'GNS Healthcare\\n2.9', 'OneMagnify\\n4.4', 'SPECTRUM\\n2.9',\n",
       "       'Advanced BioScience Laboratories\\n2.7',\n",
       "       'Procore Technologies\\n4.2', 'Ritedose\\n3.5',\n",
       "       'Covid-19 Search Partners', 'bioMérieux\\n4.2',\n",
       "       'Radical Convergence', 'Leidos\\n3.5', 'Demandbase\\n4.5',\n",
       "       'Shelter Insurance\\n4.1', 'USAC\\n2.7',\n",
       "       'General Dynamics Information Technology\\n3.4', 'Offerpad\\n4.4',\n",
       "       'Magna International Inc.\\n3.5', 'United BioSource\\n2.3',\n",
       "       'Kelly\\n3.4', 'C3.ai\\n4.7', 'Quartet Health\\n3.9',\n",
       "       'Midland Credit Management\\n3.3',\n",
       "       'Resurgent Capital Services\\n4.4', 'webfx.com\\n4.7',\n",
       "       'Argo Group US\\n3.5', 'BWX Technologies\\n3.3', 'Life360\\n3.9',\n",
       "       'MassMutual\\n3.7', 'Natera\\n3.9', 'Genentech\\n4.0', 'Ntrepid\\n4.2',\n",
       "       'Constant Contact\\n3.6', 'Sage Intacct\\n4.7',\n",
       "       'Shape Security\\n4.1', 'SkillSoniq\\n5.0', 'Joby Aviation\\n4.3',\n",
       "       \"Cook Children's Health Care System\\n3.8\",\n",
       "       'Rubius Therapeutics\\n3.8', 'GreatAmerica Financial Services\\n4.6',\n",
       "       'Coverent\\n4.1', 'Mteq\\n3.7', 'Rocket Lawyer\\n4.4',\n",
       "       'Alion Science & Technology\\n3.6', 'Protolabs\\n3.7',\n",
       "       'Quest Integrity\\n2.9', 'Phoenix Operations Group\\n5.0',\n",
       "       'Dice.com\\n3.4', 'Southwest Research Institute\\n3.9',\n",
       "       'The Buffalo Group\\n4.3',\n",
       "       'Central California Alliance for Health\\n3.5',\n",
       "       'Security Finance Corporation of Spartanburg\\n3.1',\n",
       "       'Opendoor\\n3.6', 'Global Data Management Inc\\n4.5',\n",
       "       'Photon Infotech\\n3.0', 'REE\\n5.0',\n",
       "       'Riverside Research Institute\\n3.6', 'T. Rowe Price\\n3.6',\n",
       "       'Encode, Inc.', 'Brighthouse Financial\\n3.8',\n",
       "       'II-VI Incorporated\\n3.3', 'Surya Systems\\n4.6', 'PayPal\\n3.8',\n",
       "       'Predictive Research Inc\\n3.9', '1010data\\n3.1', 'Gigya\\n3.6',\n",
       "       'Genesis Research\\n5.0', 'Sanofi\\n3.7', 'XPO Logistics\\n3.7',\n",
       "       'Trace Data\\n3.9', 'Descript\\n4.3',\n",
       "       'Rincon Research Corporation\\n4.2', 'Better Hire\\n4.0',\n",
       "       'Parker Hannifin\\n3.3', 'Gallup\\n4.1', 'Insider Inc\\n3.3',\n",
       "       'Rapid Value Solutions\\n3.9', 'Battelle\\n3.1',\n",
       "       'The Drive Media, Inc.\\n5.0',\n",
       "       'Pacific Northwest National Laboratory\\n3.7',\n",
       "       'US Pharmacopeia\\n3.2', 'Itlize Global\\n4.6', 'eBay\\n3.5',\n",
       "       'Paige\\n5.0', 'ABIOMED\\n4.1', 'Comcast\\n3.5',\n",
       "       'Metronome, LLC\\n3.2', 'Lawrence Livermore National Lab\\n4.7',\n",
       "       'FHLBank Pittsburgh\\n3.8', 'Jacobs\\n3.6',\n",
       "       'Underwriters Laboratories\\n3.3', 'Altus Group\\n3.7', 'Jobot\\n5.0',\n",
       "       'Trovetechs Inc', 'Oshkosh Corporation\\n4.2', 'Mackin\\n3.4',\n",
       "       'PETADATA', 'VBeyond Corporation\\n4.4', 'Take-Two\\n3.7',\n",
       "       'Colony Brands\\n3.7', 'Capio Group\\n4.1', 'SleePare\\n3.4',\n",
       "       'ShorePoint\\n4.5', 'Dolphin\\n3.5', 'TE Connectivity\\n3.6',\n",
       "       'State of Virginia\\n3.2', 'TA Digital\\n3.7',\n",
       "       'Market America Inc\\n4.0', 'TrueAccord\\n3.4',\n",
       "       'ALTA IT Services\\n3.9', 'Kollasoft Inc.\\n3.2',\n",
       "       'ASRC Federal Holding Company\\n3.4', 'Adwait Algorithm\\n4.4',\n",
       "       'Cambridge FX\\n3.5', 'Metromile\\n3.8', 'Criteo\\n3.9',\n",
       "       'Advance Sourcing Concepts\\n3.4', 'Enterprise Solutions Inc\\n3.8',\n",
       "       'Microagility', 'Conch Technologies, Inc\\n4.6', 'GSK\\n3.9',\n",
       "       'Rainmaker Resources, LLC', '22nd Century Technologies\\n3.7',\n",
       "       'Huxley\\n3.3', 'FM Systems\\n3.4', 'B4Corp',\n",
       "       'Blue Cross and Blue Shield of North Carolina\\n3.7',\n",
       "       'Jane Street\\n4.8', 'SSATI\\n5.0',\n",
       "       'Solving IT International Inc\\n3.4',\n",
       "       'The Davey Tree Expert Company\\n3.3', 'Centauri\\n4.6',\n",
       "       'Stride Search', 'Software Engineering Institute\\n2.6',\n",
       "       'TechProjects\\n4.8', '7Park Data\\n3.9',\n",
       "       'Ameritas Life Insurance Corp\\n3.0', 'Western Digital\\n3.5',\n",
       "       'Shimento, Inc.\\n2.9', 'Averity\\n5.0', 'Praxis Engineering\\n4.7',\n",
       "       'Point72 Ventures',\n",
       "       'Johns Hopkins University Applied Physics Laboratory\\n4.5',\n",
       "       'Cambridge Mobile Telematics\\n4.9', 'Blend360\\n4.6',\n",
       "       'Nolij Consulting\\n3.9', 'Hatch Data Inc',\n",
       "       'Compass Consulting Group\\n4.7', 'SolutionIT, Inc.\\n4.4',\n",
       "       'Perspecta\\n3.2', 'Smith Hanley Associates\\n4.5',\n",
       "       'Allen Institute\\n3.5', 'Eliassen Group\\n4.4',\n",
       "       'Bayside Solutions\\n3.1', 'Evolve Vacation Rental\\n3.5',\n",
       "       'AgreeYa Solutions\\n3.8', 'Carolina Power & Light Co\\n3.7',\n",
       "       'New Iron Group, Inc.\\n5.0', 'Travelers\\n4.0', 'Twitch\\n3.6',\n",
       "       'Biogen\\n3.6', 'HireAi', 'Mentor Graphics\\n4.1',\n",
       "       'WCG (WIRB-Copernicus Group)\\n3.6',\n",
       "       'Visionary Integration Professionals\\n4.3', 'Dynetics\\n4.0',\n",
       "       'Navy Federal Credit Union\\n3.9',\n",
       "       'Exact Sciences Corporation\\n4.0',\n",
       "       'Community Behavioral Health\\n3.6', 'Reynolds American\\n3.3',\n",
       "       'LifeOmic\\n5.0', 'Visionist, Inc.\\n4.9', 'Navio',\n",
       "       'Concerto HealthAI\\n3.3', 'Evolvinc', 'PROPRIUS\\n5.0',\n",
       "       'TECHNOCRAFT Solutions\\n3.4', 'Latitude, Inc.\\n4.1',\n",
       "       'Royce Geospatial\\n5.0', 'CyberCoders\\n4.2',\n",
       "       'Booz Allen Hamilton Inc.\\n3.7', 'Burns & McDonnell\\n3.8',\n",
       "       'InvenTech Info\\n4.8', 'Robert Half\\n3.5',\n",
       "       'Conflux Systems Inc.\\n4.5', 'Voice\\n3.4',\n",
       "       'Falcon IT & Staffing Solutions', 'DataLab USA\\n3.6',\n",
       "       'Werner Enterprises Inc\\n3.1', 'PeopleCom\\n5.0',\n",
       "       'VANTA Partners\\n5.0', 'Blue Icy Water, LLC',\n",
       "       \"Farmer's Business Network, Inc.\\n3.5\", 'Sonde Health',\n",
       "       'Maxiom\\n5.0', 'Change Healthcare\\n2.7', 'DCS Corp\\n4.1',\n",
       "       'Hive (CA)\\n2.1', 'Hackensack Meridian Health\\n3.3',\n",
       "       'Net2Source Inc.\\n3.2', 'The Trade Desk\\n3.2', 'IBM\\n3.7',\n",
       "       'Knowesis Inc.\\n4.4', 'MoTek Technologies\\n3.1', 'HPOne\\n3.5',\n",
       "       'Blue Cloak LLC', 'TBWA\\\\Chiat\\\\Day\\n2.7',\n",
       "       'ThreeBridge Solutions\\n3.5', 'Numeric, LLC\\n3.2',\n",
       "       'Centraprise\\n4.2', 'DW Simpson\\n4.2', 'LinQuest\\n3.9',\n",
       "       'Trexquant Investment\\n4.0', 'Fleetcor\\n3.7',\n",
       "       'Radiant Digital\\n4.5', 'Child Care Aware of America\\n2.8',\n",
       "       'IntelliPro Group Inc.\\n4.1', 'USI\\n3.4', 'Apex Systems\\n3.9',\n",
       "       'Pragmatics, Inc.\\n2.9', 'Crossover Health\\n3.5',\n",
       "       'Lorven Technologies Inc\\n4.0', 'Gap Inc.\\n3.5',\n",
       "       'Tygart Technology, Inc\\n4.7', 'Murray Resources\\n4.6',\n",
       "       'New York Technology Partners\\n4.0',\n",
       "       'Two95 International Inc.\\n4.0', 'Sophinea', 'CRS Group\\n4.7',\n",
       "       'Blackstone Talent Group\\n3.5', 'Roche\\n4.1',\n",
       "       'Creative Circle\\n3.6', 'Blue Horizon Tek Solutions\\n5.0',\n",
       "       'Sharpedge Solutions Inc\\n4.7',\n",
       "       'Alaka`ina Foundation Family of Companies\\n3.6',\n",
       "       'Hexagon US Federal\\n2.7', 'Monte Rosa Therapeutics',\n",
       "       'Comtech Global Inc\\n4.0', 'Aveshka, Inc.\\n3.8',\n",
       "       '10x Genomics\\n4.2', 'CompuForce', '1-800-Flowers\\n2.7',\n",
       "       'Aptive\\n3.5', 'JCD Staffing\\n5.0', 'Thumbtack\\n3.9',\n",
       "       'MILVETS Systems Technology, Inc.\\n3.4', 'Apple\\n4.1',\n",
       "       'Kforce\\n4.1', 'OppLoans\\n4.4', 'Brillient\\n3.9',\n",
       "       'Xator Corporation\\n2.9', 'HAN IT Staffing Inc.\\n4.6',\n",
       "       'Infinitive Inc\\n3.4', 'New Relic\\n4.7', 'ICW Group\\n3.3',\n",
       "       'NYSTEC\\n3.8', 'E3 Federal Solutions\\n4.5', 'Peraton\\n3.4',\n",
       "       'Group O\\n3.1', 'CaptiveAire\\n4.1', 'Temboo\\n3.9', 'Kibo',\n",
       "       'AeroVironment\\n4.2', 'Applied Research Laboratories\\n3.8',\n",
       "       'Conagen\\n2.0', 'Alector\\n4.8', 'Homology Medicines, Inc.\\n4.4',\n",
       "       'Inland Empire Health Plan\\n3.3',\n",
       "       'Sandia National Laboratories\\n3.8', 'CIA\\n3.8',\n",
       "       'Maven Wave Partners\\n4.5', 'Ovative Group\\n4.3', 'Kognetics\\n3.6',\n",
       "       'Envision Healthcare\\n2.9', 'ConsumerTrack\\n3.2',\n",
       "       'Meridian Knowledge Solutions\\n4.4', 'UST Global\\n4.2',\n",
       "       'IMG Systems\\n3.2', 'Trident Systems Inc\\n3.4', 'GrainBridge, LLC',\n",
       "       'First Health Group\\n3.2', 'Sprezzatura Management Consulting',\n",
       "       'Progress Rail, A Caterpillar Company\\n2.8',\n",
       "       'Axiologic Solutions\\n4.5', 'Indigo Slate\\n3.0', 'Cubic\\n3.3',\n",
       "       'Advanced Bio-Logic Solutions Corp\\n4.0',\n",
       "       'Alignment Healthcare\\n3.5', 'WGSN\\n3.5',\n",
       "       'ISYS Technologies, Inc.\\n3.6', 'TransVoyant\\n3.0', 'Geotab\\n4.3',\n",
       "       'EGlobalTech\\n3.7', 'Central Business Solutions, Inc\\n3.0',\n",
       "       'KeHE Distributors\\n2.5', 'Moxie Software\\n3.0',\n",
       "       'Unicom Technologies INC\\n4.7', 'Americo Life\\n3.3',\n",
       "       'Tokio Marine HCC\\n3.3', 'CACI International\\n3.5',\n",
       "       'Berico Technologies', 'Kehe Food Distributors', 'Pactera Edge',\n",
       "       'Qurate Retail Group\\n3.6', 'A-Line Staffing Solutions\\n4.1',\n",
       "       'Clear Ridge Defense', 'Criterion Systems, Inc.\\n3.8',\n",
       "       'Foundation Medicine\\n4.0', 'TRANZACT\\n3.6', 'JKGT', 'AccessHope',\n",
       "       'ChaTeck Incorporated\\n5.0'], dtype=object)"
      ]
     },
     "execution_count": 362,
     "metadata": {},
     "output_type": "execute_result"
    }
   ],
   "source": [
    "cleaned_data['Company Name'].unique()"
   ]
  },
  {
   "cell_type": "markdown",
   "metadata": {},
   "source": [
    "* Compnay Name contains unnecessary element e.g. \"\\n4.3\""
   ]
  },
  {
   "cell_type": "code",
   "execution_count": 363,
   "metadata": {},
   "outputs": [],
   "source": [
    "# retreiving only the company name\n",
    "cleaned_data['Company Name'] = cleaned_data['Company Name'].apply(lambda compnay_name : compnay_name.split('\\n')[0])"
   ]
  },
  {
   "cell_type": "code",
   "execution_count": 364,
   "metadata": {},
   "outputs": [
    {
     "data": {
      "text/html": [
       "<div>\n",
       "<style scoped>\n",
       "    .dataframe tbody tr th:only-of-type {\n",
       "        vertical-align: middle;\n",
       "    }\n",
       "\n",
       "    .dataframe tbody tr th {\n",
       "        vertical-align: top;\n",
       "    }\n",
       "\n",
       "    .dataframe thead th {\n",
       "        text-align: right;\n",
       "    }\n",
       "</style>\n",
       "<table border=\"1\" class=\"dataframe\">\n",
       "  <thead>\n",
       "    <tr style=\"text-align: right;\">\n",
       "      <th></th>\n",
       "      <th>Job Title</th>\n",
       "      <th>Salary Estimate</th>\n",
       "      <th>Job Description</th>\n",
       "      <th>Rating</th>\n",
       "      <th>Company Name</th>\n",
       "      <th>Location</th>\n",
       "      <th>Headquarters</th>\n",
       "      <th>Size</th>\n",
       "      <th>Founded</th>\n",
       "      <th>Type of ownership</th>\n",
       "      <th>Industry</th>\n",
       "      <th>Sector</th>\n",
       "      <th>Revenue</th>\n",
       "      <th>Job_Title_Simplified</th>\n",
       "      <th>Job_Seniority</th>\n",
       "      <th>Max_Salary_Estimate</th>\n",
       "      <th>Min_Salary_Estimate</th>\n",
       "      <th>Avg_Salary_Estimate</th>\n",
       "    </tr>\n",
       "  </thead>\n",
       "  <tbody>\n",
       "    <tr>\n",
       "      <th>0</th>\n",
       "      <td>Sr Data Scientist</td>\n",
       "      <td>137-171</td>\n",
       "      <td>Description\\n\\nThe Senior Data Scientist is re...</td>\n",
       "      <td>3.1</td>\n",
       "      <td>Healthfirst</td>\n",
       "      <td>New York, NY</td>\n",
       "      <td>New York, NY</td>\n",
       "      <td>1001 to 5000 employees</td>\n",
       "      <td>1993</td>\n",
       "      <td>Nonprofit Organization</td>\n",
       "      <td>Insurance Carriers</td>\n",
       "      <td>Insurance</td>\n",
       "      <td>Unknown / Non-Applicable</td>\n",
       "      <td>Data Scientist</td>\n",
       "      <td>Senior</td>\n",
       "      <td>171</td>\n",
       "      <td>137</td>\n",
       "      <td>154</td>\n",
       "    </tr>\n",
       "    <tr>\n",
       "      <th>1</th>\n",
       "      <td>Data Scientist</td>\n",
       "      <td>137-171</td>\n",
       "      <td>Secure our Nation, Ignite your Future\\n\\nJoin ...</td>\n",
       "      <td>4.2</td>\n",
       "      <td>ManTech</td>\n",
       "      <td>Chantilly, VA</td>\n",
       "      <td>Herndon, VA</td>\n",
       "      <td>5001 to 10000 employees</td>\n",
       "      <td>1968</td>\n",
       "      <td>Company - Public</td>\n",
       "      <td>Research &amp; Development</td>\n",
       "      <td>Business Services</td>\n",
       "      <td>$1 to $2 billion (USD)</td>\n",
       "      <td>Data Scientist</td>\n",
       "      <td>NA</td>\n",
       "      <td>171</td>\n",
       "      <td>137</td>\n",
       "      <td>154</td>\n",
       "    </tr>\n",
       "    <tr>\n",
       "      <th>2</th>\n",
       "      <td>Data Scientist</td>\n",
       "      <td>137-171</td>\n",
       "      <td>Overview\\n\\n\\nAnalysis Group is one of the lar...</td>\n",
       "      <td>3.8</td>\n",
       "      <td>Analysis Group</td>\n",
       "      <td>Boston, MA</td>\n",
       "      <td>Boston, MA</td>\n",
       "      <td>1001 to 5000 employees</td>\n",
       "      <td>1981</td>\n",
       "      <td>Private Practice / Firm</td>\n",
       "      <td>Consulting</td>\n",
       "      <td>Business Services</td>\n",
       "      <td>$100 to $500 million (USD)</td>\n",
       "      <td>Data Scientist</td>\n",
       "      <td>NA</td>\n",
       "      <td>171</td>\n",
       "      <td>137</td>\n",
       "      <td>154</td>\n",
       "    </tr>\n",
       "    <tr>\n",
       "      <th>3</th>\n",
       "      <td>Data Scientist</td>\n",
       "      <td>137-171</td>\n",
       "      <td>JOB DESCRIPTION:\\n\\nDo you have a passion for ...</td>\n",
       "      <td>3.5</td>\n",
       "      <td>INFICON</td>\n",
       "      <td>Newton, MA</td>\n",
       "      <td>Bad Ragaz, Switzerland</td>\n",
       "      <td>501 to 1000 employees</td>\n",
       "      <td>2000</td>\n",
       "      <td>Company - Public</td>\n",
       "      <td>Electrical &amp; Electronic Manufacturing</td>\n",
       "      <td>Manufacturing</td>\n",
       "      <td>$100 to $500 million (USD)</td>\n",
       "      <td>Data Scientist</td>\n",
       "      <td>NA</td>\n",
       "      <td>171</td>\n",
       "      <td>137</td>\n",
       "      <td>154</td>\n",
       "    </tr>\n",
       "    <tr>\n",
       "      <th>4</th>\n",
       "      <td>Data Scientist</td>\n",
       "      <td>137-171</td>\n",
       "      <td>Data Scientist\\nAffinity Solutions / Marketing...</td>\n",
       "      <td>2.9</td>\n",
       "      <td>Affinity Solutions</td>\n",
       "      <td>New York, NY</td>\n",
       "      <td>New York, NY</td>\n",
       "      <td>51 to 200 employees</td>\n",
       "      <td>1998</td>\n",
       "      <td>Company - Private</td>\n",
       "      <td>Advertising &amp; Marketing</td>\n",
       "      <td>Business Services</td>\n",
       "      <td>Unknown / Non-Applicable</td>\n",
       "      <td>Data Scientist</td>\n",
       "      <td>NA</td>\n",
       "      <td>171</td>\n",
       "      <td>137</td>\n",
       "      <td>154</td>\n",
       "    </tr>\n",
       "  </tbody>\n",
       "</table>\n",
       "</div>"
      ],
      "text/plain": [
       "           Job Title Salary Estimate  \\\n",
       "0  Sr Data Scientist        137-171    \n",
       "1     Data Scientist        137-171    \n",
       "2     Data Scientist        137-171    \n",
       "3     Data Scientist        137-171    \n",
       "4     Data Scientist        137-171    \n",
       "\n",
       "                                     Job Description  Rating  \\\n",
       "0  Description\\n\\nThe Senior Data Scientist is re...     3.1   \n",
       "1  Secure our Nation, Ignite your Future\\n\\nJoin ...     4.2   \n",
       "2  Overview\\n\\n\\nAnalysis Group is one of the lar...     3.8   \n",
       "3  JOB DESCRIPTION:\\n\\nDo you have a passion for ...     3.5   \n",
       "4  Data Scientist\\nAffinity Solutions / Marketing...     2.9   \n",
       "\n",
       "         Company Name       Location            Headquarters  \\\n",
       "0         Healthfirst   New York, NY            New York, NY   \n",
       "1             ManTech  Chantilly, VA             Herndon, VA   \n",
       "2      Analysis Group     Boston, MA              Boston, MA   \n",
       "3             INFICON     Newton, MA  Bad Ragaz, Switzerland   \n",
       "4  Affinity Solutions   New York, NY            New York, NY   \n",
       "\n",
       "                      Size  Founded        Type of ownership  \\\n",
       "0   1001 to 5000 employees     1993   Nonprofit Organization   \n",
       "1  5001 to 10000 employees     1968         Company - Public   \n",
       "2   1001 to 5000 employees     1981  Private Practice / Firm   \n",
       "3    501 to 1000 employees     2000         Company - Public   \n",
       "4      51 to 200 employees     1998        Company - Private   \n",
       "\n",
       "                                Industry             Sector  \\\n",
       "0                     Insurance Carriers          Insurance   \n",
       "1                 Research & Development  Business Services   \n",
       "2                             Consulting  Business Services   \n",
       "3  Electrical & Electronic Manufacturing      Manufacturing   \n",
       "4                Advertising & Marketing  Business Services   \n",
       "\n",
       "                      Revenue Job_Title_Simplified Job_Seniority  \\\n",
       "0    Unknown / Non-Applicable       Data Scientist        Senior   \n",
       "1      $1 to $2 billion (USD)       Data Scientist            NA   \n",
       "2  $100 to $500 million (USD)       Data Scientist            NA   \n",
       "3  $100 to $500 million (USD)       Data Scientist            NA   \n",
       "4    Unknown / Non-Applicable       Data Scientist            NA   \n",
       "\n",
       "   Max_Salary_Estimate  Min_Salary_Estimate  Avg_Salary_Estimate  \n",
       "0                  171                  137                  154  \n",
       "1                  171                  137                  154  \n",
       "2                  171                  137                  154  \n",
       "3                  171                  137                  154  \n",
       "4                  171                  137                  154  "
      ]
     },
     "execution_count": 364,
     "metadata": {},
     "output_type": "execute_result"
    }
   ],
   "source": [
    "cleaned_data.head()"
   ]
  },
  {
   "cell_type": "markdown",
   "metadata": {},
   "source": [
    "***\n",
    "##### Handling the Location Col.\n"
   ]
  },
  {
   "cell_type": "code",
   "execution_count": 365,
   "metadata": {},
   "outputs": [
    {
     "data": {
      "text/plain": [
       "Location\n",
       "San Francisco, CA    69\n",
       "New York, NY         50\n",
       "Washington, DC       26\n",
       "Boston, MA           24\n",
       "Chicago, IL          22\n",
       "                     ..\n",
       "Oshkosh, WI           1\n",
       "Culver City, CA       1\n",
       "Lake Oswego, OR       1\n",
       "New Orleans, LA       1\n",
       "Irwindale, CA         1\n",
       "Name: count, Length: 207, dtype: int64"
      ]
     },
     "execution_count": 365,
     "metadata": {},
     "output_type": "execute_result"
    }
   ],
   "source": [
    "cleaned_data['Location'].value_counts()"
   ]
  },
  {
   "cell_type": "code",
   "execution_count": 366,
   "metadata": {},
   "outputs": [
    {
     "data": {
      "text/plain": [
       "array(['New York, NY', 'Chantilly, VA', 'Boston, MA', 'Newton, MA',\n",
       "       'Santa Barbara, CA', 'Cambridge, MA', 'Bedford, MA',\n",
       "       'San Diego, CA', 'Chicago, IL', 'Herndon, VA', 'Saint Louis, MO',\n",
       "       'Richland, WA', 'Northbrook, IL', 'Washington, DC', 'Remote',\n",
       "       'Memphis, TN', 'Plano, TX', 'West Grove, PA', 'Phoenix, AZ',\n",
       "       'Appleton, WI', 'Atlanta, GA', 'Orlando, FL', 'Lexington, MA',\n",
       "       'McLean, VA', 'San Francisco, CA', 'Sheboygan, WI',\n",
       "       'United States', 'Bothell, WA', 'Lincoln, NE', 'Overland Park, KS',\n",
       "       'Santa Monica, CA', 'Portsmouth, NH', 'Ewing, NJ',\n",
       "       'South San Francisco, CA', 'Palo Alto, CA', 'Bellevue, WA',\n",
       "       'New Orleans, LA', 'Akron, OH', 'Fort Wayne, IN', 'Woburn, MA',\n",
       "       'Carson, CA', 'Coral Gables, FL', 'Santa Clara, CA',\n",
       "       'Brisbane, CA', 'Winter Park, FL', 'Redwood City, CA',\n",
       "       'Peoria, IL', 'Ipswich, MA', 'Carmel, IN', 'Emeryville, CA',\n",
       "       'Gaithersburg, MD', 'Longmont, CO', 'Austin, TX', 'Yakima, WA',\n",
       "       'Santa Cruz, CA', 'Springfield, VA', 'Alexandria, VA', 'Utah',\n",
       "       'Reston, VA', 'Denver, CO', 'New Jersey', 'Aurora, CO',\n",
       "       'Hill AFB, UT', 'Chandler, AZ', 'Indianapolis, IN',\n",
       "       'Nashville, TN', 'Timonium, MD', 'Burlingame, CA',\n",
       "       'Annapolis Junction, MD', 'Bethesda, MD', 'Dayton, OH',\n",
       "       'Schaumburg, IL', 'Cupertino, CA', 'Lehi, UT', 'Culver City, CA',\n",
       "       'Lake Oswego, OR', 'San Mateo, CA', 'Holyoke, MA',\n",
       "       'Woodbridge, NJ', 'Dearborn, MI', 'Maryland Heights, MO',\n",
       "       'Rockville, MD', 'Carpinteria, CA', 'Columbia, SC',\n",
       "       'Hauppauge, NY', 'Fort Meade, MD', 'Columbia, MO', 'Vicksburg, MS',\n",
       "       'Birmingham, AL', 'Blue Bell, PA', 'Cincinnati, OH',\n",
       "       'Harrisburg, PA', 'Oak Ridge, TN', 'San Carlos, CA', 'Waltham, MA',\n",
       "       'Fort Worth, TX', 'Smithfield, RI', 'Cedar Rapids, IA',\n",
       "       'Fort Belvoir, VA', 'Linthicum Heights, MD', 'Maple Plain, MN',\n",
       "       'Tulsa, OK', 'Baltimore, MD', 'Oklahoma City, OK',\n",
       "       'Scotts Valley, CA', 'Spartanburg, SC', 'Hartford, CT',\n",
       "       'Beavercreek, OH', 'Norfolk, VA', 'Charlotte, NC', 'Champaign, IL',\n",
       "       'Texas', 'Hoboken, NJ', 'Lebanon, IN', 'Oakland, CA',\n",
       "       'Melbourne, FL', 'Cleveland, OH', 'Norwell, MA', 'San Jose, CA',\n",
       "       'Piscataway, NJ', 'Danvers, MA', 'Vienna, VA', 'Livermore, CA',\n",
       "       'Pittsburgh, PA', 'Irvine, CA', 'Oshkosh, WI', 'Menlo Park, CA',\n",
       "       'Dallas, TX', 'Arlington, VA', 'Monroe, WI', 'Sacramento, CA',\n",
       "       'Hampton, VA', 'Richmond, VA', 'Monterey, CA', 'Woodlawn, MD',\n",
       "       'Ann Arbor, MI', 'Concord, CA', 'Durham, NC', 'Kent, OH',\n",
       "       'Laurel, MD', 'Columbia, MD', 'Falls Church, VA',\n",
       "       'Thousand Oaks, CA', 'Edison, NJ', 'Adelphi, MD', 'Seattle, WA',\n",
       "       'Sunnyvale, CA', 'Fremont, CA', 'Hamilton, NJ', 'Huntsville, AL',\n",
       "       'Merrifield, VA', 'Madison, WI', 'Philadelphia, PA',\n",
       "       'Winston-Salem, NC', 'Raleigh, NC', 'Burbank, CA', 'San Ramon, CA',\n",
       "       'Oxnard, CA', 'Kansas City, MO', 'Jersey City, NJ',\n",
       "       'Manchester, NH', 'Winters, TX', 'Brooklyn, NY', 'Germantown, MD',\n",
       "       'Omaha, NE', 'Open Fork, VA', 'Ashburn, VA', 'Lombard, IL',\n",
       "       'Alpharetta, GA', 'Boulder, CO', 'Mountain View, CA',\n",
       "       'Trumbull, CT', 'Sterling, VA', 'Foster City, CA', 'Frederick, MD',\n",
       "       'Colorado Springs, CO', 'Southfield, MI', 'San Clemente, CA',\n",
       "       'The Woodlands, TX', 'Pleasanton, CA', 'Wilmington, DE',\n",
       "       'Fort Sam Houston, TX', 'Lexington Park, MD',\n",
       "       'Patuxent, Anne Arundel, MD', 'Fairfax, VA', 'San Antonio, TX',\n",
       "       'Silver Spring, MD', 'Portland, OR', 'Simi Valley, CA',\n",
       "       'New Bedford, MA', 'Rancho Cucamonga, CA', 'Collegeville, PA',\n",
       "       'Minneapolis, MN', 'Gahanna, OH', 'California', 'Wellesley, MA',\n",
       "       'Washington, VA', 'Orange, CA', 'Bridgeport, WV', 'Oakville, CA',\n",
       "       'Naperville, IL', 'Houston, TX', 'Redmond, WA', 'West Chester, PA',\n",
       "       'Quantico, VA', 'Fort Lee, NJ', 'Irwindale, CA'], dtype=object)"
      ]
     },
     "execution_count": 366,
     "metadata": {},
     "output_type": "execute_result"
    }
   ],
   "source": [
    "cleaned_data['Location'].unique()"
   ]
  },
  {
   "cell_type": "markdown",
   "metadata": {},
   "source": [
    "* Most of the job offers are located in the US.\n",
    "* We notice that the state of the location is at the end of each location"
   ]
  },
  {
   "cell_type": "code",
   "execution_count": 367,
   "metadata": {},
   "outputs": [],
   "source": [
    "cleaned_data['Location_State'] = cleaned_data['Location'].apply(lambda item : item.split(',')[-1].strip()) "
   ]
  },
  {
   "cell_type": "code",
   "execution_count": 368,
   "metadata": {},
   "outputs": [
    {
     "data": {
      "text/plain": [
       "array(['NY', 'VA', 'MA', 'CA', 'IL', 'MO', 'WA', 'DC', 'Remote', 'TN',\n",
       "       'TX', 'PA', 'AZ', 'WI', 'GA', 'FL', 'United States', 'NE', 'KS',\n",
       "       'NH', 'NJ', 'LA', 'OH', 'IN', 'MD', 'CO', 'Utah', 'New Jersey',\n",
       "       'UT', 'OR', 'MI', 'SC', 'MS', 'AL', 'RI', 'IA', 'MN', 'OK', 'CT',\n",
       "       'NC', 'Texas', 'DE', 'California', 'WV'], dtype=object)"
      ]
     },
     "execution_count": 368,
     "metadata": {},
     "output_type": "execute_result"
    }
   ],
   "source": [
    "cleaned_data['Location_State'].unique()"
   ]
  },
  {
   "cell_type": "code",
   "execution_count": 369,
   "metadata": {},
   "outputs": [],
   "source": [
    "replace_with_dic ={'United States':'Unknown', 'Utah':'UT', 'New Jersey':'NJ', 'California':'CA', 'Texas':'TX', 'Remote':'Unknown'}\n",
    "cleaned_data['Location_State'] = cleaned_data['Location_State'].replace(replace_with_dic)\n"
   ]
  },
  {
   "cell_type": "code",
   "execution_count": 370,
   "metadata": {},
   "outputs": [
    {
     "data": {
      "text/html": [
       "<div>\n",
       "<style scoped>\n",
       "    .dataframe tbody tr th:only-of-type {\n",
       "        vertical-align: middle;\n",
       "    }\n",
       "\n",
       "    .dataframe tbody tr th {\n",
       "        vertical-align: top;\n",
       "    }\n",
       "\n",
       "    .dataframe thead th {\n",
       "        text-align: right;\n",
       "    }\n",
       "</style>\n",
       "<table border=\"1\" class=\"dataframe\">\n",
       "  <thead>\n",
       "    <tr style=\"text-align: right;\">\n",
       "      <th></th>\n",
       "      <th>Job Title</th>\n",
       "      <th>Salary Estimate</th>\n",
       "      <th>Job Description</th>\n",
       "      <th>Rating</th>\n",
       "      <th>Company Name</th>\n",
       "      <th>Location</th>\n",
       "      <th>Headquarters</th>\n",
       "      <th>Size</th>\n",
       "      <th>Founded</th>\n",
       "      <th>Type of ownership</th>\n",
       "      <th>Industry</th>\n",
       "      <th>Sector</th>\n",
       "      <th>Revenue</th>\n",
       "      <th>Job_Title_Simplified</th>\n",
       "      <th>Job_Seniority</th>\n",
       "      <th>Max_Salary_Estimate</th>\n",
       "      <th>Min_Salary_Estimate</th>\n",
       "      <th>Avg_Salary_Estimate</th>\n",
       "      <th>Location_State</th>\n",
       "    </tr>\n",
       "  </thead>\n",
       "  <tbody>\n",
       "    <tr>\n",
       "      <th>0</th>\n",
       "      <td>Sr Data Scientist</td>\n",
       "      <td>137-171</td>\n",
       "      <td>Description\\n\\nThe Senior Data Scientist is re...</td>\n",
       "      <td>3.1</td>\n",
       "      <td>Healthfirst</td>\n",
       "      <td>New York, NY</td>\n",
       "      <td>New York, NY</td>\n",
       "      <td>1001 to 5000 employees</td>\n",
       "      <td>1993</td>\n",
       "      <td>Nonprofit Organization</td>\n",
       "      <td>Insurance Carriers</td>\n",
       "      <td>Insurance</td>\n",
       "      <td>Unknown / Non-Applicable</td>\n",
       "      <td>Data Scientist</td>\n",
       "      <td>Senior</td>\n",
       "      <td>171</td>\n",
       "      <td>137</td>\n",
       "      <td>154</td>\n",
       "      <td>NY</td>\n",
       "    </tr>\n",
       "    <tr>\n",
       "      <th>1</th>\n",
       "      <td>Data Scientist</td>\n",
       "      <td>137-171</td>\n",
       "      <td>Secure our Nation, Ignite your Future\\n\\nJoin ...</td>\n",
       "      <td>4.2</td>\n",
       "      <td>ManTech</td>\n",
       "      <td>Chantilly, VA</td>\n",
       "      <td>Herndon, VA</td>\n",
       "      <td>5001 to 10000 employees</td>\n",
       "      <td>1968</td>\n",
       "      <td>Company - Public</td>\n",
       "      <td>Research &amp; Development</td>\n",
       "      <td>Business Services</td>\n",
       "      <td>$1 to $2 billion (USD)</td>\n",
       "      <td>Data Scientist</td>\n",
       "      <td>NA</td>\n",
       "      <td>171</td>\n",
       "      <td>137</td>\n",
       "      <td>154</td>\n",
       "      <td>VA</td>\n",
       "    </tr>\n",
       "    <tr>\n",
       "      <th>2</th>\n",
       "      <td>Data Scientist</td>\n",
       "      <td>137-171</td>\n",
       "      <td>Overview\\n\\n\\nAnalysis Group is one of the lar...</td>\n",
       "      <td>3.8</td>\n",
       "      <td>Analysis Group</td>\n",
       "      <td>Boston, MA</td>\n",
       "      <td>Boston, MA</td>\n",
       "      <td>1001 to 5000 employees</td>\n",
       "      <td>1981</td>\n",
       "      <td>Private Practice / Firm</td>\n",
       "      <td>Consulting</td>\n",
       "      <td>Business Services</td>\n",
       "      <td>$100 to $500 million (USD)</td>\n",
       "      <td>Data Scientist</td>\n",
       "      <td>NA</td>\n",
       "      <td>171</td>\n",
       "      <td>137</td>\n",
       "      <td>154</td>\n",
       "      <td>MA</td>\n",
       "    </tr>\n",
       "    <tr>\n",
       "      <th>3</th>\n",
       "      <td>Data Scientist</td>\n",
       "      <td>137-171</td>\n",
       "      <td>JOB DESCRIPTION:\\n\\nDo you have a passion for ...</td>\n",
       "      <td>3.5</td>\n",
       "      <td>INFICON</td>\n",
       "      <td>Newton, MA</td>\n",
       "      <td>Bad Ragaz, Switzerland</td>\n",
       "      <td>501 to 1000 employees</td>\n",
       "      <td>2000</td>\n",
       "      <td>Company - Public</td>\n",
       "      <td>Electrical &amp; Electronic Manufacturing</td>\n",
       "      <td>Manufacturing</td>\n",
       "      <td>$100 to $500 million (USD)</td>\n",
       "      <td>Data Scientist</td>\n",
       "      <td>NA</td>\n",
       "      <td>171</td>\n",
       "      <td>137</td>\n",
       "      <td>154</td>\n",
       "      <td>MA</td>\n",
       "    </tr>\n",
       "    <tr>\n",
       "      <th>4</th>\n",
       "      <td>Data Scientist</td>\n",
       "      <td>137-171</td>\n",
       "      <td>Data Scientist\\nAffinity Solutions / Marketing...</td>\n",
       "      <td>2.9</td>\n",
       "      <td>Affinity Solutions</td>\n",
       "      <td>New York, NY</td>\n",
       "      <td>New York, NY</td>\n",
       "      <td>51 to 200 employees</td>\n",
       "      <td>1998</td>\n",
       "      <td>Company - Private</td>\n",
       "      <td>Advertising &amp; Marketing</td>\n",
       "      <td>Business Services</td>\n",
       "      <td>Unknown / Non-Applicable</td>\n",
       "      <td>Data Scientist</td>\n",
       "      <td>NA</td>\n",
       "      <td>171</td>\n",
       "      <td>137</td>\n",
       "      <td>154</td>\n",
       "      <td>NY</td>\n",
       "    </tr>\n",
       "  </tbody>\n",
       "</table>\n",
       "</div>"
      ],
      "text/plain": [
       "           Job Title Salary Estimate  \\\n",
       "0  Sr Data Scientist        137-171    \n",
       "1     Data Scientist        137-171    \n",
       "2     Data Scientist        137-171    \n",
       "3     Data Scientist        137-171    \n",
       "4     Data Scientist        137-171    \n",
       "\n",
       "                                     Job Description  Rating  \\\n",
       "0  Description\\n\\nThe Senior Data Scientist is re...     3.1   \n",
       "1  Secure our Nation, Ignite your Future\\n\\nJoin ...     4.2   \n",
       "2  Overview\\n\\n\\nAnalysis Group is one of the lar...     3.8   \n",
       "3  JOB DESCRIPTION:\\n\\nDo you have a passion for ...     3.5   \n",
       "4  Data Scientist\\nAffinity Solutions / Marketing...     2.9   \n",
       "\n",
       "         Company Name       Location            Headquarters  \\\n",
       "0         Healthfirst   New York, NY            New York, NY   \n",
       "1             ManTech  Chantilly, VA             Herndon, VA   \n",
       "2      Analysis Group     Boston, MA              Boston, MA   \n",
       "3             INFICON     Newton, MA  Bad Ragaz, Switzerland   \n",
       "4  Affinity Solutions   New York, NY            New York, NY   \n",
       "\n",
       "                      Size  Founded        Type of ownership  \\\n",
       "0   1001 to 5000 employees     1993   Nonprofit Organization   \n",
       "1  5001 to 10000 employees     1968         Company - Public   \n",
       "2   1001 to 5000 employees     1981  Private Practice / Firm   \n",
       "3    501 to 1000 employees     2000         Company - Public   \n",
       "4      51 to 200 employees     1998        Company - Private   \n",
       "\n",
       "                                Industry             Sector  \\\n",
       "0                     Insurance Carriers          Insurance   \n",
       "1                 Research & Development  Business Services   \n",
       "2                             Consulting  Business Services   \n",
       "3  Electrical & Electronic Manufacturing      Manufacturing   \n",
       "4                Advertising & Marketing  Business Services   \n",
       "\n",
       "                      Revenue Job_Title_Simplified Job_Seniority  \\\n",
       "0    Unknown / Non-Applicable       Data Scientist        Senior   \n",
       "1      $1 to $2 billion (USD)       Data Scientist            NA   \n",
       "2  $100 to $500 million (USD)       Data Scientist            NA   \n",
       "3  $100 to $500 million (USD)       Data Scientist            NA   \n",
       "4    Unknown / Non-Applicable       Data Scientist            NA   \n",
       "\n",
       "   Max_Salary_Estimate  Min_Salary_Estimate  Avg_Salary_Estimate  \\\n",
       "0                  171                  137                  154   \n",
       "1                  171                  137                  154   \n",
       "2                  171                  137                  154   \n",
       "3                  171                  137                  154   \n",
       "4                  171                  137                  154   \n",
       "\n",
       "  Location_State  \n",
       "0             NY  \n",
       "1             VA  \n",
       "2             MA  \n",
       "3             MA  \n",
       "4             NY  "
      ]
     },
     "execution_count": 370,
     "metadata": {},
     "output_type": "execute_result"
    }
   ],
   "source": [
    "cleaned_data.head()"
   ]
  },
  {
   "cell_type": "markdown",
   "metadata": {},
   "source": [
    "***\n",
    "##### Handling the Headquarters Col.\n"
   ]
  },
  {
   "cell_type": "code",
   "execution_count": 371,
   "metadata": {},
   "outputs": [
    {
     "data": {
      "text/plain": [
       "Headquarters\n",
       "New York, NY         33\n",
       "-1                   31\n",
       "San Francisco, CA    31\n",
       "Chicago, IL          23\n",
       "Boston, MA           19\n",
       "                     ..\n",
       "Irving, TX            1\n",
       "Scottsdale, AZ        1\n",
       "Greensboro, NC        1\n",
       "Newark, CA            1\n",
       "Fort Lee, NJ          1\n",
       "Name: count, Length: 229, dtype: int64"
      ]
     },
     "execution_count": 371,
     "metadata": {},
     "output_type": "execute_result"
    }
   ],
   "source": [
    "cleaned_data['Headquarters'].value_counts()"
   ]
  },
  {
   "cell_type": "markdown",
   "metadata": {},
   "source": [
    "* -1 means missing Headquarter location, we'll replace it by Unknown."
   ]
  },
  {
   "cell_type": "code",
   "execution_count": 372,
   "metadata": {},
   "outputs": [
    {
     "data": {
      "text/plain": [
       "Headquarters\n",
       "New York, NY         33\n",
       "Unkown               31\n",
       "San Francisco, CA    31\n",
       "Chicago, IL          23\n",
       "Boston, MA           19\n",
       "                     ..\n",
       "Irving, TX            1\n",
       "Scottsdale, AZ        1\n",
       "Greensboro, NC        1\n",
       "Newark, CA            1\n",
       "Fort Lee, NJ          1\n",
       "Name: count, Length: 229, dtype: int64"
      ]
     },
     "execution_count": 372,
     "metadata": {},
     "output_type": "execute_result"
    }
   ],
   "source": [
    "cleaned_data['Headquarters'] = cleaned_data['Headquarters'].replace('-1', 'Unkown')\n",
    "cleaned_data['Headquarters'].value_counts()"
   ]
  },
  {
   "cell_type": "code",
   "execution_count": 373,
   "metadata": {},
   "outputs": [
    {
     "data": {
      "text/plain": [
       "array(['New York, NY', 'Herndon, VA', 'Boston, MA',\n",
       "       'Bad Ragaz, Switzerland', 'Santa Barbara, CA',\n",
       "       'Basel, Switzerland', 'Bedford, MA', 'Mountain View, CA',\n",
       "       'Chicago, IL', 'Mc Lean, VA', 'Saint Louis, MO', 'Richland, WA',\n",
       "       'Northbrook, IL', 'Princeton, NJ', 'Mays Landing, NJ',\n",
       "       'Washington, DC', 'Memphis, TN', 'Tempe, AZ', 'Reading, PA',\n",
       "       'San Francisco, CA', 'Menlo Park, CA', 'Atlanta, GA',\n",
       "       'Orlando, FL', 'Lexington, MA', 'Falls Church, VA',\n",
       "       'Sheboygan, WI', 'Seattle, WA', 'Bellevue, WA', 'Lincoln, NE',\n",
       "       'Chantilly, VA', 'Santa Monica, CA', 'Ewing, NJ',\n",
       "       'South San Francisco, CA', 'Palo Alto, CA', 'Singapore, Singapore',\n",
       "       'Cambridge, MA', 'OSAKA, Japan', 'Santa Clara, CA', 'Vienna, VA',\n",
       "       'New Orleans, LA', 'Akron, OH', 'Zurich, Switzerland',\n",
       "       'Woburn, MA', 'Carson, CA', 'Coral Gables, FL', 'San Ramon, CA',\n",
       "       'Brisbane, CA', 'Winter Park, FL', 'San Rafael, CA',\n",
       "       'Deerfield, IL', 'Ipswich, MA', 'Carmel, IN', 'Chevy Chase, MD',\n",
       "       'Hartford, CT', 'Emeryville, CA', 'Cambridge, United Kingdom',\n",
       "       'Rockville, MD', 'Minneapolis, MN', 'Austin, TX', 'Yakima, WA',\n",
       "       'Santa Cruz, CA', 'South Jordan, UT', 'Reston, VA', 'Denver, CO',\n",
       "       'Holmdel, NJ', 'Aurora, CO', 'San Mateo, CA', 'Goleta, CA',\n",
       "       'Franklin, TN', 'Indianapolis, IN', 'Lutherville Timonium, MD',\n",
       "       'Westminster, CO', 'Burlingame, CA', 'Annapolis Junction, MD',\n",
       "       'Bethesda, MD', 'Beavercreek, OH', 'Schaumburg, IL',\n",
       "       'Sunnyvale, CA', 'Lehi, UT', 'Lake Oswego, OR', 'Holyoke, MA',\n",
       "       'Dulles, VA', 'San Diego, CA', 'Detroit, MI', 'Stamford, CT',\n",
       "       'Carpinteria, CA', 'Columbia, SC', 'Unkown',\n",
       "       \"Marcy-l'Etoile, France\", 'Columbia, MO', 'Fairfax, VA',\n",
       "       'Chandler, AZ', 'Aurora, Canada', 'Blue Bell, PA', 'Troy, MI',\n",
       "       'Redwood City, CA', 'Greenville, SC', 'Arlington, VA',\n",
       "       'Harrisburg, PA', 'Hamilton, Bermuda', 'Lynchburg, VA',\n",
       "       'Springfield, MA', 'San Carlos, CA', 'Waltham, MA', 'San Jose, CA',\n",
       "       'Jersey City, NJ', 'Fort Worth, TX', 'Cedar Rapids, IA',\n",
       "       'McLean, VA', 'Lorton, VA', 'Maple Plain, MN', 'Kent, WA',\n",
       "       'Woodbine, MD', 'San Antonio, TX', 'Scotts Valley, CA',\n",
       "       'Spartanburg, SC', 'Woodbridge, NJ', 'Chennai, India',\n",
       "       'Tel Aviv-Yafo, Israel', 'Baltimore, MD', 'Manalapan, NJ',\n",
       "       'Charlotte, NC', 'Saxonburg, PA', 'Bristol, PA',\n",
       "       'Bangalore, India', 'Hoboken, NJ', 'Paris, France',\n",
       "       'Greenwich, CT', 'Santa Ana, CA', 'Houston, TX', 'Tucson, AZ',\n",
       "       'Birmingham, AL', 'Cleveland, OH', 'Pleasanton, CA',\n",
       "       'Columbus, OH', 'Piscataway, NJ', 'Danvers, MA',\n",
       "       'Philadelphia, PA', 'Livermore, CA', 'Pittsburgh, PA',\n",
       "       'Dallas, TX', 'Toronto, Canada', 'Irvine, CA', 'Hillsborough, NJ',\n",
       "       'Oshkosh, WI', 'Fremont, CA', 'Monroe, WI', 'Goteborg, Sweden',\n",
       "       'Lake Buena Vista, FL', 'Schaffhausen, Switzerland',\n",
       "       'Richmond, VA', 'Newark, CA', 'Greensboro, NC', 'Scottsdale, AZ',\n",
       "       'Irving, TX', 'Beltsville, MD', 'Naperville, IL',\n",
       "       'Brentford, United Kingdom', 'Cincinnati, OH', 'Somerset, NJ',\n",
       "       'London, United Kingdom', 'Raleigh, NC', 'Leesburg, VA',\n",
       "       'Durham, NC', 'Kent, OH', 'Westlake Village, CA',\n",
       "       'North Brunswick, NJ', 'Benicia, CA', 'Laurel, MD', 'Columbia, MD',\n",
       "       'Danville, CA', 'Wilmington, MA', 'New York, 061', 'Reading, MA',\n",
       "       'Folsom, CA', 'Wilsonville, OR', 'Huntsville, AL', 'Madison, WI',\n",
       "       'Phila, PA', 'Winston-Salem, NC', 'Half Moon Bay, CA',\n",
       "       'Los Angeles, CA', 'Hilliard, OH', 'Hanover, MD',\n",
       "       'Kansas City, MO', 'Bengaluru, India', 'Alpharetta, GA',\n",
       "       'Germantown, MD', 'Omaha, NE', 'Clifton Park, NY', 'Livonia, MI',\n",
       "       'Ashburn, VA', 'Nashville, TN', 'Alexandria, VA', 'Edison, NJ',\n",
       "       'Ventura, CA', 'Armonk, NY', 'Trumbull, CT', 'Chadds Ford, PA',\n",
       "       'Saint Paul, MN', 'Glen Allen, VA', 'Aliso Viejo, CA',\n",
       "       'Plainsboro, NJ', 'Fairmont, WV', 'Cherry Hill, NJ', 'Itasca, IL',\n",
       "       'Coconut Creek, FL', 'Lombard, IL', 'Honolulu, HI',\n",
       "       'Carle Place, NY', 'Cupertino, CA', 'Tampa, FL', 'Totowa, NJ',\n",
       "       'Rome, NY', 'Milan, IL', 'Marbella, Spain', 'Simi Valley, CA',\n",
       "       'Rancho Cucamonga, CA', 'Albuquerque, NM', 'Langley, VA',\n",
       "       'Plano, TX', 'Albertville, AL', 'Orange, CA', 'Littleton, CO',\n",
       "       'Oakville, Canada', 'San Bruno, CA', 'West Chester, PA',\n",
       "       'Utica, MI', 'Fort Lee, NJ'], dtype=object)"
      ]
     },
     "execution_count": 373,
     "metadata": {},
     "output_type": "execute_result"
    }
   ],
   "source": [
    "cleaned_data['Headquarters'].unique()"
   ]
  },
  {
   "cell_type": "markdown",
   "metadata": {},
   "source": [
    "* We noticed that we have cities and their states, plus there are some cities and their countries => we will only extract the cities."
   ]
  },
  {
   "cell_type": "code",
   "execution_count": 374,
   "metadata": {},
   "outputs": [],
   "source": [
    "cleaned_data['Headquarters_City'] = cleaned_data['Headquarters'].apply(lambda city : city.split(',')[0] )\n"
   ]
  },
  {
   "cell_type": "code",
   "execution_count": 375,
   "metadata": {},
   "outputs": [
    {
     "data": {
      "text/plain": [
       "array(['New York', 'Herndon', 'Boston', 'Bad Ragaz', 'Santa Barbara',\n",
       "       'Basel', 'Bedford', 'Mountain View', 'Chicago', 'Mc Lean',\n",
       "       'Saint Louis', 'Richland', 'Northbrook', 'Princeton',\n",
       "       'Mays Landing', 'Washington', 'Memphis', 'Tempe', 'Reading',\n",
       "       'San Francisco', 'Menlo Park', 'Atlanta', 'Orlando', 'Lexington',\n",
       "       'Falls Church', 'Sheboygan', 'Seattle', 'Bellevue', 'Lincoln',\n",
       "       'Chantilly', 'Santa Monica', 'Ewing', 'South San Francisco',\n",
       "       'Palo Alto', 'Singapore', 'Cambridge', 'OSAKA', 'Santa Clara',\n",
       "       'Vienna', 'New Orleans', 'Akron', 'Zurich', 'Woburn', 'Carson',\n",
       "       'Coral Gables', 'San Ramon', 'Brisbane', 'Winter Park',\n",
       "       'San Rafael', 'Deerfield', 'Ipswich', 'Carmel', 'Chevy Chase',\n",
       "       'Hartford', 'Emeryville', 'Rockville', 'Minneapolis', 'Austin',\n",
       "       'Yakima', 'Santa Cruz', 'South Jordan', 'Reston', 'Denver',\n",
       "       'Holmdel', 'Aurora', 'San Mateo', 'Goleta', 'Franklin',\n",
       "       'Indianapolis', 'Lutherville Timonium', 'Westminster',\n",
       "       'Burlingame', 'Annapolis Junction', 'Bethesda', 'Beavercreek',\n",
       "       'Schaumburg', 'Sunnyvale', 'Lehi', 'Lake Oswego', 'Holyoke',\n",
       "       'Dulles', 'San Diego', 'Detroit', 'Stamford', 'Carpinteria',\n",
       "       'Columbia', 'Unkown', \"Marcy-l'Etoile\", 'Fairfax', 'Chandler',\n",
       "       'Blue Bell', 'Troy', 'Redwood City', 'Greenville', 'Arlington',\n",
       "       'Harrisburg', 'Hamilton', 'Lynchburg', 'Springfield', 'San Carlos',\n",
       "       'Waltham', 'San Jose', 'Jersey City', 'Fort Worth', 'Cedar Rapids',\n",
       "       'McLean', 'Lorton', 'Maple Plain', 'Kent', 'Woodbine',\n",
       "       'San Antonio', 'Scotts Valley', 'Spartanburg', 'Woodbridge',\n",
       "       'Chennai', 'Tel Aviv-Yafo', 'Baltimore', 'Manalapan', 'Charlotte',\n",
       "       'Saxonburg', 'Bristol', 'Bangalore', 'Hoboken', 'Paris',\n",
       "       'Greenwich', 'Santa Ana', 'Houston', 'Tucson', 'Birmingham',\n",
       "       'Cleveland', 'Pleasanton', 'Columbus', 'Piscataway', 'Danvers',\n",
       "       'Philadelphia', 'Livermore', 'Pittsburgh', 'Dallas', 'Toronto',\n",
       "       'Irvine', 'Hillsborough', 'Oshkosh', 'Fremont', 'Monroe',\n",
       "       'Goteborg', 'Lake Buena Vista', 'Schaffhausen', 'Richmond',\n",
       "       'Newark', 'Greensboro', 'Scottsdale', 'Irving', 'Beltsville',\n",
       "       'Naperville', 'Brentford', 'Cincinnati', 'Somerset', 'London',\n",
       "       'Raleigh', 'Leesburg', 'Durham', 'Westlake Village',\n",
       "       'North Brunswick', 'Benicia', 'Laurel', 'Danville', 'Wilmington',\n",
       "       'Folsom', 'Wilsonville', 'Huntsville', 'Madison', 'Phila',\n",
       "       'Winston-Salem', 'Half Moon Bay', 'Los Angeles', 'Hilliard',\n",
       "       'Hanover', 'Kansas City', 'Bengaluru', 'Alpharetta', 'Germantown',\n",
       "       'Omaha', 'Clifton Park', 'Livonia', 'Ashburn', 'Nashville',\n",
       "       'Alexandria', 'Edison', 'Ventura', 'Armonk', 'Trumbull',\n",
       "       'Chadds Ford', 'Saint Paul', 'Glen Allen', 'Aliso Viejo',\n",
       "       'Plainsboro', 'Fairmont', 'Cherry Hill', 'Itasca', 'Coconut Creek',\n",
       "       'Lombard', 'Honolulu', 'Carle Place', 'Cupertino', 'Tampa',\n",
       "       'Totowa', 'Rome', 'Milan', 'Marbella', 'Simi Valley',\n",
       "       'Rancho Cucamonga', 'Albuquerque', 'Langley', 'Plano',\n",
       "       'Albertville', 'Orange', 'Littleton', 'Oakville', 'San Bruno',\n",
       "       'West Chester', 'Utica', 'Fort Lee'], dtype=object)"
      ]
     },
     "execution_count": 375,
     "metadata": {},
     "output_type": "execute_result"
    }
   ],
   "source": [
    "cleaned_data['Headquarters_City'].unique()"
   ]
  },
  {
   "cell_type": "code",
   "execution_count": 376,
   "metadata": {},
   "outputs": [
    {
     "data": {
      "text/html": [
       "<div>\n",
       "<style scoped>\n",
       "    .dataframe tbody tr th:only-of-type {\n",
       "        vertical-align: middle;\n",
       "    }\n",
       "\n",
       "    .dataframe tbody tr th {\n",
       "        vertical-align: top;\n",
       "    }\n",
       "\n",
       "    .dataframe thead th {\n",
       "        text-align: right;\n",
       "    }\n",
       "</style>\n",
       "<table border=\"1\" class=\"dataframe\">\n",
       "  <thead>\n",
       "    <tr style=\"text-align: right;\">\n",
       "      <th></th>\n",
       "      <th>Job Title</th>\n",
       "      <th>Salary Estimate</th>\n",
       "      <th>Job Description</th>\n",
       "      <th>Rating</th>\n",
       "      <th>Company Name</th>\n",
       "      <th>Location</th>\n",
       "      <th>Headquarters</th>\n",
       "      <th>Size</th>\n",
       "      <th>Founded</th>\n",
       "      <th>Type of ownership</th>\n",
       "      <th>Industry</th>\n",
       "      <th>Sector</th>\n",
       "      <th>Revenue</th>\n",
       "      <th>Job_Title_Simplified</th>\n",
       "      <th>Job_Seniority</th>\n",
       "      <th>Max_Salary_Estimate</th>\n",
       "      <th>Min_Salary_Estimate</th>\n",
       "      <th>Avg_Salary_Estimate</th>\n",
       "      <th>Location_State</th>\n",
       "      <th>Headquarters_City</th>\n",
       "    </tr>\n",
       "  </thead>\n",
       "  <tbody>\n",
       "    <tr>\n",
       "      <th>0</th>\n",
       "      <td>Sr Data Scientist</td>\n",
       "      <td>137-171</td>\n",
       "      <td>Description\\n\\nThe Senior Data Scientist is re...</td>\n",
       "      <td>3.1</td>\n",
       "      <td>Healthfirst</td>\n",
       "      <td>New York, NY</td>\n",
       "      <td>New York, NY</td>\n",
       "      <td>1001 to 5000 employees</td>\n",
       "      <td>1993</td>\n",
       "      <td>Nonprofit Organization</td>\n",
       "      <td>Insurance Carriers</td>\n",
       "      <td>Insurance</td>\n",
       "      <td>Unknown / Non-Applicable</td>\n",
       "      <td>Data Scientist</td>\n",
       "      <td>Senior</td>\n",
       "      <td>171</td>\n",
       "      <td>137</td>\n",
       "      <td>154</td>\n",
       "      <td>NY</td>\n",
       "      <td>New York</td>\n",
       "    </tr>\n",
       "    <tr>\n",
       "      <th>1</th>\n",
       "      <td>Data Scientist</td>\n",
       "      <td>137-171</td>\n",
       "      <td>Secure our Nation, Ignite your Future\\n\\nJoin ...</td>\n",
       "      <td>4.2</td>\n",
       "      <td>ManTech</td>\n",
       "      <td>Chantilly, VA</td>\n",
       "      <td>Herndon, VA</td>\n",
       "      <td>5001 to 10000 employees</td>\n",
       "      <td>1968</td>\n",
       "      <td>Company - Public</td>\n",
       "      <td>Research &amp; Development</td>\n",
       "      <td>Business Services</td>\n",
       "      <td>$1 to $2 billion (USD)</td>\n",
       "      <td>Data Scientist</td>\n",
       "      <td>NA</td>\n",
       "      <td>171</td>\n",
       "      <td>137</td>\n",
       "      <td>154</td>\n",
       "      <td>VA</td>\n",
       "      <td>Herndon</td>\n",
       "    </tr>\n",
       "    <tr>\n",
       "      <th>2</th>\n",
       "      <td>Data Scientist</td>\n",
       "      <td>137-171</td>\n",
       "      <td>Overview\\n\\n\\nAnalysis Group is one of the lar...</td>\n",
       "      <td>3.8</td>\n",
       "      <td>Analysis Group</td>\n",
       "      <td>Boston, MA</td>\n",
       "      <td>Boston, MA</td>\n",
       "      <td>1001 to 5000 employees</td>\n",
       "      <td>1981</td>\n",
       "      <td>Private Practice / Firm</td>\n",
       "      <td>Consulting</td>\n",
       "      <td>Business Services</td>\n",
       "      <td>$100 to $500 million (USD)</td>\n",
       "      <td>Data Scientist</td>\n",
       "      <td>NA</td>\n",
       "      <td>171</td>\n",
       "      <td>137</td>\n",
       "      <td>154</td>\n",
       "      <td>MA</td>\n",
       "      <td>Boston</td>\n",
       "    </tr>\n",
       "    <tr>\n",
       "      <th>3</th>\n",
       "      <td>Data Scientist</td>\n",
       "      <td>137-171</td>\n",
       "      <td>JOB DESCRIPTION:\\n\\nDo you have a passion for ...</td>\n",
       "      <td>3.5</td>\n",
       "      <td>INFICON</td>\n",
       "      <td>Newton, MA</td>\n",
       "      <td>Bad Ragaz, Switzerland</td>\n",
       "      <td>501 to 1000 employees</td>\n",
       "      <td>2000</td>\n",
       "      <td>Company - Public</td>\n",
       "      <td>Electrical &amp; Electronic Manufacturing</td>\n",
       "      <td>Manufacturing</td>\n",
       "      <td>$100 to $500 million (USD)</td>\n",
       "      <td>Data Scientist</td>\n",
       "      <td>NA</td>\n",
       "      <td>171</td>\n",
       "      <td>137</td>\n",
       "      <td>154</td>\n",
       "      <td>MA</td>\n",
       "      <td>Bad Ragaz</td>\n",
       "    </tr>\n",
       "    <tr>\n",
       "      <th>4</th>\n",
       "      <td>Data Scientist</td>\n",
       "      <td>137-171</td>\n",
       "      <td>Data Scientist\\nAffinity Solutions / Marketing...</td>\n",
       "      <td>2.9</td>\n",
       "      <td>Affinity Solutions</td>\n",
       "      <td>New York, NY</td>\n",
       "      <td>New York, NY</td>\n",
       "      <td>51 to 200 employees</td>\n",
       "      <td>1998</td>\n",
       "      <td>Company - Private</td>\n",
       "      <td>Advertising &amp; Marketing</td>\n",
       "      <td>Business Services</td>\n",
       "      <td>Unknown / Non-Applicable</td>\n",
       "      <td>Data Scientist</td>\n",
       "      <td>NA</td>\n",
       "      <td>171</td>\n",
       "      <td>137</td>\n",
       "      <td>154</td>\n",
       "      <td>NY</td>\n",
       "      <td>New York</td>\n",
       "    </tr>\n",
       "  </tbody>\n",
       "</table>\n",
       "</div>"
      ],
      "text/plain": [
       "           Job Title Salary Estimate  \\\n",
       "0  Sr Data Scientist        137-171    \n",
       "1     Data Scientist        137-171    \n",
       "2     Data Scientist        137-171    \n",
       "3     Data Scientist        137-171    \n",
       "4     Data Scientist        137-171    \n",
       "\n",
       "                                     Job Description  Rating  \\\n",
       "0  Description\\n\\nThe Senior Data Scientist is re...     3.1   \n",
       "1  Secure our Nation, Ignite your Future\\n\\nJoin ...     4.2   \n",
       "2  Overview\\n\\n\\nAnalysis Group is one of the lar...     3.8   \n",
       "3  JOB DESCRIPTION:\\n\\nDo you have a passion for ...     3.5   \n",
       "4  Data Scientist\\nAffinity Solutions / Marketing...     2.9   \n",
       "\n",
       "         Company Name       Location            Headquarters  \\\n",
       "0         Healthfirst   New York, NY            New York, NY   \n",
       "1             ManTech  Chantilly, VA             Herndon, VA   \n",
       "2      Analysis Group     Boston, MA              Boston, MA   \n",
       "3             INFICON     Newton, MA  Bad Ragaz, Switzerland   \n",
       "4  Affinity Solutions   New York, NY            New York, NY   \n",
       "\n",
       "                      Size  Founded        Type of ownership  \\\n",
       "0   1001 to 5000 employees     1993   Nonprofit Organization   \n",
       "1  5001 to 10000 employees     1968         Company - Public   \n",
       "2   1001 to 5000 employees     1981  Private Practice / Firm   \n",
       "3    501 to 1000 employees     2000         Company - Public   \n",
       "4      51 to 200 employees     1998        Company - Private   \n",
       "\n",
       "                                Industry             Sector  \\\n",
       "0                     Insurance Carriers          Insurance   \n",
       "1                 Research & Development  Business Services   \n",
       "2                             Consulting  Business Services   \n",
       "3  Electrical & Electronic Manufacturing      Manufacturing   \n",
       "4                Advertising & Marketing  Business Services   \n",
       "\n",
       "                      Revenue Job_Title_Simplified Job_Seniority  \\\n",
       "0    Unknown / Non-Applicable       Data Scientist        Senior   \n",
       "1      $1 to $2 billion (USD)       Data Scientist            NA   \n",
       "2  $100 to $500 million (USD)       Data Scientist            NA   \n",
       "3  $100 to $500 million (USD)       Data Scientist            NA   \n",
       "4    Unknown / Non-Applicable       Data Scientist            NA   \n",
       "\n",
       "   Max_Salary_Estimate  Min_Salary_Estimate  Avg_Salary_Estimate  \\\n",
       "0                  171                  137                  154   \n",
       "1                  171                  137                  154   \n",
       "2                  171                  137                  154   \n",
       "3                  171                  137                  154   \n",
       "4                  171                  137                  154   \n",
       "\n",
       "  Location_State Headquarters_City  \n",
       "0             NY          New York  \n",
       "1             VA           Herndon  \n",
       "2             MA            Boston  \n",
       "3             MA         Bad Ragaz  \n",
       "4             NY          New York  "
      ]
     },
     "execution_count": 376,
     "metadata": {},
     "output_type": "execute_result"
    }
   ],
   "source": [
    "cleaned_data.head()"
   ]
  },
  {
   "cell_type": "markdown",
   "metadata": {},
   "source": [
    "***\n",
    "##### Handling the Size Col.\n"
   ]
  },
  {
   "cell_type": "code",
   "execution_count": 377,
   "metadata": {},
   "outputs": [
    {
     "data": {
      "text/plain": [
       "Size\n",
       "51 to 200 employees        135\n",
       "1001 to 5000 employees     104\n",
       "1 to 50 employees           86\n",
       "201 to 500 employees        85\n",
       "10000+ employees            80\n",
       "501 to 1000 employees       77\n",
       "5001 to 10000 employees     61\n",
       "-1                          27\n",
       "Unknown                     17\n",
       "Name: count, dtype: int64"
      ]
     },
     "execution_count": 377,
     "metadata": {},
     "output_type": "execute_result"
    }
   ],
   "source": [
    "cleaned_data['Size'].value_counts()"
   ]
  },
  {
   "cell_type": "markdown",
   "metadata": {},
   "source": [
    "* We will classify the size into four categories:\n",
    "    * -1 and unknown => unknown\n",
    "    * size <= 250 => Small\n",
    "    * 250 < size <= 500 => Medium\n",
    "    * size > 500  => Large"
   ]
  },
  {
   "cell_type": "code",
   "execution_count": 378,
   "metadata": {},
   "outputs": [],
   "source": [
    "def size_classifier(num_employees):\n",
    "    if num_employees == '-1' or num_employees == 'Unknown':\n",
    "        return 'Unknown'\n",
    "    if \"+\" in num_employees:\n",
    "        num_employees = int(num_employees.split(\"+\")[0])\n",
    "    else:\n",
    "        num_employees = int(num_employees.split()[2])\n",
    "    if num_employees <= 250:\n",
    "        return 'Small'\n",
    "    elif num_employees <= 500:\n",
    "        return 'Medium'\n",
    "    else:\n",
    "        return 'Large'\n",
    "    \n"
   ]
  },
  {
   "cell_type": "code",
   "execution_count": 379,
   "metadata": {},
   "outputs": [],
   "source": [
    "cleaned_data['Size_Classified'] = cleaned_data['Size'].apply(size_classifier)"
   ]
  },
  {
   "cell_type": "code",
   "execution_count": 380,
   "metadata": {},
   "outputs": [
    {
     "data": {
      "text/html": [
       "<div>\n",
       "<style scoped>\n",
       "    .dataframe tbody tr th:only-of-type {\n",
       "        vertical-align: middle;\n",
       "    }\n",
       "\n",
       "    .dataframe tbody tr th {\n",
       "        vertical-align: top;\n",
       "    }\n",
       "\n",
       "    .dataframe thead th {\n",
       "        text-align: right;\n",
       "    }\n",
       "</style>\n",
       "<table border=\"1\" class=\"dataframe\">\n",
       "  <thead>\n",
       "    <tr style=\"text-align: right;\">\n",
       "      <th></th>\n",
       "      <th>Job Title</th>\n",
       "      <th>Salary Estimate</th>\n",
       "      <th>Job Description</th>\n",
       "      <th>Rating</th>\n",
       "      <th>Company Name</th>\n",
       "      <th>Location</th>\n",
       "      <th>Headquarters</th>\n",
       "      <th>Size</th>\n",
       "      <th>Founded</th>\n",
       "      <th>Type of ownership</th>\n",
       "      <th>...</th>\n",
       "      <th>Sector</th>\n",
       "      <th>Revenue</th>\n",
       "      <th>Job_Title_Simplified</th>\n",
       "      <th>Job_Seniority</th>\n",
       "      <th>Max_Salary_Estimate</th>\n",
       "      <th>Min_Salary_Estimate</th>\n",
       "      <th>Avg_Salary_Estimate</th>\n",
       "      <th>Location_State</th>\n",
       "      <th>Headquarters_City</th>\n",
       "      <th>Size_Classified</th>\n",
       "    </tr>\n",
       "  </thead>\n",
       "  <tbody>\n",
       "    <tr>\n",
       "      <th>0</th>\n",
       "      <td>Sr Data Scientist</td>\n",
       "      <td>137-171</td>\n",
       "      <td>Description\\n\\nThe Senior Data Scientist is re...</td>\n",
       "      <td>3.1</td>\n",
       "      <td>Healthfirst</td>\n",
       "      <td>New York, NY</td>\n",
       "      <td>New York, NY</td>\n",
       "      <td>1001 to 5000 employees</td>\n",
       "      <td>1993</td>\n",
       "      <td>Nonprofit Organization</td>\n",
       "      <td>...</td>\n",
       "      <td>Insurance</td>\n",
       "      <td>Unknown / Non-Applicable</td>\n",
       "      <td>Data Scientist</td>\n",
       "      <td>Senior</td>\n",
       "      <td>171</td>\n",
       "      <td>137</td>\n",
       "      <td>154</td>\n",
       "      <td>NY</td>\n",
       "      <td>New York</td>\n",
       "      <td>Large</td>\n",
       "    </tr>\n",
       "    <tr>\n",
       "      <th>1</th>\n",
       "      <td>Data Scientist</td>\n",
       "      <td>137-171</td>\n",
       "      <td>Secure our Nation, Ignite your Future\\n\\nJoin ...</td>\n",
       "      <td>4.2</td>\n",
       "      <td>ManTech</td>\n",
       "      <td>Chantilly, VA</td>\n",
       "      <td>Herndon, VA</td>\n",
       "      <td>5001 to 10000 employees</td>\n",
       "      <td>1968</td>\n",
       "      <td>Company - Public</td>\n",
       "      <td>...</td>\n",
       "      <td>Business Services</td>\n",
       "      <td>$1 to $2 billion (USD)</td>\n",
       "      <td>Data Scientist</td>\n",
       "      <td>NA</td>\n",
       "      <td>171</td>\n",
       "      <td>137</td>\n",
       "      <td>154</td>\n",
       "      <td>VA</td>\n",
       "      <td>Herndon</td>\n",
       "      <td>Large</td>\n",
       "    </tr>\n",
       "    <tr>\n",
       "      <th>2</th>\n",
       "      <td>Data Scientist</td>\n",
       "      <td>137-171</td>\n",
       "      <td>Overview\\n\\n\\nAnalysis Group is one of the lar...</td>\n",
       "      <td>3.8</td>\n",
       "      <td>Analysis Group</td>\n",
       "      <td>Boston, MA</td>\n",
       "      <td>Boston, MA</td>\n",
       "      <td>1001 to 5000 employees</td>\n",
       "      <td>1981</td>\n",
       "      <td>Private Practice / Firm</td>\n",
       "      <td>...</td>\n",
       "      <td>Business Services</td>\n",
       "      <td>$100 to $500 million (USD)</td>\n",
       "      <td>Data Scientist</td>\n",
       "      <td>NA</td>\n",
       "      <td>171</td>\n",
       "      <td>137</td>\n",
       "      <td>154</td>\n",
       "      <td>MA</td>\n",
       "      <td>Boston</td>\n",
       "      <td>Large</td>\n",
       "    </tr>\n",
       "    <tr>\n",
       "      <th>3</th>\n",
       "      <td>Data Scientist</td>\n",
       "      <td>137-171</td>\n",
       "      <td>JOB DESCRIPTION:\\n\\nDo you have a passion for ...</td>\n",
       "      <td>3.5</td>\n",
       "      <td>INFICON</td>\n",
       "      <td>Newton, MA</td>\n",
       "      <td>Bad Ragaz, Switzerland</td>\n",
       "      <td>501 to 1000 employees</td>\n",
       "      <td>2000</td>\n",
       "      <td>Company - Public</td>\n",
       "      <td>...</td>\n",
       "      <td>Manufacturing</td>\n",
       "      <td>$100 to $500 million (USD)</td>\n",
       "      <td>Data Scientist</td>\n",
       "      <td>NA</td>\n",
       "      <td>171</td>\n",
       "      <td>137</td>\n",
       "      <td>154</td>\n",
       "      <td>MA</td>\n",
       "      <td>Bad Ragaz</td>\n",
       "      <td>Large</td>\n",
       "    </tr>\n",
       "    <tr>\n",
       "      <th>4</th>\n",
       "      <td>Data Scientist</td>\n",
       "      <td>137-171</td>\n",
       "      <td>Data Scientist\\nAffinity Solutions / Marketing...</td>\n",
       "      <td>2.9</td>\n",
       "      <td>Affinity Solutions</td>\n",
       "      <td>New York, NY</td>\n",
       "      <td>New York, NY</td>\n",
       "      <td>51 to 200 employees</td>\n",
       "      <td>1998</td>\n",
       "      <td>Company - Private</td>\n",
       "      <td>...</td>\n",
       "      <td>Business Services</td>\n",
       "      <td>Unknown / Non-Applicable</td>\n",
       "      <td>Data Scientist</td>\n",
       "      <td>NA</td>\n",
       "      <td>171</td>\n",
       "      <td>137</td>\n",
       "      <td>154</td>\n",
       "      <td>NY</td>\n",
       "      <td>New York</td>\n",
       "      <td>Small</td>\n",
       "    </tr>\n",
       "  </tbody>\n",
       "</table>\n",
       "<p>5 rows × 21 columns</p>\n",
       "</div>"
      ],
      "text/plain": [
       "           Job Title Salary Estimate  \\\n",
       "0  Sr Data Scientist        137-171    \n",
       "1     Data Scientist        137-171    \n",
       "2     Data Scientist        137-171    \n",
       "3     Data Scientist        137-171    \n",
       "4     Data Scientist        137-171    \n",
       "\n",
       "                                     Job Description  Rating  \\\n",
       "0  Description\\n\\nThe Senior Data Scientist is re...     3.1   \n",
       "1  Secure our Nation, Ignite your Future\\n\\nJoin ...     4.2   \n",
       "2  Overview\\n\\n\\nAnalysis Group is one of the lar...     3.8   \n",
       "3  JOB DESCRIPTION:\\n\\nDo you have a passion for ...     3.5   \n",
       "4  Data Scientist\\nAffinity Solutions / Marketing...     2.9   \n",
       "\n",
       "         Company Name       Location            Headquarters  \\\n",
       "0         Healthfirst   New York, NY            New York, NY   \n",
       "1             ManTech  Chantilly, VA             Herndon, VA   \n",
       "2      Analysis Group     Boston, MA              Boston, MA   \n",
       "3             INFICON     Newton, MA  Bad Ragaz, Switzerland   \n",
       "4  Affinity Solutions   New York, NY            New York, NY   \n",
       "\n",
       "                      Size  Founded        Type of ownership  ...  \\\n",
       "0   1001 to 5000 employees     1993   Nonprofit Organization  ...   \n",
       "1  5001 to 10000 employees     1968         Company - Public  ...   \n",
       "2   1001 to 5000 employees     1981  Private Practice / Firm  ...   \n",
       "3    501 to 1000 employees     2000         Company - Public  ...   \n",
       "4      51 to 200 employees     1998        Company - Private  ...   \n",
       "\n",
       "              Sector                     Revenue Job_Title_Simplified  \\\n",
       "0          Insurance    Unknown / Non-Applicable       Data Scientist   \n",
       "1  Business Services      $1 to $2 billion (USD)       Data Scientist   \n",
       "2  Business Services  $100 to $500 million (USD)       Data Scientist   \n",
       "3      Manufacturing  $100 to $500 million (USD)       Data Scientist   \n",
       "4  Business Services    Unknown / Non-Applicable       Data Scientist   \n",
       "\n",
       "  Job_Seniority Max_Salary_Estimate  Min_Salary_Estimate  Avg_Salary_Estimate  \\\n",
       "0        Senior                 171                  137                  154   \n",
       "1            NA                 171                  137                  154   \n",
       "2            NA                 171                  137                  154   \n",
       "3            NA                 171                  137                  154   \n",
       "4            NA                 171                  137                  154   \n",
       "\n",
       "   Location_State Headquarters_City Size_Classified  \n",
       "0              NY          New York           Large  \n",
       "1              VA           Herndon           Large  \n",
       "2              MA            Boston           Large  \n",
       "3              MA         Bad Ragaz           Large  \n",
       "4              NY          New York           Small  \n",
       "\n",
       "[5 rows x 21 columns]"
      ]
     },
     "execution_count": 380,
     "metadata": {},
     "output_type": "execute_result"
    }
   ],
   "source": [
    "cleaned_data.head()"
   ]
  },
  {
   "cell_type": "markdown",
   "metadata": {},
   "source": [
    "***\n",
    "##### Handling the Founded Col."
   ]
  },
  {
   "cell_type": "code",
   "execution_count": 381,
   "metadata": {},
   "outputs": [
    {
     "data": {
      "text/plain": [
       "array([1993, 1968, 1981, 2000, 1998, 2010, 1996, 1990, 1983, 2014, 2012,\n",
       "       2016, 1965, 1973, 1986, 1997, 2015, 1945, 1988, 2017, 2011, 1967,\n",
       "       1860, 1992, 2003, 1951, 2005, 2019, 1925, 2008, 1999, 1978, 1966,\n",
       "       1912, 1958, 2013, 1849, 1781, 1926, 2006, 1994, 1863, 1995,   -1,\n",
       "       1982, 1974, 2001, 1985, 1913, 1971, 1911, 2009, 1959, 2007, 1939,\n",
       "       2002, 1961, 1963, 1969, 1946, 1957, 1953, 1948, 1850, 1851, 2004,\n",
       "       1976, 1918, 1954, 1947, 1955, 2018, 1937, 1917, 1935, 1929, 1820,\n",
       "       1952, 1932, 1894, 1960, 1788, 1830, 1984, 1933, 1880, 1887, 1970,\n",
       "       1942, 1980, 1989, 1908, 1853, 1875, 1914, 1898, 1956, 1977, 1987,\n",
       "       1896, 1972, 1949, 1962], dtype=int64)"
      ]
     },
     "execution_count": 381,
     "metadata": {},
     "output_type": "execute_result"
    }
   ],
   "source": [
    "cleaned_data['Founded'].unique()"
   ]
  },
  {
   "cell_type": "code",
   "execution_count": 382,
   "metadata": {},
   "outputs": [
    {
     "data": {
      "text/plain": [
       "count     672.000000\n",
       "mean     1635.529762\n",
       "std       756.746640\n",
       "min        -1.000000\n",
       "25%      1917.750000\n",
       "50%      1995.000000\n",
       "75%      2009.000000\n",
       "max      2019.000000\n",
       "Name: Founded, dtype: float64"
      ]
     },
     "execution_count": 382,
     "metadata": {},
     "output_type": "execute_result"
    }
   ],
   "source": [
    "cleaned_data['Founded'].describe()"
   ]
  },
  {
   "cell_type": "markdown",
   "metadata": {},
   "source": [
    "* Remark: there is a \"-1\" appreaing among the unique values, possibly indicating missing values."
   ]
  },
  {
   "cell_type": "code",
   "execution_count": 383,
   "metadata": {},
   "outputs": [
    {
     "data": {
      "text/plain": [
       "array([1993, 1968, 1981, 2000, 1998, 2010, 1996, 1990, 1983, 2014, 2012,\n",
       "       2016, 1965, 1973, 1986, 1997, 2015, 1945, 1988, 2017, 2011, 1967,\n",
       "       1860, 1992, 2003, 1951, 2005, 2019, 1925, 2008, 1999, 1978, 1966,\n",
       "       1912, 1958, 2013, 1849, 1781, 1926, 2006, 1994, 1863, 1995, 2024,\n",
       "       1982, 1974, 2001, 1985, 1913, 1971, 1911, 2009, 1959, 2007, 1939,\n",
       "       2002, 1961, 1963, 1969, 1946, 1957, 1953, 1948, 1850, 1851, 2004,\n",
       "       1976, 1918, 1954, 1947, 1955, 2018, 1937, 1917, 1935, 1929, 1820,\n",
       "       1952, 1932, 1894, 1960, 1788, 1830, 1984, 1933, 1880, 1887, 1970,\n",
       "       1942, 1980, 1989, 1908, 1853, 1875, 1914, 1898, 1956, 1977, 1987,\n",
       "       1896, 1972, 1949, 1962], dtype=int64)"
      ]
     },
     "execution_count": 383,
     "metadata": {},
     "output_type": "execute_result"
    }
   ],
   "source": [
    "# we chose to replace the Founded values of -1 with the current year i.e., 2024\n",
    "cleaned_data['Founded'] = cleaned_data['Founded'].replace(-1, 2024) \n",
    "cleaned_data[\"Founded\"].unique()"
   ]
  },
  {
   "cell_type": "code",
   "execution_count": 384,
   "metadata": {},
   "outputs": [],
   "source": [
    "# We add a new feature that indicate years in business of a given company\n",
    "cleaned_data['Years_in_Business'] = 2024 - cleaned_data['Founded']"
   ]
  },
  {
   "cell_type": "code",
   "execution_count": 385,
   "metadata": {},
   "outputs": [
    {
     "data": {
      "text/html": [
       "<div>\n",
       "<style scoped>\n",
       "    .dataframe tbody tr th:only-of-type {\n",
       "        vertical-align: middle;\n",
       "    }\n",
       "\n",
       "    .dataframe tbody tr th {\n",
       "        vertical-align: top;\n",
       "    }\n",
       "\n",
       "    .dataframe thead th {\n",
       "        text-align: right;\n",
       "    }\n",
       "</style>\n",
       "<table border=\"1\" class=\"dataframe\">\n",
       "  <thead>\n",
       "    <tr style=\"text-align: right;\">\n",
       "      <th></th>\n",
       "      <th>Job Title</th>\n",
       "      <th>Salary Estimate</th>\n",
       "      <th>Job Description</th>\n",
       "      <th>Rating</th>\n",
       "      <th>Company Name</th>\n",
       "      <th>Location</th>\n",
       "      <th>Headquarters</th>\n",
       "      <th>Size</th>\n",
       "      <th>Founded</th>\n",
       "      <th>Type of ownership</th>\n",
       "      <th>...</th>\n",
       "      <th>Revenue</th>\n",
       "      <th>Job_Title_Simplified</th>\n",
       "      <th>Job_Seniority</th>\n",
       "      <th>Max_Salary_Estimate</th>\n",
       "      <th>Min_Salary_Estimate</th>\n",
       "      <th>Avg_Salary_Estimate</th>\n",
       "      <th>Location_State</th>\n",
       "      <th>Headquarters_City</th>\n",
       "      <th>Size_Classified</th>\n",
       "      <th>Years_in_Business</th>\n",
       "    </tr>\n",
       "  </thead>\n",
       "  <tbody>\n",
       "    <tr>\n",
       "      <th>0</th>\n",
       "      <td>Sr Data Scientist</td>\n",
       "      <td>137-171</td>\n",
       "      <td>Description\\n\\nThe Senior Data Scientist is re...</td>\n",
       "      <td>3.1</td>\n",
       "      <td>Healthfirst</td>\n",
       "      <td>New York, NY</td>\n",
       "      <td>New York, NY</td>\n",
       "      <td>1001 to 5000 employees</td>\n",
       "      <td>1993</td>\n",
       "      <td>Nonprofit Organization</td>\n",
       "      <td>...</td>\n",
       "      <td>Unknown / Non-Applicable</td>\n",
       "      <td>Data Scientist</td>\n",
       "      <td>Senior</td>\n",
       "      <td>171</td>\n",
       "      <td>137</td>\n",
       "      <td>154</td>\n",
       "      <td>NY</td>\n",
       "      <td>New York</td>\n",
       "      <td>Large</td>\n",
       "      <td>31</td>\n",
       "    </tr>\n",
       "    <tr>\n",
       "      <th>1</th>\n",
       "      <td>Data Scientist</td>\n",
       "      <td>137-171</td>\n",
       "      <td>Secure our Nation, Ignite your Future\\n\\nJoin ...</td>\n",
       "      <td>4.2</td>\n",
       "      <td>ManTech</td>\n",
       "      <td>Chantilly, VA</td>\n",
       "      <td>Herndon, VA</td>\n",
       "      <td>5001 to 10000 employees</td>\n",
       "      <td>1968</td>\n",
       "      <td>Company - Public</td>\n",
       "      <td>...</td>\n",
       "      <td>$1 to $2 billion (USD)</td>\n",
       "      <td>Data Scientist</td>\n",
       "      <td>NA</td>\n",
       "      <td>171</td>\n",
       "      <td>137</td>\n",
       "      <td>154</td>\n",
       "      <td>VA</td>\n",
       "      <td>Herndon</td>\n",
       "      <td>Large</td>\n",
       "      <td>56</td>\n",
       "    </tr>\n",
       "    <tr>\n",
       "      <th>2</th>\n",
       "      <td>Data Scientist</td>\n",
       "      <td>137-171</td>\n",
       "      <td>Overview\\n\\n\\nAnalysis Group is one of the lar...</td>\n",
       "      <td>3.8</td>\n",
       "      <td>Analysis Group</td>\n",
       "      <td>Boston, MA</td>\n",
       "      <td>Boston, MA</td>\n",
       "      <td>1001 to 5000 employees</td>\n",
       "      <td>1981</td>\n",
       "      <td>Private Practice / Firm</td>\n",
       "      <td>...</td>\n",
       "      <td>$100 to $500 million (USD)</td>\n",
       "      <td>Data Scientist</td>\n",
       "      <td>NA</td>\n",
       "      <td>171</td>\n",
       "      <td>137</td>\n",
       "      <td>154</td>\n",
       "      <td>MA</td>\n",
       "      <td>Boston</td>\n",
       "      <td>Large</td>\n",
       "      <td>43</td>\n",
       "    </tr>\n",
       "    <tr>\n",
       "      <th>3</th>\n",
       "      <td>Data Scientist</td>\n",
       "      <td>137-171</td>\n",
       "      <td>JOB DESCRIPTION:\\n\\nDo you have a passion for ...</td>\n",
       "      <td>3.5</td>\n",
       "      <td>INFICON</td>\n",
       "      <td>Newton, MA</td>\n",
       "      <td>Bad Ragaz, Switzerland</td>\n",
       "      <td>501 to 1000 employees</td>\n",
       "      <td>2000</td>\n",
       "      <td>Company - Public</td>\n",
       "      <td>...</td>\n",
       "      <td>$100 to $500 million (USD)</td>\n",
       "      <td>Data Scientist</td>\n",
       "      <td>NA</td>\n",
       "      <td>171</td>\n",
       "      <td>137</td>\n",
       "      <td>154</td>\n",
       "      <td>MA</td>\n",
       "      <td>Bad Ragaz</td>\n",
       "      <td>Large</td>\n",
       "      <td>24</td>\n",
       "    </tr>\n",
       "    <tr>\n",
       "      <th>4</th>\n",
       "      <td>Data Scientist</td>\n",
       "      <td>137-171</td>\n",
       "      <td>Data Scientist\\nAffinity Solutions / Marketing...</td>\n",
       "      <td>2.9</td>\n",
       "      <td>Affinity Solutions</td>\n",
       "      <td>New York, NY</td>\n",
       "      <td>New York, NY</td>\n",
       "      <td>51 to 200 employees</td>\n",
       "      <td>1998</td>\n",
       "      <td>Company - Private</td>\n",
       "      <td>...</td>\n",
       "      <td>Unknown / Non-Applicable</td>\n",
       "      <td>Data Scientist</td>\n",
       "      <td>NA</td>\n",
       "      <td>171</td>\n",
       "      <td>137</td>\n",
       "      <td>154</td>\n",
       "      <td>NY</td>\n",
       "      <td>New York</td>\n",
       "      <td>Small</td>\n",
       "      <td>26</td>\n",
       "    </tr>\n",
       "  </tbody>\n",
       "</table>\n",
       "<p>5 rows × 22 columns</p>\n",
       "</div>"
      ],
      "text/plain": [
       "           Job Title Salary Estimate  \\\n",
       "0  Sr Data Scientist        137-171    \n",
       "1     Data Scientist        137-171    \n",
       "2     Data Scientist        137-171    \n",
       "3     Data Scientist        137-171    \n",
       "4     Data Scientist        137-171    \n",
       "\n",
       "                                     Job Description  Rating  \\\n",
       "0  Description\\n\\nThe Senior Data Scientist is re...     3.1   \n",
       "1  Secure our Nation, Ignite your Future\\n\\nJoin ...     4.2   \n",
       "2  Overview\\n\\n\\nAnalysis Group is one of the lar...     3.8   \n",
       "3  JOB DESCRIPTION:\\n\\nDo you have a passion for ...     3.5   \n",
       "4  Data Scientist\\nAffinity Solutions / Marketing...     2.9   \n",
       "\n",
       "         Company Name       Location            Headquarters  \\\n",
       "0         Healthfirst   New York, NY            New York, NY   \n",
       "1             ManTech  Chantilly, VA             Herndon, VA   \n",
       "2      Analysis Group     Boston, MA              Boston, MA   \n",
       "3             INFICON     Newton, MA  Bad Ragaz, Switzerland   \n",
       "4  Affinity Solutions   New York, NY            New York, NY   \n",
       "\n",
       "                      Size  Founded        Type of ownership  ...  \\\n",
       "0   1001 to 5000 employees     1993   Nonprofit Organization  ...   \n",
       "1  5001 to 10000 employees     1968         Company - Public  ...   \n",
       "2   1001 to 5000 employees     1981  Private Practice / Firm  ...   \n",
       "3    501 to 1000 employees     2000         Company - Public  ...   \n",
       "4      51 to 200 employees     1998        Company - Private  ...   \n",
       "\n",
       "                      Revenue Job_Title_Simplified Job_Seniority  \\\n",
       "0    Unknown / Non-Applicable       Data Scientist        Senior   \n",
       "1      $1 to $2 billion (USD)       Data Scientist            NA   \n",
       "2  $100 to $500 million (USD)       Data Scientist            NA   \n",
       "3  $100 to $500 million (USD)       Data Scientist            NA   \n",
       "4    Unknown / Non-Applicable       Data Scientist            NA   \n",
       "\n",
       "  Max_Salary_Estimate Min_Salary_Estimate  Avg_Salary_Estimate  \\\n",
       "0                 171                 137                  154   \n",
       "1                 171                 137                  154   \n",
       "2                 171                 137                  154   \n",
       "3                 171                 137                  154   \n",
       "4                 171                 137                  154   \n",
       "\n",
       "   Location_State  Headquarters_City Size_Classified Years_in_Business  \n",
       "0              NY           New York           Large                31  \n",
       "1              VA            Herndon           Large                56  \n",
       "2              MA             Boston           Large                43  \n",
       "3              MA          Bad Ragaz           Large                24  \n",
       "4              NY           New York           Small                26  \n",
       "\n",
       "[5 rows x 22 columns]"
      ]
     },
     "execution_count": 385,
     "metadata": {},
     "output_type": "execute_result"
    }
   ],
   "source": [
    "cleaned_data.head()"
   ]
  },
  {
   "cell_type": "markdown",
   "metadata": {},
   "source": [
    "***\n",
    "##### Handling the Type of ownership Col."
   ]
  },
  {
   "cell_type": "code",
   "execution_count": 386,
   "metadata": {},
   "outputs": [
    {
     "data": {
      "text/plain": [
       "Type of ownership\n",
       "Company - Private                 397\n",
       "Company - Public                  153\n",
       "Nonprofit Organization             36\n",
       "Subsidiary or Business Segment     28\n",
       "-1                                 27\n",
       "Government                         10\n",
       "Other Organization                  5\n",
       "Private Practice / Firm             4\n",
       "Unknown                             4\n",
       "College / University                3\n",
       "Self-employed                       2\n",
       "Contract                            2\n",
       "Hospital                            1\n",
       "Name: count, dtype: int64"
      ]
     },
     "execution_count": 386,
     "metadata": {},
     "output_type": "execute_result"
    }
   ],
   "source": [
    "cleaned_data['Type of ownership'].value_counts()\n"
   ]
  },
  {
   "cell_type": "markdown",
   "metadata": {},
   "source": [
    "* '-1' and 'Unknown' will be replaced by 'Other Organization'"
   ]
  },
  {
   "cell_type": "code",
   "execution_count": 387,
   "metadata": {},
   "outputs": [
    {
     "data": {
      "text/plain": [
       "Type of ownership\n",
       "Company - Private                 397\n",
       "Company - Public                  153\n",
       "Nonprofit Organization             36\n",
       "Unknown                            31\n",
       "Subsidiary or Business Segment     28\n",
       "Government                         10\n",
       "Other Organization                  5\n",
       "Private Practice / Firm             4\n",
       "College / University                3\n",
       "Self-employed                       2\n",
       "Contract                            2\n",
       "Hospital                            1\n",
       "Name: count, dtype: int64"
      ]
     },
     "execution_count": 387,
     "metadata": {},
     "output_type": "execute_result"
    }
   ],
   "source": [
    "cleaned_data['Type of ownership'] = cleaned_data['Type of ownership'].replace('-1','Unknown')\n",
    "cleaned_data['Type of ownership'].value_counts()\n"
   ]
  },
  {
   "cell_type": "markdown",
   "metadata": {},
   "source": [
    "***\n",
    "##### Handling the Industry Col."
   ]
  },
  {
   "cell_type": "code",
   "execution_count": 388,
   "metadata": {},
   "outputs": [
    {
     "data": {
      "text/plain": [
       "Industry\n",
       "-1                                          71\n",
       "Biotech & Pharmaceuticals                   66\n",
       "IT Services                                 61\n",
       "Computer Hardware & Software                57\n",
       "Aerospace & Defense                         46\n",
       "Enterprise Software & Network Solutions     43\n",
       "Consulting                                  38\n",
       "Staffing & Outsourcing                      36\n",
       "Insurance Carriers                          28\n",
       "Internet                                    27\n",
       "Advertising & Marketing                     23\n",
       "Health Care Services & Hospitals            21\n",
       "Research & Development                      17\n",
       "Federal Agencies                            16\n",
       "Investment Banking & Asset Management       13\n",
       "Banks & Credit Unions                        8\n",
       "Lending                                      8\n",
       "Energy                                       5\n",
       "Consumer Products Manufacturing              5\n",
       "Telecommunications Services                  5\n",
       "Insurance Agencies & Brokerages              4\n",
       "Food & Beverage Manufacturing                4\n",
       "Utilities                                    3\n",
       "Electrical & Electronic Manufacturing        3\n",
       "Colleges & Universities                      3\n",
       "Other Retail Stores                          3\n",
       "Architectural & Engineering Services         3\n",
       "Chemical Manufacturing                       3\n",
       "Real Estate                                  3\n",
       "Miscellaneous Manufacturing                  3\n",
       "Accounting                                   3\n",
       "Wholesale                                    3\n",
       "Industrial Manufacturing                     3\n",
       "Video Games                                  3\n",
       "Travel Agencies                              2\n",
       "Express Delivery Services                    2\n",
       "Timber Operations                            2\n",
       "Financial Transaction Processing             2\n",
       "Construction                                 2\n",
       "Health, Beauty, & Fitness                    2\n",
       "Transportation Equipment Manufacturing       2\n",
       "Oil & Gas Services                           2\n",
       "Venture Capital & Private Equity             2\n",
       "Consumer Electronics & Appliances Stores     2\n",
       "Department, Clothing, & Shoe Stores          1\n",
       "Publishing                                   1\n",
       "Social Assistance                            1\n",
       "Farm Support Services                        1\n",
       "Logistics & Supply Chain                     1\n",
       "Transportation Management                    1\n",
       "State & Regional Agencies                    1\n",
       "Hotels, Motels, & Resorts                    1\n",
       "Food & Beverage Stores                       1\n",
       "News Outlet                                  1\n",
       "Telecommunications Manufacturing             1\n",
       "Cable, Internet & Telephone Providers        1\n",
       "Shipping                                     1\n",
       "Rail                                         1\n",
       "Name: count, dtype: int64"
      ]
     },
     "execution_count": 388,
     "metadata": {},
     "output_type": "execute_result"
    }
   ],
   "source": [
    "cleaned_data['Industry'].value_counts()"
   ]
  },
  {
   "cell_type": "code",
   "execution_count": 389,
   "metadata": {},
   "outputs": [
    {
     "data": {
      "text/plain": [
       "array(['Insurance Carriers', 'Research & Development', 'Consulting',\n",
       "       'Electrical & Electronic Manufacturing', 'Advertising & Marketing',\n",
       "       'Computer Hardware & Software', 'Biotech & Pharmaceuticals',\n",
       "       'Consumer Electronics & Appliances Stores',\n",
       "       'Enterprise Software & Network Solutions', 'IT Services', 'Energy',\n",
       "       'Chemical Manufacturing', 'Federal Agencies', 'Internet',\n",
       "       'Health Care Services & Hospitals',\n",
       "       'Investment Banking & Asset Management', 'Aerospace & Defense',\n",
       "       'Utilities', '-1', 'Express Delivery Services',\n",
       "       'Staffing & Outsourcing', 'Insurance Agencies & Brokerages',\n",
       "       'Consumer Products Manufacturing', 'Industrial Manufacturing',\n",
       "       'Food & Beverage Manufacturing', 'Banks & Credit Unions',\n",
       "       'Video Games', 'Shipping', 'Telecommunications Services',\n",
       "       'Lending', 'Cable, Internet & Telephone Providers', 'Real Estate',\n",
       "       'Venture Capital & Private Equity', 'Miscellaneous Manufacturing',\n",
       "       'Oil & Gas Services', 'Transportation Equipment Manufacturing',\n",
       "       'Telecommunications Manufacturing', 'Transportation Management',\n",
       "       'News Outlet', 'Architectural & Engineering Services',\n",
       "       'Food & Beverage Stores', 'Other Retail Stores',\n",
       "       'Hotels, Motels, & Resorts', 'State & Regional Agencies',\n",
       "       'Financial Transaction Processing', 'Timber Operations',\n",
       "       'Colleges & Universities', 'Travel Agencies', 'Accounting',\n",
       "       'Logistics & Supply Chain', 'Farm Support Services',\n",
       "       'Social Assistance', 'Construction',\n",
       "       'Department, Clothing, & Shoe Stores', 'Publishing',\n",
       "       'Health, Beauty, & Fitness', 'Wholesale', 'Rail'], dtype=object)"
      ]
     },
     "execution_count": 389,
     "metadata": {},
     "output_type": "execute_result"
    }
   ],
   "source": [
    "cleaned_data['Industry'].unique()"
   ]
  },
  {
   "cell_type": "code",
   "execution_count": 390,
   "metadata": {},
   "outputs": [
    {
     "data": {
      "text/plain": [
       "Industry\n",
       "Unknown                                     71\n",
       "Biotech & Pharmaceuticals                   66\n",
       "IT Services                                 61\n",
       "Computer Hardware & Software                57\n",
       "Aerospace & Defense                         46\n",
       "Enterprise Software & Network Solutions     43\n",
       "Consulting                                  38\n",
       "Staffing & Outsourcing                      36\n",
       "Insurance Carriers                          28\n",
       "Internet                                    27\n",
       "Advertising & Marketing                     23\n",
       "Health Care Services & Hospitals            21\n",
       "Research & Development                      17\n",
       "Federal Agencies                            16\n",
       "Investment Banking & Asset Management       13\n",
       "Banks & Credit Unions                        8\n",
       "Lending                                      8\n",
       "Energy                                       5\n",
       "Consumer Products Manufacturing              5\n",
       "Telecommunications Services                  5\n",
       "Insurance Agencies & Brokerages              4\n",
       "Food & Beverage Manufacturing                4\n",
       "Utilities                                    3\n",
       "Electrical & Electronic Manufacturing        3\n",
       "Colleges & Universities                      3\n",
       "Other Retail Stores                          3\n",
       "Architectural & Engineering Services         3\n",
       "Chemical Manufacturing                       3\n",
       "Real Estate                                  3\n",
       "Miscellaneous Manufacturing                  3\n",
       "Accounting                                   3\n",
       "Wholesale                                    3\n",
       "Industrial Manufacturing                     3\n",
       "Video Games                                  3\n",
       "Travel Agencies                              2\n",
       "Express Delivery Services                    2\n",
       "Timber Operations                            2\n",
       "Financial Transaction Processing             2\n",
       "Construction                                 2\n",
       "Health, Beauty, & Fitness                    2\n",
       "Transportation Equipment Manufacturing       2\n",
       "Oil & Gas Services                           2\n",
       "Venture Capital & Private Equity             2\n",
       "Consumer Electronics & Appliances Stores     2\n",
       "Department, Clothing, & Shoe Stores          1\n",
       "Publishing                                   1\n",
       "Social Assistance                            1\n",
       "Farm Support Services                        1\n",
       "Logistics & Supply Chain                     1\n",
       "Transportation Management                    1\n",
       "State & Regional Agencies                    1\n",
       "Hotels, Motels, & Resorts                    1\n",
       "Food & Beverage Stores                       1\n",
       "News Outlet                                  1\n",
       "Telecommunications Manufacturing             1\n",
       "Cable, Internet & Telephone Providers        1\n",
       "Shipping                                     1\n",
       "Rail                                         1\n",
       "Name: count, dtype: int64"
      ]
     },
     "execution_count": 390,
     "metadata": {},
     "output_type": "execute_result"
    }
   ],
   "source": [
    "cleaned_data['Industry'] = cleaned_data['Industry'].replace('-1', 'Unknown')\n",
    "cleaned_data['Industry'].value_counts()"
   ]
  },
  {
   "cell_type": "markdown",
   "metadata": {},
   "source": [
    "Let's group the industries into borader categories "
   ]
  },
  {
   "cell_type": "code",
   "execution_count": 391,
   "metadata": {},
   "outputs": [],
   "source": [
    "# Function to categorize the industry col.\n",
    "def categorize_industry(industry):\n",
    "    tech = ['IT Services', 'Computer Hardware & Software', 'Internet',\n",
    "            'Telecommunications Services', 'Video Games', 'Cable, Internet & Telephone Providers']\n",
    "    finance_insurance = ['Insurance Carriers', 'Investment Banking & Asset Management',\n",
    "                         'Insurance Agencies & Brokerages', 'Banks & Credit Unions',\n",
    "                         'Financial Transaction Processing', 'Venture Capital & Private Equity',\n",
    "                         'Lending', 'Accounting']\n",
    "    healthcare_pharma = ['Biotech & Pharmaceuticals', 'Health Care Services & Hospitals', 'Health, Beauty, & Fitness']\n",
    "    manufacturing = [ 'Electrical & Electronic Manufacturing', 'Consumer Products Manufacturing',\n",
    "                     'Industrial Manufacturing', 'Chemical Manufacturing', 'Food & Beverage Manufacturing',\n",
    "                     'Miscellaneous Manufacturing', 'Transportation Equipment Manufacturing', 'Telecommunications Manufacturing']\n",
    "    consulting_services = ['Advertising & Marketing','Research & Development', 'Consulting', 'Enterprise Software & Network Solutions',\n",
    "                           'Staffing & Outsourcing', 'Transportation Management',\n",
    "                            'Architectural & Engineering Services', 'Farm Support Services', 'Social Assistance',\n",
    "                           'Construction', 'Publishing']\n",
    "    energy_utilities = ['Energy', 'Utilities', 'Oil & Gas Services', 'Timber Operations']\n",
    "    retail = ['Consumer Electronics & Appliances Stores','Food & Beverage Stores', 'Other Retail Stores', 'Department, Clothing, & Shoe Stores']\n",
    "    hospitality = ['Hotels, Motels, & Resorts', 'Travel Agencies']\n",
    "    government_education = ['Federal Agencies', 'State & Regional Agencies', 'Colleges & Universities']\n",
    "    real_estate_construction = ['Real Estate']\n",
    "    space = ['Aerospace & Defense']\n",
    "    trans_logistics = ['Rail','Logistics & Supply Chain','Express Delivery Services', 'Shipping']\n",
    "    \n",
    "\n",
    "    if industry in tech:\n",
    "        return 'Technology'\n",
    "    elif industry in finance_insurance:\n",
    "        return 'Finance & Insurance'\n",
    "    elif industry in healthcare_pharma:\n",
    "        return 'Healthcare & Pharmaceuticals'\n",
    "    elif industry in manufacturing:\n",
    "        return 'Manufacturing'\n",
    "    elif industry in consulting_services:\n",
    "        return 'Consulting & Services'\n",
    "    elif industry in energy_utilities:\n",
    "        return 'Energy & Utilities'\n",
    "    elif industry in retail:\n",
    "        return 'Retail'\n",
    "    elif industry in government_education:\n",
    "        return 'Government & Education'\n",
    "    elif industry in real_estate_construction:\n",
    "        return 'Real Estate & Construction'\n",
    "    elif industry in space:\n",
    "        return 'Space'\n",
    "    elif industry in hospitality:\n",
    "        return 'Hospitality'\n",
    "    elif industry in trans_logistics:\n",
    "        return 'Transportation & Logistics'\n",
    "    elif industry in 'News Outlet': \n",
    "        return \"Media & Communications\"\n",
    "    elif industry in 'Wholesale':\n",
    "        return \"Distribution & Wholesale\"\n",
    "    else:\n",
    "        return 'Other'"
   ]
  },
  {
   "cell_type": "code",
   "execution_count": 392,
   "metadata": {},
   "outputs": [
    {
     "data": {
      "text/plain": [
       "Industry\n",
       "Consulting & Services           166\n",
       "Technology                      154\n",
       "Healthcare & Pharmaceuticals     89\n",
       "Other                            71\n",
       "Finance & Insurance              68\n",
       "Space                            46\n",
       "Manufacturing                    24\n",
       "Government & Education           20\n",
       "Energy & Utilities               12\n",
       "Retail                            7\n",
       "Transportation & Logistics        5\n",
       "Real Estate & Construction        3\n",
       "Hospitality                       3\n",
       "Distribution & Wholesale          3\n",
       "Media & Communications            1\n",
       "Name: count, dtype: int64"
      ]
     },
     "execution_count": 392,
     "metadata": {},
     "output_type": "execute_result"
    }
   ],
   "source": [
    "cleaned_data['Industry'] = cleaned_data['Industry'].apply(categorize_industry)\n",
    "cleaned_data['Industry'].value_counts()"
   ]
  },
  {
   "cell_type": "markdown",
   "metadata": {},
   "source": [
    "***\n",
    "##### Handling the Sector Col."
   ]
  },
  {
   "cell_type": "code",
   "execution_count": 393,
   "metadata": {},
   "outputs": [
    {
     "data": {
      "text/plain": [
       "Sector\n",
       "Information Technology                188\n",
       "Business Services                     120\n",
       "-1                                     71\n",
       "Biotech & Pharmaceuticals              66\n",
       "Aerospace & Defense                    46\n",
       "Finance                                33\n",
       "Insurance                              32\n",
       "Manufacturing                          23\n",
       "Health Care                            21\n",
       "Government                             17\n",
       "Oil, Gas, Energy & Utilities           10\n",
       "Retail                                  7\n",
       "Telecommunications                      7\n",
       "Transportation & Logistics              6\n",
       "Media                                   5\n",
       "Real Estate                             3\n",
       "Travel & Tourism                        3\n",
       "Agriculture & Forestry                  3\n",
       "Education                               3\n",
       "Accounting & Legal                      3\n",
       "Construction, Repair & Maintenance      2\n",
       "Consumer Services                       2\n",
       "Non-Profit                              1\n",
       "Name: count, dtype: int64"
      ]
     },
     "execution_count": 393,
     "metadata": {},
     "output_type": "execute_result"
    }
   ],
   "source": [
    "cleaned_data['Sector'].value_counts()"
   ]
  },
  {
   "cell_type": "code",
   "execution_count": 394,
   "metadata": {},
   "outputs": [
    {
     "data": {
      "text/plain": [
       "Sector\n",
       "Information Technology                188\n",
       "Business Services                     120\n",
       "Unknown                                71\n",
       "Biotech & Pharmaceuticals              66\n",
       "Aerospace & Defense                    46\n",
       "Finance                                33\n",
       "Insurance                              32\n",
       "Manufacturing                          23\n",
       "Health Care                            21\n",
       "Government                             17\n",
       "Oil, Gas, Energy & Utilities           10\n",
       "Retail                                  7\n",
       "Telecommunications                      7\n",
       "Transportation & Logistics              6\n",
       "Media                                   5\n",
       "Real Estate                             3\n",
       "Travel & Tourism                        3\n",
       "Agriculture & Forestry                  3\n",
       "Education                               3\n",
       "Accounting & Legal                      3\n",
       "Construction, Repair & Maintenance      2\n",
       "Consumer Services                       2\n",
       "Non-Profit                              1\n",
       "Name: count, dtype: int64"
      ]
     },
     "execution_count": 394,
     "metadata": {},
     "output_type": "execute_result"
    }
   ],
   "source": [
    "# we replace -1 with Unknown\n",
    "cleaned_data['Sector'] = cleaned_data['Sector'].replace('-1', 'Unknown')\n",
    "cleaned_data['Sector'].value_counts()\n"
   ]
  },
  {
   "cell_type": "markdown",
   "metadata": {},
   "source": [
    "***\n",
    "##### Handling the Job Revenue Col."
   ]
  },
  {
   "cell_type": "code",
   "execution_count": 395,
   "metadata": {},
   "outputs": [
    {
     "data": {
      "text/plain": [
       "Revenue\n",
       "Unknown / Non-Applicable            213\n",
       "$100 to $500 million (USD)           94\n",
       "$10+ billion (USD)                   63\n",
       "$2 to $5 billion (USD)               45\n",
       "$10 to $25 million (USD)             41\n",
       "$1 to $2 billion (USD)               36\n",
       "$25 to $50 million (USD)             36\n",
       "$50 to $100 million (USD)            31\n",
       "$1 to $5 million (USD)               31\n",
       "-1                                   27\n",
       "$500 million to $1 billion (USD)     19\n",
       "$5 to $10 million (USD)              14\n",
       "Less than $1 million (USD)           14\n",
       "$5 to $10 billion (USD)               8\n",
       "Name: count, dtype: int64"
      ]
     },
     "execution_count": 395,
     "metadata": {},
     "output_type": "execute_result"
    }
   ],
   "source": [
    "cleaned_data['Revenue'].value_counts()"
   ]
  },
  {
   "cell_type": "code",
   "execution_count": 396,
   "metadata": {},
   "outputs": [
    {
     "data": {
      "text/plain": [
       "Revenue\n",
       "Unknown                             240\n",
       "$100 to $500 million (USD)           94\n",
       "$10+ billion (USD)                   63\n",
       "$2 to $5 billion (USD)               45\n",
       "$10 to $25 million (USD)             41\n",
       "$1 to $2 billion (USD)               36\n",
       "$25 to $50 million (USD)             36\n",
       "$50 to $100 million (USD)            31\n",
       "$1 to $5 million (USD)               31\n",
       "$500 million to $1 billion (USD)     19\n",
       "$5 to $10 million (USD)              14\n",
       "Less than $1 million (USD)           14\n",
       "$5 to $10 billion (USD)               8\n",
       "Name: count, dtype: int64"
      ]
     },
     "execution_count": 396,
     "metadata": {},
     "output_type": "execute_result"
    }
   ],
   "source": [
    "# Replacing -1 and 'Unknown / Non-Applicable' with Unknown\n",
    "cleaned_data['Revenue'] = cleaned_data['Revenue'].replace({'-1': 'Unknown', 'Unknown / Non-Applicable':  'Unknown'})\n",
    "cleaned_data['Revenue'].value_counts()\n",
    "\n"
   ]
  },
  {
   "cell_type": "markdown",
   "metadata": {},
   "source": [
    "***\n",
    "##### Handling the Job Description Col."
   ]
  },
  {
   "cell_type": "code",
   "execution_count": 397,
   "metadata": {},
   "outputs": [
    {
     "name": "stdout",
     "output_type": "stream",
     "text": [
      "Secure our Nation, Ignite your Future\n",
      "\n",
      "Join the top Information Technology and Analytic professionals in the industry to make invaluable contributions to our national security on a daily basis. In this innovative, self-contained, Big Data environment, the ManTech team is responsible for everything from infrastructure, to application development, to data science, to advanced analytics and beyond. The team is diverse, the questions are thought-provoking, and the opportunities for growth and advancement are numerous\n",
      "\n",
      "The successful candidate will possess a diverse range of data-focused skills and experience, both technical and analytical. They will have a strong desire and capability for problem solving, data analysis and troubleshooting, analytical thinking, and experimentation.\n",
      "\n",
      "Duties, Tasks & Responsibilities\n",
      "Working with large, complex, and disparate data sets\n",
      "Designing and implementing innovative ways to analyze and exploit the Sponsors data holdings\n",
      "Researching and reporting on a wide variety of Sponsor inquiries\n",
      "Raising proactive inquiries to the Sponsor based on observations and proposed data analysis/exploitation\n",
      "Solving difficult, non-routine problems by applying advanced analytical methodologies, and improving analytic methodologies\n",
      "Developing custom searches\n",
      "Communicating and coordinating with internal and external partners as needed\n",
      "Required Experience, Skills, & Technologies\n",
      "\n",
      "Thorough knowledge of appropriate analytic tools and methodologies in one or more of the following:\n",
      "Applied mathematics (e.g. probability and statistics, formal modeling, computational social sciences)\n",
      "Computer programming (e.g. programming languages, math/statistics packages, computer science, machine learning, scientific computing)\n",
      "Ability to code or script in one or more general programming language\n",
      "Experience with and theoretical understanding of algorithms for classification, regression, clustering, and anomaly detection\n",
      "Knowledge of relational databases, including SQL and large-scale distributed systems (e.g. Hadoop)\n",
      "Expertise with statistical data analysis (e.g. linear models, multivariate analysis, stochastic models, sampling methods)\n",
      "Demonstrated effectiveness in collecting information and accurately representing/visualizing it to non-technical third parties\n",
      "TS/SCI with Polygraph\n",
      "Bachelor of Science or equivalent and 12-15 years related experience, but will consider all levels of experience.\n",
      "Desired Experience, Skills & Technologies\n",
      "Previous investigative experience using a combination of technical and analytic skills\n",
      "#LI-DU1\n",
      "\n",
      "ManTech International Corporation, as well as its subsidiaries proactively fulfills its role as an equal opportunity employer. We do not discriminate against any employee or applicant for employment because of race, color, sex, religion, age, sexual orientation, gender identity and expression, national origin, marital status, physical or mental disability, status as a Disabled Veteran, Recently Separated Veteran, Active Duty Wartime or Campaign Badge Veteran, Armed Forces Services Medal, or any other characteristic protected by law.\n",
      "\n",
      "If you require a reasonable accommodation to apply for a position with ManTech through its online applicant system, please contact ManTech's Corporate EEO Department at (703) 218-6000. ManTech is an affirmative action/equal opportunity employer - minorities, females, disabled and protected veterans are urged to apply. ManTech's utilization of any external recruitment or job placement agency is predicated upon its full compliance with our equal opportunity/affirmative action policies. ManTech does not accept resumes from unsolicited recruiting firms. We pay no fees for unsolicited services.\n",
      "\n",
      "If you are a qualified individual with a disability or a disabled veteran, you have the right to request an accommodation if you are unable or limited in your ability to use or access http://www.mantech.com/careers/Pages/careers.aspx as a result of your disability. To request an accommodation please click careers@mantech.com and provide your name and contact information.\n"
     ]
    }
   ],
   "source": [
    "print(cleaned_data['Job Description'][1])"
   ]
  },
  {
   "cell_type": "markdown",
   "metadata": {},
   "source": [
    "* we will try to retrive the skills that are demanded in each Job Description."
   ]
  },
  {
   "cell_type": "code",
   "execution_count": 398,
   "metadata": {},
   "outputs": [],
   "source": [
    "# let's combine all the skills in a list and apply the same thing \n",
    "tech_skills = ['Python', 'R', 'SQL', 'Excel', 'Tableau', 'Power BI','Hadoop', 'Spark','AWS', 'Azure',\n",
    "               'Git', 'Web Scraping', 'Big Data']\n",
    "\n",
    "for skill in tech_skills:\n",
    "    cleaned_data[skill] = cleaned_data['Job Description'].apply(lambda descrip: 1 if skill.lower() in descrip.lower() else 0 ) # 1 means skill is required, 0 means it's not.\n"
   ]
  },
  {
   "cell_type": "code",
   "execution_count": 399,
   "metadata": {},
   "outputs": [
    {
     "data": {
      "text/html": [
       "<div>\n",
       "<style scoped>\n",
       "    .dataframe tbody tr th:only-of-type {\n",
       "        vertical-align: middle;\n",
       "    }\n",
       "\n",
       "    .dataframe tbody tr th {\n",
       "        vertical-align: top;\n",
       "    }\n",
       "\n",
       "    .dataframe thead th {\n",
       "        text-align: right;\n",
       "    }\n",
       "</style>\n",
       "<table border=\"1\" class=\"dataframe\">\n",
       "  <thead>\n",
       "    <tr style=\"text-align: right;\">\n",
       "      <th></th>\n",
       "      <th>Job Title</th>\n",
       "      <th>Salary Estimate</th>\n",
       "      <th>Job Description</th>\n",
       "      <th>Rating</th>\n",
       "      <th>Company Name</th>\n",
       "      <th>Location</th>\n",
       "      <th>Headquarters</th>\n",
       "      <th>Size</th>\n",
       "      <th>Founded</th>\n",
       "      <th>Type of ownership</th>\n",
       "      <th>...</th>\n",
       "      <th>Excel</th>\n",
       "      <th>Tableau</th>\n",
       "      <th>Power BI</th>\n",
       "      <th>Hadoop</th>\n",
       "      <th>Spark</th>\n",
       "      <th>AWS</th>\n",
       "      <th>Azure</th>\n",
       "      <th>Git</th>\n",
       "      <th>Web Scraping</th>\n",
       "      <th>Big Data</th>\n",
       "    </tr>\n",
       "  </thead>\n",
       "  <tbody>\n",
       "    <tr>\n",
       "      <th>0</th>\n",
       "      <td>Sr Data Scientist</td>\n",
       "      <td>137-171</td>\n",
       "      <td>Description\\n\\nThe Senior Data Scientist is re...</td>\n",
       "      <td>3.1</td>\n",
       "      <td>Healthfirst</td>\n",
       "      <td>New York, NY</td>\n",
       "      <td>New York, NY</td>\n",
       "      <td>1001 to 5000 employees</td>\n",
       "      <td>1993</td>\n",
       "      <td>Nonprofit Organization</td>\n",
       "      <td>...</td>\n",
       "      <td>0</td>\n",
       "      <td>0</td>\n",
       "      <td>0</td>\n",
       "      <td>0</td>\n",
       "      <td>0</td>\n",
       "      <td>1</td>\n",
       "      <td>1</td>\n",
       "      <td>0</td>\n",
       "      <td>0</td>\n",
       "      <td>0</td>\n",
       "    </tr>\n",
       "    <tr>\n",
       "      <th>1</th>\n",
       "      <td>Data Scientist</td>\n",
       "      <td>137-171</td>\n",
       "      <td>Secure our Nation, Ignite your Future\\n\\nJoin ...</td>\n",
       "      <td>4.2</td>\n",
       "      <td>ManTech</td>\n",
       "      <td>Chantilly, VA</td>\n",
       "      <td>Herndon, VA</td>\n",
       "      <td>5001 to 10000 employees</td>\n",
       "      <td>1968</td>\n",
       "      <td>Company - Public</td>\n",
       "      <td>...</td>\n",
       "      <td>0</td>\n",
       "      <td>0</td>\n",
       "      <td>0</td>\n",
       "      <td>1</td>\n",
       "      <td>0</td>\n",
       "      <td>0</td>\n",
       "      <td>0</td>\n",
       "      <td>0</td>\n",
       "      <td>0</td>\n",
       "      <td>1</td>\n",
       "    </tr>\n",
       "    <tr>\n",
       "      <th>2</th>\n",
       "      <td>Data Scientist</td>\n",
       "      <td>137-171</td>\n",
       "      <td>Overview\\n\\n\\nAnalysis Group is one of the lar...</td>\n",
       "      <td>3.8</td>\n",
       "      <td>Analysis Group</td>\n",
       "      <td>Boston, MA</td>\n",
       "      <td>Boston, MA</td>\n",
       "      <td>1001 to 5000 employees</td>\n",
       "      <td>1981</td>\n",
       "      <td>Private Practice / Firm</td>\n",
       "      <td>...</td>\n",
       "      <td>1</td>\n",
       "      <td>0</td>\n",
       "      <td>0</td>\n",
       "      <td>0</td>\n",
       "      <td>0</td>\n",
       "      <td>1</td>\n",
       "      <td>0</td>\n",
       "      <td>0</td>\n",
       "      <td>0</td>\n",
       "      <td>0</td>\n",
       "    </tr>\n",
       "    <tr>\n",
       "      <th>3</th>\n",
       "      <td>Data Scientist</td>\n",
       "      <td>137-171</td>\n",
       "      <td>JOB DESCRIPTION:\\n\\nDo you have a passion for ...</td>\n",
       "      <td>3.5</td>\n",
       "      <td>INFICON</td>\n",
       "      <td>Newton, MA</td>\n",
       "      <td>Bad Ragaz, Switzerland</td>\n",
       "      <td>501 to 1000 employees</td>\n",
       "      <td>2000</td>\n",
       "      <td>Company - Public</td>\n",
       "      <td>...</td>\n",
       "      <td>1</td>\n",
       "      <td>0</td>\n",
       "      <td>0</td>\n",
       "      <td>0</td>\n",
       "      <td>0</td>\n",
       "      <td>1</td>\n",
       "      <td>0</td>\n",
       "      <td>1</td>\n",
       "      <td>0</td>\n",
       "      <td>0</td>\n",
       "    </tr>\n",
       "    <tr>\n",
       "      <th>4</th>\n",
       "      <td>Data Scientist</td>\n",
       "      <td>137-171</td>\n",
       "      <td>Data Scientist\\nAffinity Solutions / Marketing...</td>\n",
       "      <td>2.9</td>\n",
       "      <td>Affinity Solutions</td>\n",
       "      <td>New York, NY</td>\n",
       "      <td>New York, NY</td>\n",
       "      <td>51 to 200 employees</td>\n",
       "      <td>1998</td>\n",
       "      <td>Company - Private</td>\n",
       "      <td>...</td>\n",
       "      <td>1</td>\n",
       "      <td>0</td>\n",
       "      <td>0</td>\n",
       "      <td>0</td>\n",
       "      <td>0</td>\n",
       "      <td>0</td>\n",
       "      <td>0</td>\n",
       "      <td>0</td>\n",
       "      <td>0</td>\n",
       "      <td>0</td>\n",
       "    </tr>\n",
       "  </tbody>\n",
       "</table>\n",
       "<p>5 rows × 35 columns</p>\n",
       "</div>"
      ],
      "text/plain": [
       "           Job Title Salary Estimate  \\\n",
       "0  Sr Data Scientist        137-171    \n",
       "1     Data Scientist        137-171    \n",
       "2     Data Scientist        137-171    \n",
       "3     Data Scientist        137-171    \n",
       "4     Data Scientist        137-171    \n",
       "\n",
       "                                     Job Description  Rating  \\\n",
       "0  Description\\n\\nThe Senior Data Scientist is re...     3.1   \n",
       "1  Secure our Nation, Ignite your Future\\n\\nJoin ...     4.2   \n",
       "2  Overview\\n\\n\\nAnalysis Group is one of the lar...     3.8   \n",
       "3  JOB DESCRIPTION:\\n\\nDo you have a passion for ...     3.5   \n",
       "4  Data Scientist\\nAffinity Solutions / Marketing...     2.9   \n",
       "\n",
       "         Company Name       Location            Headquarters  \\\n",
       "0         Healthfirst   New York, NY            New York, NY   \n",
       "1             ManTech  Chantilly, VA             Herndon, VA   \n",
       "2      Analysis Group     Boston, MA              Boston, MA   \n",
       "3             INFICON     Newton, MA  Bad Ragaz, Switzerland   \n",
       "4  Affinity Solutions   New York, NY            New York, NY   \n",
       "\n",
       "                      Size  Founded        Type of ownership  ... Excel  \\\n",
       "0   1001 to 5000 employees     1993   Nonprofit Organization  ...     0   \n",
       "1  5001 to 10000 employees     1968         Company - Public  ...     0   \n",
       "2   1001 to 5000 employees     1981  Private Practice / Firm  ...     1   \n",
       "3    501 to 1000 employees     2000         Company - Public  ...     1   \n",
       "4      51 to 200 employees     1998        Company - Private  ...     1   \n",
       "\n",
       "  Tableau Power BI Hadoop Spark  AWS  Azure  Git Web Scraping Big Data  \n",
       "0       0        0      0     0    1      1    0            0        0  \n",
       "1       0        0      1     0    0      0    0            0        1  \n",
       "2       0        0      0     0    1      0    0            0        0  \n",
       "3       0        0      0     0    1      0    1            0        0  \n",
       "4       0        0      0     0    0      0    0            0        0  \n",
       "\n",
       "[5 rows x 35 columns]"
      ]
     },
     "execution_count": 399,
     "metadata": {},
     "output_type": "execute_result"
    }
   ],
   "source": [
    "cleaned_data.head()"
   ]
  },
  {
   "cell_type": "code",
   "execution_count": 400,
   "metadata": {},
   "outputs": [
    {
     "name": "stdout",
     "output_type": "stream",
     "text": [
      "<class 'pandas.core.frame.DataFrame'>\n",
      "RangeIndex: 672 entries, 0 to 671\n",
      "Data columns (total 35 columns):\n",
      " #   Column                Non-Null Count  Dtype  \n",
      "---  ------                --------------  -----  \n",
      " 0   Job Title             672 non-null    object \n",
      " 1   Salary Estimate       672 non-null    object \n",
      " 2   Job Description       672 non-null    object \n",
      " 3   Rating                672 non-null    float64\n",
      " 4   Company Name          672 non-null    object \n",
      " 5   Location              672 non-null    object \n",
      " 6   Headquarters          672 non-null    object \n",
      " 7   Size                  672 non-null    object \n",
      " 8   Founded               672 non-null    int64  \n",
      " 9   Type of ownership     672 non-null    object \n",
      " 10  Industry              672 non-null    object \n",
      " 11  Sector                672 non-null    object \n",
      " 12  Revenue               672 non-null    object \n",
      " 13  Job_Title_Simplified  672 non-null    object \n",
      " 14  Job_Seniority         672 non-null    object \n",
      " 15  Max_Salary_Estimate   672 non-null    int64  \n",
      " 16  Min_Salary_Estimate   672 non-null    int64  \n",
      " 17  Avg_Salary_Estimate   672 non-null    int64  \n",
      " 18  Location_State        672 non-null    object \n",
      " 19  Headquarters_City     672 non-null    object \n",
      " 20  Size_Classified       672 non-null    object \n",
      " 21  Years_in_Business     672 non-null    int64  \n",
      " 22  Python                672 non-null    int64  \n",
      " 23  R                     672 non-null    int64  \n",
      " 24  SQL                   672 non-null    int64  \n",
      " 25  Excel                 672 non-null    int64  \n",
      " 26  Tableau               672 non-null    int64  \n",
      " 27  Power BI              672 non-null    int64  \n",
      " 28  Hadoop                672 non-null    int64  \n",
      " 29  Spark                 672 non-null    int64  \n",
      " 30  AWS                   672 non-null    int64  \n",
      " 31  Azure                 672 non-null    int64  \n",
      " 32  Git                   672 non-null    int64  \n",
      " 33  Web Scraping          672 non-null    int64  \n",
      " 34  Big Data              672 non-null    int64  \n",
      "dtypes: float64(1), int64(18), object(16)\n",
      "memory usage: 183.9+ KB\n"
     ]
    }
   ],
   "source": [
    "cleaned_data.info()"
   ]
  },
  {
   "cell_type": "code",
   "execution_count": 401,
   "metadata": {},
   "outputs": [
    {
     "data": {
      "text/html": [
       "<div>\n",
       "<style scoped>\n",
       "    .dataframe tbody tr th:only-of-type {\n",
       "        vertical-align: middle;\n",
       "    }\n",
       "\n",
       "    .dataframe tbody tr th {\n",
       "        vertical-align: top;\n",
       "    }\n",
       "\n",
       "    .dataframe thead th {\n",
       "        text-align: right;\n",
       "    }\n",
       "</style>\n",
       "<table border=\"1\" class=\"dataframe\">\n",
       "  <thead>\n",
       "    <tr style=\"text-align: right;\">\n",
       "      <th></th>\n",
       "      <th>Rating</th>\n",
       "      <th>Founded</th>\n",
       "      <th>Max_Salary_Estimate</th>\n",
       "      <th>Min_Salary_Estimate</th>\n",
       "      <th>Avg_Salary_Estimate</th>\n",
       "      <th>Years_in_Business</th>\n",
       "      <th>Python</th>\n",
       "      <th>R</th>\n",
       "      <th>SQL</th>\n",
       "      <th>Excel</th>\n",
       "      <th>Tableau</th>\n",
       "      <th>Power BI</th>\n",
       "      <th>Hadoop</th>\n",
       "      <th>Spark</th>\n",
       "      <th>AWS</th>\n",
       "      <th>Azure</th>\n",
       "      <th>Git</th>\n",
       "      <th>Web Scraping</th>\n",
       "      <th>Big Data</th>\n",
       "    </tr>\n",
       "  </thead>\n",
       "  <tbody>\n",
       "    <tr>\n",
       "      <th>count</th>\n",
       "      <td>672.000000</td>\n",
       "      <td>672.000000</td>\n",
       "      <td>672.000000</td>\n",
       "      <td>672.000000</td>\n",
       "      <td>672.000000</td>\n",
       "      <td>672.000000</td>\n",
       "      <td>672.000000</td>\n",
       "      <td>672.0</td>\n",
       "      <td>672.000000</td>\n",
       "      <td>672.000000</td>\n",
       "      <td>672.000000</td>\n",
       "      <td>672.000000</td>\n",
       "      <td>672.000000</td>\n",
       "      <td>672.000000</td>\n",
       "      <td>672.000000</td>\n",
       "      <td>672.000000</td>\n",
       "      <td>672.000000</td>\n",
       "      <td>672.000000</td>\n",
       "      <td>672.000000</td>\n",
       "    </tr>\n",
       "    <tr>\n",
       "      <th>mean</th>\n",
       "      <td>3.593006</td>\n",
       "      <td>1991.110119</td>\n",
       "      <td>148.130952</td>\n",
       "      <td>99.196429</td>\n",
       "      <td>123.476190</td>\n",
       "      <td>32.889881</td>\n",
       "      <td>0.730655</td>\n",
       "      <td>1.0</td>\n",
       "      <td>0.529762</td>\n",
       "      <td>0.440476</td>\n",
       "      <td>0.183036</td>\n",
       "      <td>0.050595</td>\n",
       "      <td>0.212798</td>\n",
       "      <td>0.281250</td>\n",
       "      <td>0.258929</td>\n",
       "      <td>0.074405</td>\n",
       "      <td>0.218750</td>\n",
       "      <td>0.002976</td>\n",
       "      <td>0.206845</td>\n",
       "    </tr>\n",
       "    <tr>\n",
       "      <th>std</th>\n",
       "      <td>1.176684</td>\n",
       "      <td>39.910217</td>\n",
       "      <td>48.035110</td>\n",
       "      <td>33.009958</td>\n",
       "      <td>39.596166</td>\n",
       "      <td>39.910217</td>\n",
       "      <td>0.443950</td>\n",
       "      <td>0.0</td>\n",
       "      <td>0.499485</td>\n",
       "      <td>0.496814</td>\n",
       "      <td>0.386984</td>\n",
       "      <td>0.219333</td>\n",
       "      <td>0.409591</td>\n",
       "      <td>0.449944</td>\n",
       "      <td>0.438373</td>\n",
       "      <td>0.262624</td>\n",
       "      <td>0.413707</td>\n",
       "      <td>0.054514</td>\n",
       "      <td>0.405345</td>\n",
       "    </tr>\n",
       "    <tr>\n",
       "      <th>min</th>\n",
       "      <td>0.000000</td>\n",
       "      <td>1781.000000</td>\n",
       "      <td>56.000000</td>\n",
       "      <td>31.000000</td>\n",
       "      <td>43.000000</td>\n",
       "      <td>0.000000</td>\n",
       "      <td>0.000000</td>\n",
       "      <td>1.0</td>\n",
       "      <td>0.000000</td>\n",
       "      <td>0.000000</td>\n",
       "      <td>0.000000</td>\n",
       "      <td>0.000000</td>\n",
       "      <td>0.000000</td>\n",
       "      <td>0.000000</td>\n",
       "      <td>0.000000</td>\n",
       "      <td>0.000000</td>\n",
       "      <td>0.000000</td>\n",
       "      <td>0.000000</td>\n",
       "      <td>0.000000</td>\n",
       "    </tr>\n",
       "    <tr>\n",
       "      <th>25%</th>\n",
       "      <td>3.300000</td>\n",
       "      <td>1983.000000</td>\n",
       "      <td>119.000000</td>\n",
       "      <td>79.000000</td>\n",
       "      <td>103.000000</td>\n",
       "      <td>9.000000</td>\n",
       "      <td>0.000000</td>\n",
       "      <td>1.0</td>\n",
       "      <td>0.000000</td>\n",
       "      <td>0.000000</td>\n",
       "      <td>0.000000</td>\n",
       "      <td>0.000000</td>\n",
       "      <td>0.000000</td>\n",
       "      <td>0.000000</td>\n",
       "      <td>0.000000</td>\n",
       "      <td>0.000000</td>\n",
       "      <td>0.000000</td>\n",
       "      <td>0.000000</td>\n",
       "      <td>0.000000</td>\n",
       "    </tr>\n",
       "    <tr>\n",
       "      <th>50%</th>\n",
       "      <td>3.800000</td>\n",
       "      <td>2004.000000</td>\n",
       "      <td>133.000000</td>\n",
       "      <td>91.000000</td>\n",
       "      <td>114.000000</td>\n",
       "      <td>20.000000</td>\n",
       "      <td>1.000000</td>\n",
       "      <td>1.0</td>\n",
       "      <td>1.000000</td>\n",
       "      <td>0.000000</td>\n",
       "      <td>0.000000</td>\n",
       "      <td>0.000000</td>\n",
       "      <td>0.000000</td>\n",
       "      <td>0.000000</td>\n",
       "      <td>0.000000</td>\n",
       "      <td>0.000000</td>\n",
       "      <td>0.000000</td>\n",
       "      <td>0.000000</td>\n",
       "      <td>0.000000</td>\n",
       "    </tr>\n",
       "    <tr>\n",
       "      <th>75%</th>\n",
       "      <td>4.300000</td>\n",
       "      <td>2015.000000</td>\n",
       "      <td>165.000000</td>\n",
       "      <td>122.000000</td>\n",
       "      <td>136.000000</td>\n",
       "      <td>41.000000</td>\n",
       "      <td>1.000000</td>\n",
       "      <td>1.0</td>\n",
       "      <td>1.000000</td>\n",
       "      <td>1.000000</td>\n",
       "      <td>0.000000</td>\n",
       "      <td>0.000000</td>\n",
       "      <td>0.000000</td>\n",
       "      <td>1.000000</td>\n",
       "      <td>1.000000</td>\n",
       "      <td>0.000000</td>\n",
       "      <td>0.000000</td>\n",
       "      <td>0.000000</td>\n",
       "      <td>0.000000</td>\n",
       "    </tr>\n",
       "    <tr>\n",
       "      <th>max</th>\n",
       "      <td>5.000000</td>\n",
       "      <td>2024.000000</td>\n",
       "      <td>331.000000</td>\n",
       "      <td>212.000000</td>\n",
       "      <td>271.000000</td>\n",
       "      <td>243.000000</td>\n",
       "      <td>1.000000</td>\n",
       "      <td>1.0</td>\n",
       "      <td>1.000000</td>\n",
       "      <td>1.000000</td>\n",
       "      <td>1.000000</td>\n",
       "      <td>1.000000</td>\n",
       "      <td>1.000000</td>\n",
       "      <td>1.000000</td>\n",
       "      <td>1.000000</td>\n",
       "      <td>1.000000</td>\n",
       "      <td>1.000000</td>\n",
       "      <td>1.000000</td>\n",
       "      <td>1.000000</td>\n",
       "    </tr>\n",
       "  </tbody>\n",
       "</table>\n",
       "</div>"
      ],
      "text/plain": [
       "           Rating      Founded  Max_Salary_Estimate  Min_Salary_Estimate  \\\n",
       "count  672.000000   672.000000           672.000000           672.000000   \n",
       "mean     3.593006  1991.110119           148.130952            99.196429   \n",
       "std      1.176684    39.910217            48.035110            33.009958   \n",
       "min      0.000000  1781.000000            56.000000            31.000000   \n",
       "25%      3.300000  1983.000000           119.000000            79.000000   \n",
       "50%      3.800000  2004.000000           133.000000            91.000000   \n",
       "75%      4.300000  2015.000000           165.000000           122.000000   \n",
       "max      5.000000  2024.000000           331.000000           212.000000   \n",
       "\n",
       "       Avg_Salary_Estimate  Years_in_Business      Python      R         SQL  \\\n",
       "count           672.000000         672.000000  672.000000  672.0  672.000000   \n",
       "mean            123.476190          32.889881    0.730655    1.0    0.529762   \n",
       "std              39.596166          39.910217    0.443950    0.0    0.499485   \n",
       "min              43.000000           0.000000    0.000000    1.0    0.000000   \n",
       "25%             103.000000           9.000000    0.000000    1.0    0.000000   \n",
       "50%             114.000000          20.000000    1.000000    1.0    1.000000   \n",
       "75%             136.000000          41.000000    1.000000    1.0    1.000000   \n",
       "max             271.000000         243.000000    1.000000    1.0    1.000000   \n",
       "\n",
       "            Excel     Tableau    Power BI      Hadoop       Spark         AWS  \\\n",
       "count  672.000000  672.000000  672.000000  672.000000  672.000000  672.000000   \n",
       "mean     0.440476    0.183036    0.050595    0.212798    0.281250    0.258929   \n",
       "std      0.496814    0.386984    0.219333    0.409591    0.449944    0.438373   \n",
       "min      0.000000    0.000000    0.000000    0.000000    0.000000    0.000000   \n",
       "25%      0.000000    0.000000    0.000000    0.000000    0.000000    0.000000   \n",
       "50%      0.000000    0.000000    0.000000    0.000000    0.000000    0.000000   \n",
       "75%      1.000000    0.000000    0.000000    0.000000    1.000000    1.000000   \n",
       "max      1.000000    1.000000    1.000000    1.000000    1.000000    1.000000   \n",
       "\n",
       "            Azure         Git  Web Scraping    Big Data  \n",
       "count  672.000000  672.000000    672.000000  672.000000  \n",
       "mean     0.074405    0.218750      0.002976    0.206845  \n",
       "std      0.262624    0.413707      0.054514    0.405345  \n",
       "min      0.000000    0.000000      0.000000    0.000000  \n",
       "25%      0.000000    0.000000      0.000000    0.000000  \n",
       "50%      0.000000    0.000000      0.000000    0.000000  \n",
       "75%      0.000000    0.000000      0.000000    0.000000  \n",
       "max      1.000000    1.000000      1.000000    1.000000  "
      ]
     },
     "execution_count": 401,
     "metadata": {},
     "output_type": "execute_result"
    }
   ],
   "source": [
    "cleaned_data.describe()"
   ]
  },
  {
   "cell_type": "code",
   "execution_count": 402,
   "metadata": {},
   "outputs": [],
   "source": [
    "# Saving our cleaned data\n",
    "cleaned_data.to_csv('DS_Jobs_Cleaned.csv', index=False)\n"
   ]
  },
  {
   "cell_type": "markdown",
   "metadata": {},
   "source": [
    "***\n",
    "### Exploring the most Common Job Titles"
   ]
  },
  {
   "cell_type": "code",
   "execution_count": 403,
   "metadata": {},
   "outputs": [
    {
     "data": {
      "image/png": "[encoded data removed]",
      "text/plain": [
       "<Figure size 800x800 with 1 Axes>"
      ]
     },
     "metadata": {},
     "output_type": "display_data"
    }
   ],
   "source": [
    "# Most common words in job titles\n",
    "job_titles = cleaned_data[\"Job Title\"].unique()\n",
    "plt.subplots(figsize= (8,8))\n",
    "wordcloud = WordCloud(  background_color = \"white\", width = 500, height = 350).generate(\" \".join(job_titles))\n",
    "plt.imshow(wordcloud)\n",
    "plt.axis(\"off\")\n",
    "plt.savefig(\"graph.png\")\n",
    "plt.show()"
   ]
  },
  {
   "cell_type": "markdown",
   "metadata": {},
   "source": [
    "* We observe that the top job titles are:\n",
    "  * **Data Scientist**\n",
    "  * **Machine Learning**\n",
    "  * **Data Analyst**\n",
    "  * **Data Engineer**"
   ]
  },
  {
   "cell_type": "markdown",
   "metadata": {},
   "source": [
    "We know that the majority of job offers are located at the **US**, in addition to this, the top job title is data scientist(this is job title we are interested in). \\\n",
    "The following sections will focus only on that, i.e. Data Scientist jobs in the US."
   ]
  },
  {
   "cell_type": "code",
   "execution_count": 404,
   "metadata": {},
   "outputs": [],
   "source": [
    "# Filter the dataset to include only rows with 'Data Scientist' in the job title\n",
    "ds_us_df = cleaned_data[cleaned_data['Job_Title_Simplified'].str.contains('Data Scientist', case=False)]\n",
    "\n",
    "# Group by state and count the number of jobs in each state\n",
    "jobs_per_state = ds_us_df.groupby('Location_State').size().reset_index(name='Number of Jobs')\n",
    "\n",
    "# Sorting the the jobs_per_state in ascending order for visualization purposes.\n",
    "jobs_per_state = jobs_per_state.sort_values('Number of Jobs', ascending=True)\n",
    "# Dropping the jobs that has Unknown as a state.\n",
    "index_of_unknown = jobs_per_state.index[jobs_per_state['Location_State']== 'Unknown']\n",
    "jobs_per_state = jobs_per_state.drop(index_of_unknown)"
   ]
  },
  {
   "cell_type": "markdown",
   "metadata": {},
   "source": [
    "### Data Scientist Jobs per State"
   ]
  },
  {
   "cell_type": "code",
   "execution_count": 405,
   "metadata": {},
   "outputs": [
    {
     "data": {
      "application/vnd.plotly.v1+json": {
       "config": {
        "plotlyServerURL": "https://plot.ly"
       },
       "data": [
        {
         "alignmentgroup": "True",
         "hovertemplate": "Number of Jobs=%{marker.color}<br>Location_State=%{y}<extra></extra>",
         "legendgroup": "",
         "marker": {
          "color": [
           1,
           1,
           1,
           1,
           1,
           1,
           1,
           1,
           2,
           2,
           2,
           2,
           2,
           3,
           4,
           4,
           5,
           5,
           9,
           9,
           9,
           9,
           10,
           13,
           13,
           20,
           25,
           29,
           43,
           46,
           67,
           121
          ],
          "coloraxis": "coloraxis",
          "pattern": {
           "shape": ""
          }
         },
         "name": "",
         "offsetgroup": "",
         "orientation": "h",
         "showlegend": false,
         "text": [
          1,
          1,
          1,
          1,
          1,
          1,
          1,
          1,
          2,
          2,
          2,
          2,
          2,
          3,
          4,
          4,
          5,
          5,
          9,
          9,
          9,
          9,
          10,
          13,
          13,
          20,
          25,
          29,
          43,
          46,
          67,
          121
         ],
         "textposition": "auto",
         "type": "bar",
         "x": [
          1,
          1,
          1,
          1,
          1,
          1,
          1,
          1,
          2,
          2,
          2,
          2,
          2,
          3,
          4,
          4,
          5,
          5,
          9,
          9,
          9,
          9,
          10,
          13,
          13,
          20,
          25,
          29,
          43,
          46,
          67,
          121
         ],
         "xaxis": "x",
         "y": [
          "AL",
          "NH",
          "NC",
          "MN",
          "KS",
          "IN",
          "WV",
          "DE",
          "FL",
          "OR",
          "NE",
          "AZ",
          "CT",
          "UT",
          "MI",
          "WI",
          "TN",
          "PA",
          "OH",
          "GA",
          "MO",
          "CO",
          "NJ",
          "TX",
          "WA",
          "IL",
          "DC",
          "MD",
          "NY",
          "MA",
          "VA",
          "CA"
         ],
         "yaxis": "y"
        }
       ],
       "layout": {
        "barmode": "relative",
        "coloraxis": {
         "colorbar": {
          "title": {
           "text": "Number of Jobs"
          }
         },
         "colorscale": [
          [
           0,
           "rgb(252, 222, 156)"
          ],
          [
           0.16666666666666666,
           "rgb(250, 164, 118)"
          ],
          [
           0.3333333333333333,
           "rgb(240, 116, 110)"
          ],
          [
           0.5,
           "rgb(227, 79, 111)"
          ],
          [
           0.6666666666666666,
           "rgb(220, 57, 119)"
          ],
          [
           0.8333333333333334,
           "rgb(185, 37, 122)"
          ],
          [
           1,
           "rgb(124, 29, 111)"
          ]
         ],
         "showscale": false
        },
        "legend": {
         "tracegroupgap": 0
        },
        "margin": {
         "b": 1,
         "l": 20,
         "pad": 5,
         "r": 20,
         "t": 40
        },
        "template": {
         "data": {
          "bar": [
           {
            "error_x": {
             "color": "#2a3f5f"
            },
            "error_y": {
             "color": "#2a3f5f"
            },
            "marker": {
             "line": {
              "color": "white",
              "width": 0.5
             },
             "pattern": {
              "fillmode": "overlay",
              "size": 10,
              "solidity": 0.2
             }
            },
            "type": "bar"
           }
          ],
          "barpolar": [
           {
            "marker": {
             "line": {
              "color": "white",
              "width": 0.5
             },
             "pattern": {
              "fillmode": "overlay",
              "size": 10,
              "solidity": 0.2
             }
            },
            "type": "barpolar"
           }
          ],
          "carpet": [
           {
            "aaxis": {
             "endlinecolor": "#2a3f5f",
             "gridcolor": "#C8D4E3",
             "linecolor": "#C8D4E3",
             "minorgridcolor": "#C8D4E3",
             "startlinecolor": "#2a3f5f"
            },
            "baxis": {
             "endlinecolor": "#2a3f5f",
             "gridcolor": "#C8D4E3",
             "linecolor": "#C8D4E3",
             "minorgridcolor": "#C8D4E3",
             "startlinecolor": "#2a3f5f"
            },
            "type": "carpet"
           }
          ],
          "choropleth": [
           {
            "colorbar": {
             "outlinewidth": 0,
             "ticks": ""
            },
            "type": "choropleth"
           }
          ],
          "contour": [
           {
            "colorbar": {
             "outlinewidth": 0,
             "ticks": ""
            },
            "colorscale": [
             [
              0,
              "#0d0887"
             ],
             [
              0.1111111111111111,
              "#46039f"
             ],
             [
              0.2222222222222222,
              "#7201a8"
             ],
             [
              0.3333333333333333,
              "#9c179e"
             ],
             [
              0.4444444444444444,
              "#bd3786"
             ],
             [
              0.5555555555555556,
              "#d8576b"
             ],
             [
              0.6666666666666666,
              "#ed7953"
             ],
             [
              0.7777777777777778,
              "#fb9f3a"
             ],
             [
              0.8888888888888888,
              "#fdca26"
             ],
             [
              1,
              "#f0f921"
             ]
            ],
            "type": "contour"
           }
          ],
          "contourcarpet": [
           {
            "colorbar": {
             "outlinewidth": 0,
             "ticks": ""
            },
            "type": "contourcarpet"
           }
          ],
          "heatmap": [
           {
            "colorbar": {
             "outlinewidth": 0,
             "ticks": ""
            },
            "colorscale": [
             [
              0,
              "#0d0887"
             ],
             [
              0.1111111111111111,
              "#46039f"
             ],
             [
              0.2222222222222222,
              "#7201a8"
             ],
             [
              0.3333333333333333,
              "#9c179e"
             ],
             [
              0.4444444444444444,
              "#bd3786"
             ],
             [
              0.5555555555555556,
              "#d8576b"
             ],
             [
              0.6666666666666666,
              "#ed7953"
             ],
             [
              0.7777777777777778,
              "#fb9f3a"
             ],
             [
              0.8888888888888888,
              "#fdca26"
             ],
             [
              1,
              "#f0f921"
             ]
            ],
            "type": "heatmap"
           }
          ],
          "heatmapgl": [
           {
            "colorbar": {
             "outlinewidth": 0,
             "ticks": ""
            },
            "colorscale": [
             [
              0,
              "#0d0887"
             ],
             [
              0.1111111111111111,
              "#46039f"
             ],
             [
              0.2222222222222222,
              "#7201a8"
             ],
             [
              0.3333333333333333,
              "#9c179e"
             ],
             [
              0.4444444444444444,
              "#bd3786"
             ],
             [
              0.5555555555555556,
              "#d8576b"
             ],
             [
              0.6666666666666666,
              "#ed7953"
             ],
             [
              0.7777777777777778,
              "#fb9f3a"
             ],
             [
              0.8888888888888888,
              "#fdca26"
             ],
             [
              1,
              "#f0f921"
             ]
            ],
            "type": "heatmapgl"
           }
          ],
          "histogram": [
           {
            "marker": {
             "pattern": {
              "fillmode": "overlay",
              "size": 10,
              "solidity": 0.2
             }
            },
            "type": "histogram"
           }
          ],
          "histogram2d": [
           {
            "colorbar": {
             "outlinewidth": 0,
             "ticks": ""
            },
            "colorscale": [
             [
              0,
              "#0d0887"
             ],
             [
              0.1111111111111111,
              "#46039f"
             ],
             [
              0.2222222222222222,
              "#7201a8"
             ],
             [
              0.3333333333333333,
              "#9c179e"
             ],
             [
              0.4444444444444444,
              "#bd3786"
             ],
             [
              0.5555555555555556,
              "#d8576b"
             ],
             [
              0.6666666666666666,
              "#ed7953"
             ],
             [
              0.7777777777777778,
              "#fb9f3a"
             ],
             [
              0.8888888888888888,
              "#fdca26"
             ],
             [
              1,
              "#f0f921"
             ]
            ],
            "type": "histogram2d"
           }
          ],
          "histogram2dcontour": [
           {
            "colorbar": {
             "outlinewidth": 0,
             "ticks": ""
            },
            "colorscale": [
             [
              0,
              "#0d0887"
             ],
             [
              0.1111111111111111,
              "#46039f"
             ],
             [
              0.2222222222222222,
              "#7201a8"
             ],
             [
              0.3333333333333333,
              "#9c179e"
             ],
             [
              0.4444444444444444,
              "#bd3786"
             ],
             [
              0.5555555555555556,
              "#d8576b"
             ],
             [
              0.6666666666666666,
              "#ed7953"
             ],
             [
              0.7777777777777778,
              "#fb9f3a"
             ],
             [
              0.8888888888888888,
              "#fdca26"
             ],
             [
              1,
              "#f0f921"
             ]
            ],
            "type": "histogram2dcontour"
           }
          ],
          "mesh3d": [
           {
            "colorbar": {
             "outlinewidth": 0,
             "ticks": ""
            },
            "type": "mesh3d"
           }
          ],
          "parcoords": [
           {
            "line": {
             "colorbar": {
              "outlinewidth": 0,
              "ticks": ""
             }
            },
            "type": "parcoords"
           }
          ],
          "pie": [
           {
            "automargin": true,
            "type": "pie"
           }
          ],
          "scatter": [
           {
            "fillpattern": {
             "fillmode": "overlay",
             "size": 10,
             "solidity": 0.2
            },
            "type": "scatter"
           }
          ],
          "scatter3d": [
           {
            "line": {
             "colorbar": {
              "outlinewidth": 0,
              "ticks": ""
             }
            },
            "marker": {
             "colorbar": {
              "outlinewidth": 0,
              "ticks": ""
             }
            },
            "type": "scatter3d"
           }
          ],
          "scattercarpet": [
           {
            "marker": {
             "colorbar": {
              "outlinewidth": 0,
              "ticks": ""
             }
            },
            "type": "scattercarpet"
           }
          ],
          "scattergeo": [
           {
            "marker": {
             "colorbar": {
              "outlinewidth": 0,
              "ticks": ""
             }
            },
            "type": "scattergeo"
           }
          ],
          "scattergl": [
           {
            "marker": {
             "colorbar": {
              "outlinewidth": 0,
              "ticks": ""
             }
            },
            "type": "scattergl"
           }
          ],
          "scattermapbox": [
           {
            "marker": {
             "colorbar": {
              "outlinewidth": 0,
              "ticks": ""
             }
            },
            "type": "scattermapbox"
           }
          ],
          "scatterpolar": [
           {
            "marker": {
             "colorbar": {
              "outlinewidth": 0,
              "ticks": ""
             }
            },
            "type": "scatterpolar"
           }
          ],
          "scatterpolargl": [
           {
            "marker": {
             "colorbar": {
              "outlinewidth": 0,
              "ticks": ""
             }
            },
            "type": "scatterpolargl"
           }
          ],
          "scatterternary": [
           {
            "marker": {
             "colorbar": {
              "outlinewidth": 0,
              "ticks": ""
             }
            },
            "type": "scatterternary"
           }
          ],
          "surface": [
           {
            "colorbar": {
             "outlinewidth": 0,
             "ticks": ""
            },
            "colorscale": [
             [
              0,
              "#0d0887"
             ],
             [
              0.1111111111111111,
              "#46039f"
             ],
             [
              0.2222222222222222,
              "#7201a8"
             ],
             [
              0.3333333333333333,
              "#9c179e"
             ],
             [
              0.4444444444444444,
              "#bd3786"
             ],
             [
              0.5555555555555556,
              "#d8576b"
             ],
             [
              0.6666666666666666,
              "#ed7953"
             ],
             [
              0.7777777777777778,
              "#fb9f3a"
             ],
             [
              0.8888888888888888,
              "#fdca26"
             ],
             [
              1,
              "#f0f921"
             ]
            ],
            "type": "surface"
           }
          ],
          "table": [
           {
            "cells": {
             "fill": {
              "color": "#EBF0F8"
             },
             "line": {
              "color": "white"
             }
            },
            "header": {
             "fill": {
              "color": "#C8D4E3"
             },
             "line": {
              "color": "white"
             }
            },
            "type": "table"
           }
          ]
         },
         "layout": {
          "annotationdefaults": {
           "arrowcolor": "#2a3f5f",
           "arrowhead": 0,
           "arrowwidth": 1
          },
          "autotypenumbers": "strict",
          "coloraxis": {
           "colorbar": {
            "outlinewidth": 0,
            "ticks": ""
           }
          },
          "colorscale": {
           "diverging": [
            [
             0,
             "#8e0152"
            ],
            [
             0.1,
             "#c51b7d"
            ],
            [
             0.2,
             "#de77ae"
            ],
            [
             0.3,
             "#f1b6da"
            ],
            [
             0.4,
             "#fde0ef"
            ],
            [
             0.5,
             "#f7f7f7"
            ],
            [
             0.6,
             "#e6f5d0"
            ],
            [
             0.7,
             "#b8e186"
            ],
            [
             0.8,
             "#7fbc41"
            ],
            [
             0.9,
             "#4d9221"
            ],
            [
             1,
             "#276419"
            ]
           ],
           "sequential": [
            [
             0,
             "#0d0887"
            ],
            [
             0.1111111111111111,
             "#46039f"
            ],
            [
             0.2222222222222222,
             "#7201a8"
            ],
            [
             0.3333333333333333,
             "#9c179e"
            ],
            [
             0.4444444444444444,
             "#bd3786"
            ],
            [
             0.5555555555555556,
             "#d8576b"
            ],
            [
             0.6666666666666666,
             "#ed7953"
            ],
            [
             0.7777777777777778,
             "#fb9f3a"
            ],
            [
             0.8888888888888888,
             "#fdca26"
            ],
            [
             1,
             "#f0f921"
            ]
           ],
           "sequentialminus": [
            [
             0,
             "#0d0887"
            ],
            [
             0.1111111111111111,
             "#46039f"
            ],
            [
             0.2222222222222222,
             "#7201a8"
            ],
            [
             0.3333333333333333,
             "#9c179e"
            ],
            [
             0.4444444444444444,
             "#bd3786"
            ],
            [
             0.5555555555555556,
             "#d8576b"
            ],
            [
             0.6666666666666666,
             "#ed7953"
            ],
            [
             0.7777777777777778,
             "#fb9f3a"
            ],
            [
             0.8888888888888888,
             "#fdca26"
            ],
            [
             1,
             "#f0f921"
            ]
           ]
          },
          "colorway": [
           "#636efa",
           "#EF553B",
           "#00cc96",
           "#ab63fa",
           "#FFA15A",
           "#19d3f3",
           "#FF6692",
           "#B6E880",
           "#FF97FF",
           "#FECB52"
          ],
          "font": {
           "color": "#2a3f5f"
          },
          "geo": {
           "bgcolor": "white",
           "lakecolor": "white",
           "landcolor": "white",
           "showlakes": true,
           "showland": true,
           "subunitcolor": "#C8D4E3"
          },
          "hoverlabel": {
           "align": "left"
          },
          "hovermode": "closest",
          "mapbox": {
           "style": "light"
          },
          "paper_bgcolor": "white",
          "plot_bgcolor": "white",
          "polar": {
           "angularaxis": {
            "gridcolor": "#EBF0F8",
            "linecolor": "#EBF0F8",
            "ticks": ""
           },
           "bgcolor": "white",
           "radialaxis": {
            "gridcolor": "#EBF0F8",
            "linecolor": "#EBF0F8",
            "ticks": ""
           }
          },
          "scene": {
           "xaxis": {
            "backgroundcolor": "white",
            "gridcolor": "#DFE8F3",
            "gridwidth": 2,
            "linecolor": "#EBF0F8",
            "showbackground": true,
            "ticks": "",
            "zerolinecolor": "#EBF0F8"
           },
           "yaxis": {
            "backgroundcolor": "white",
            "gridcolor": "#DFE8F3",
            "gridwidth": 2,
            "linecolor": "#EBF0F8",
            "showbackground": true,
            "ticks": "",
            "zerolinecolor": "#EBF0F8"
           },
           "zaxis": {
            "backgroundcolor": "white",
            "gridcolor": "#DFE8F3",
            "gridwidth": 2,
            "linecolor": "#EBF0F8",
            "showbackground": true,
            "ticks": "",
            "zerolinecolor": "#EBF0F8"
           }
          },
          "shapedefaults": {
           "line": {
            "color": "#2a3f5f"
           }
          },
          "ternary": {
           "aaxis": {
            "gridcolor": "#DFE8F3",
            "linecolor": "#A2B1C6",
            "ticks": ""
           },
           "baxis": {
            "gridcolor": "#DFE8F3",
            "linecolor": "#A2B1C6",
            "ticks": ""
           },
           "bgcolor": "white",
           "caxis": {
            "gridcolor": "#DFE8F3",
            "linecolor": "#A2B1C6",
            "ticks": ""
           }
          },
          "title": {
           "x": 0.05
          },
          "xaxis": {
           "automargin": true,
           "gridcolor": "#EBF0F8",
           "linecolor": "#EBF0F8",
           "ticks": "",
           "title": {
            "standoff": 15
           },
           "zerolinecolor": "#EBF0F8",
           "zerolinewidth": 2
          },
          "yaxis": {
           "automargin": true,
           "gridcolor": "#EBF0F8",
           "linecolor": "#EBF0F8",
           "ticks": "",
           "title": {
            "standoff": 15
           },
           "zerolinecolor": "#EBF0F8",
           "zerolinewidth": 2
          }
         }
        },
        "title": {
         "text": "Data Scientist Jobs per State"
        },
        "xaxis": {
         "anchor": "y",
         "domain": [
          0,
          1
         ],
         "title": {
          "text": "Number of Jobs"
         }
        },
        "yaxis": {
         "anchor": "x",
         "domain": [
          0,
          1
         ],
         "tickmode": "linear",
         "title": {
          "text": ""
         }
        }
       }
      }
     },
     "metadata": {},
     "output_type": "display_data"
    }
   ],
   "source": [
    "# Plot the horizontal bar chart\n",
    "fig = px.bar(jobs_per_state, \n",
    "             x='Number of Jobs', \n",
    "             y='Location_State', \n",
    "             orientation='h', \n",
    "             color='Number of Jobs',\n",
    "             color_continuous_scale=\"sunsetdark\",\n",
    "             title='Data Scientist Jobs per State',\n",
    "             text='Number of Jobs')\n",
    "\n",
    "# Update layout for better readability\n",
    "fig.update_layout(xaxis_title='Number of Jobs',\n",
    "                  yaxis_title='',\n",
    "                  yaxis=dict(tickmode='linear'),\n",
    "                  template='plotly_white',\n",
    "                  margin_pad=5,\n",
    "                  coloraxis_showscale=False,\n",
    "                  margin=dict(l=20, r=20, t=40, b=1)  )\n",
    "\n",
    "# Show the plot\n",
    "fig.show()"
   ]
  },
  {
   "cell_type": "code",
   "execution_count": 406,
   "metadata": {},
   "outputs": [
    {
     "data": {
      "application/vnd.plotly.v1+json": {
       "config": {
        "plotlyServerURL": "https://plot.ly"
       },
       "data": [
        {
         "coloraxis": "coloraxis",
         "geo": "geo",
         "hovertemplate": "Location_State=%{location}<br>Number of Jobs=%{z}<extra></extra>",
         "locationmode": "USA-states",
         "locations": [
          "AL",
          "NH",
          "NC",
          "MN",
          "KS",
          "IN",
          "WV",
          "DE",
          "FL",
          "OR",
          "NE",
          "AZ",
          "CT",
          "UT",
          "MI",
          "WI",
          "TN",
          "PA",
          "OH",
          "GA",
          "MO",
          "CO",
          "NJ",
          "TX",
          "WA",
          "IL",
          "DC",
          "MD",
          "NY",
          "MA",
          "VA",
          "CA"
         ],
         "name": "",
         "type": "choropleth",
         "z": [
          1,
          1,
          1,
          1,
          1,
          1,
          1,
          1,
          2,
          2,
          2,
          2,
          2,
          3,
          4,
          4,
          5,
          5,
          9,
          9,
          9,
          9,
          10,
          13,
          13,
          20,
          25,
          29,
          43,
          46,
          67,
          121
         ]
        }
       ],
       "layout": {
        "coloraxis": {
         "cmax": 121,
         "cmin": 0,
         "colorbar": {
          "title": {
           "text": "Number of Jobs"
          }
         },
         "colorscale": [
          [
           0,
           "rgb(252, 222, 156)"
          ],
          [
           0.16666666666666666,
           "rgb(250, 164, 118)"
          ],
          [
           0.3333333333333333,
           "rgb(240, 116, 110)"
          ],
          [
           0.5,
           "rgb(227, 79, 111)"
          ],
          [
           0.6666666666666666,
           "rgb(220, 57, 119)"
          ],
          [
           0.8333333333333334,
           "rgb(185, 37, 122)"
          ],
          [
           1,
           "rgb(124, 29, 111)"
          ]
         ]
        },
        "geo": {
         "center": {},
         "domain": {
          "x": [
           0,
           1
          ],
          "y": [
           0,
           1
          ]
         },
         "scope": "usa"
        },
        "legend": {
         "tracegroupgap": 0
        },
        "template": {
         "data": {
          "bar": [
           {
            "error_x": {
             "color": "#2a3f5f"
            },
            "error_y": {
             "color": "#2a3f5f"
            },
            "marker": {
             "line": {
              "color": "#E5ECF6",
              "width": 0.5
             },
             "pattern": {
              "fillmode": "overlay",
              "size": 10,
              "solidity": 0.2
             }
            },
            "type": "bar"
           }
          ],
          "barpolar": [
           {
            "marker": {
             "line": {
              "color": "#E5ECF6",
              "width": 0.5
             },
             "pattern": {
              "fillmode": "overlay",
              "size": 10,
              "solidity": 0.2
             }
            },
            "type": "barpolar"
           }
          ],
          "carpet": [
           {
            "aaxis": {
             "endlinecolor": "#2a3f5f",
             "gridcolor": "white",
             "linecolor": "white",
             "minorgridcolor": "white",
             "startlinecolor": "#2a3f5f"
            },
            "baxis": {
             "endlinecolor": "#2a3f5f",
             "gridcolor": "white",
             "linecolor": "white",
             "minorgridcolor": "white",
             "startlinecolor": "#2a3f5f"
            },
            "type": "carpet"
           }
          ],
          "choropleth": [
           {
            "colorbar": {
             "outlinewidth": 0,
             "ticks": ""
            },
            "type": "choropleth"
           }
          ],
          "contour": [
           {
            "colorbar": {
             "outlinewidth": 0,
             "ticks": ""
            },
            "colorscale": [
             [
              0,
              "#0d0887"
             ],
             [
              0.1111111111111111,
              "#46039f"
             ],
             [
              0.2222222222222222,
              "#7201a8"
             ],
             [
              0.3333333333333333,
              "#9c179e"
             ],
             [
              0.4444444444444444,
              "#bd3786"
             ],
             [
              0.5555555555555556,
              "#d8576b"
             ],
             [
              0.6666666666666666,
              "#ed7953"
             ],
             [
              0.7777777777777778,
              "#fb9f3a"
             ],
             [
              0.8888888888888888,
              "#fdca26"
             ],
             [
              1,
              "#f0f921"
             ]
            ],
            "type": "contour"
           }
          ],
          "contourcarpet": [
           {
            "colorbar": {
             "outlinewidth": 0,
             "ticks": ""
            },
            "type": "contourcarpet"
           }
          ],
          "heatmap": [
           {
            "colorbar": {
             "outlinewidth": 0,
             "ticks": ""
            },
            "colorscale": [
             [
              0,
              "#0d0887"
             ],
             [
              0.1111111111111111,
              "#46039f"
             ],
             [
              0.2222222222222222,
              "#7201a8"
             ],
             [
              0.3333333333333333,
              "#9c179e"
             ],
             [
              0.4444444444444444,
              "#bd3786"
             ],
             [
              0.5555555555555556,
              "#d8576b"
             ],
             [
              0.6666666666666666,
              "#ed7953"
             ],
             [
              0.7777777777777778,
              "#fb9f3a"
             ],
             [
              0.8888888888888888,
              "#fdca26"
             ],
             [
              1,
              "#f0f921"
             ]
            ],
            "type": "heatmap"
           }
          ],
          "heatmapgl": [
           {
            "colorbar": {
             "outlinewidth": 0,
             "ticks": ""
            },
            "colorscale": [
             [
              0,
              "#0d0887"
             ],
             [
              0.1111111111111111,
              "#46039f"
             ],
             [
              0.2222222222222222,
              "#7201a8"
             ],
             [
              0.3333333333333333,
              "#9c179e"
             ],
             [
              0.4444444444444444,
              "#bd3786"
             ],
             [
              0.5555555555555556,
              "#d8576b"
             ],
             [
              0.6666666666666666,
              "#ed7953"
             ],
             [
              0.7777777777777778,
              "#fb9f3a"
             ],
             [
              0.8888888888888888,
              "#fdca26"
             ],
             [
              1,
              "#f0f921"
             ]
            ],
            "type": "heatmapgl"
           }
          ],
          "histogram": [
           {
            "marker": {
             "pattern": {
              "fillmode": "overlay",
              "size": 10,
              "solidity": 0.2
             }
            },
            "type": "histogram"
           }
          ],
          "histogram2d": [
           {
            "colorbar": {
             "outlinewidth": 0,
             "ticks": ""
            },
            "colorscale": [
             [
              0,
              "#0d0887"
             ],
             [
              0.1111111111111111,
              "#46039f"
             ],
             [
              0.2222222222222222,
              "#7201a8"
             ],
             [
              0.3333333333333333,
              "#9c179e"
             ],
             [
              0.4444444444444444,
              "#bd3786"
             ],
             [
              0.5555555555555556,
              "#d8576b"
             ],
             [
              0.6666666666666666,
              "#ed7953"
             ],
             [
              0.7777777777777778,
              "#fb9f3a"
             ],
             [
              0.8888888888888888,
              "#fdca26"
             ],
             [
              1,
              "#f0f921"
             ]
            ],
            "type": "histogram2d"
           }
          ],
          "histogram2dcontour": [
           {
            "colorbar": {
             "outlinewidth": 0,
             "ticks": ""
            },
            "colorscale": [
             [
              0,
              "#0d0887"
             ],
             [
              0.1111111111111111,
              "#46039f"
             ],
             [
              0.2222222222222222,
              "#7201a8"
             ],
             [
              0.3333333333333333,
              "#9c179e"
             ],
             [
              0.4444444444444444,
              "#bd3786"
             ],
             [
              0.5555555555555556,
              "#d8576b"
             ],
             [
              0.6666666666666666,
              "#ed7953"
             ],
             [
              0.7777777777777778,
              "#fb9f3a"
             ],
             [
              0.8888888888888888,
              "#fdca26"
             ],
             [
              1,
              "#f0f921"
             ]
            ],
            "type": "histogram2dcontour"
           }
          ],
          "mesh3d": [
           {
            "colorbar": {
             "outlinewidth": 0,
             "ticks": ""
            },
            "type": "mesh3d"
           }
          ],
          "parcoords": [
           {
            "line": {
             "colorbar": {
              "outlinewidth": 0,
              "ticks": ""
             }
            },
            "type": "parcoords"
           }
          ],
          "pie": [
           {
            "automargin": true,
            "type": "pie"
           }
          ],
          "scatter": [
           {
            "fillpattern": {
             "fillmode": "overlay",
             "size": 10,
             "solidity": 0.2
            },
            "type": "scatter"
           }
          ],
          "scatter3d": [
           {
            "line": {
             "colorbar": {
              "outlinewidth": 0,
              "ticks": ""
             }
            },
            "marker": {
             "colorbar": {
              "outlinewidth": 0,
              "ticks": ""
             }
            },
            "type": "scatter3d"
           }
          ],
          "scattercarpet": [
           {
            "marker": {
             "colorbar": {
              "outlinewidth": 0,
              "ticks": ""
             }
            },
            "type": "scattercarpet"
           }
          ],
          "scattergeo": [
           {
            "marker": {
             "colorbar": {
              "outlinewidth": 0,
              "ticks": ""
             }
            },
            "type": "scattergeo"
           }
          ],
          "scattergl": [
           {
            "marker": {
             "colorbar": {
              "outlinewidth": 0,
              "ticks": ""
             }
            },
            "type": "scattergl"
           }
          ],
          "scattermapbox": [
           {
            "marker": {
             "colorbar": {
              "outlinewidth": 0,
              "ticks": ""
             }
            },
            "type": "scattermapbox"
           }
          ],
          "scatterpolar": [
           {
            "marker": {
             "colorbar": {
              "outlinewidth": 0,
              "ticks": ""
             }
            },
            "type": "scatterpolar"
           }
          ],
          "scatterpolargl": [
           {
            "marker": {
             "colorbar": {
              "outlinewidth": 0,
              "ticks": ""
             }
            },
            "type": "scatterpolargl"
           }
          ],
          "scatterternary": [
           {
            "marker": {
             "colorbar": {
              "outlinewidth": 0,
              "ticks": ""
             }
            },
            "type": "scatterternary"
           }
          ],
          "surface": [
           {
            "colorbar": {
             "outlinewidth": 0,
             "ticks": ""
            },
            "colorscale": [
             [
              0,
              "#0d0887"
             ],
             [
              0.1111111111111111,
              "#46039f"
             ],
             [
              0.2222222222222222,
              "#7201a8"
             ],
             [
              0.3333333333333333,
              "#9c179e"
             ],
             [
              0.4444444444444444,
              "#bd3786"
             ],
             [
              0.5555555555555556,
              "#d8576b"
             ],
             [
              0.6666666666666666,
              "#ed7953"
             ],
             [
              0.7777777777777778,
              "#fb9f3a"
             ],
             [
              0.8888888888888888,
              "#fdca26"
             ],
             [
              1,
              "#f0f921"
             ]
            ],
            "type": "surface"
           }
          ],
          "table": [
           {
            "cells": {
             "fill": {
              "color": "#EBF0F8"
             },
             "line": {
              "color": "white"
             }
            },
            "header": {
             "fill": {
              "color": "#C8D4E3"
             },
             "line": {
              "color": "white"
             }
            },
            "type": "table"
           }
          ]
         },
         "layout": {
          "annotationdefaults": {
           "arrowcolor": "#2a3f5f",
           "arrowhead": 0,
           "arrowwidth": 1
          },
          "autotypenumbers": "strict",
          "coloraxis": {
           "colorbar": {
            "outlinewidth": 0,
            "ticks": ""
           }
          },
          "colorscale": {
           "diverging": [
            [
             0,
             "#8e0152"
            ],
            [
             0.1,
             "#c51b7d"
            ],
            [
             0.2,
             "#de77ae"
            ],
            [
             0.3,
             "#f1b6da"
            ],
            [
             0.4,
             "#fde0ef"
            ],
            [
             0.5,
             "#f7f7f7"
            ],
            [
             0.6,
             "#e6f5d0"
            ],
            [
             0.7,
             "#b8e186"
            ],
            [
             0.8,
             "#7fbc41"
            ],
            [
             0.9,
             "#4d9221"
            ],
            [
             1,
             "#276419"
            ]
           ],
           "sequential": [
            [
             0,
             "#0d0887"
            ],
            [
             0.1111111111111111,
             "#46039f"
            ],
            [
             0.2222222222222222,
             "#7201a8"
            ],
            [
             0.3333333333333333,
             "#9c179e"
            ],
            [
             0.4444444444444444,
             "#bd3786"
            ],
            [
             0.5555555555555556,
             "#d8576b"
            ],
            [
             0.6666666666666666,
             "#ed7953"
            ],
            [
             0.7777777777777778,
             "#fb9f3a"
            ],
            [
             0.8888888888888888,
             "#fdca26"
            ],
            [
             1,
             "#f0f921"
            ]
           ],
           "sequentialminus": [
            [
             0,
             "#0d0887"
            ],
            [
             0.1111111111111111,
             "#46039f"
            ],
            [
             0.2222222222222222,
             "#7201a8"
            ],
            [
             0.3333333333333333,
             "#9c179e"
            ],
            [
             0.4444444444444444,
             "#bd3786"
            ],
            [
             0.5555555555555556,
             "#d8576b"
            ],
            [
             0.6666666666666666,
             "#ed7953"
            ],
            [
             0.7777777777777778,
             "#fb9f3a"
            ],
            [
             0.8888888888888888,
             "#fdca26"
            ],
            [
             1,
             "#f0f921"
            ]
           ]
          },
          "colorway": [
           "#636efa",
           "#EF553B",
           "#00cc96",
           "#ab63fa",
           "#FFA15A",
           "#19d3f3",
           "#FF6692",
           "#B6E880",
           "#FF97FF",
           "#FECB52"
          ],
          "font": {
           "color": "#2a3f5f"
          },
          "geo": {
           "bgcolor": "white",
           "lakecolor": "white",
           "landcolor": "#E5ECF6",
           "showlakes": true,
           "showland": true,
           "subunitcolor": "white"
          },
          "hoverlabel": {
           "align": "left"
          },
          "hovermode": "closest",
          "mapbox": {
           "style": "light"
          },
          "paper_bgcolor": "white",
          "plot_bgcolor": "#E5ECF6",
          "polar": {
           "angularaxis": {
            "gridcolor": "white",
            "linecolor": "white",
            "ticks": ""
           },
           "bgcolor": "#E5ECF6",
           "radialaxis": {
            "gridcolor": "white",
            "linecolor": "white",
            "ticks": ""
           }
          },
          "scene": {
           "xaxis": {
            "backgroundcolor": "#E5ECF6",
            "gridcolor": "white",
            "gridwidth": 2,
            "linecolor": "white",
            "showbackground": true,
            "ticks": "",
            "zerolinecolor": "white"
           },
           "yaxis": {
            "backgroundcolor": "#E5ECF6",
            "gridcolor": "white",
            "gridwidth": 2,
            "linecolor": "white",
            "showbackground": true,
            "ticks": "",
            "zerolinecolor": "white"
           },
           "zaxis": {
            "backgroundcolor": "#E5ECF6",
            "gridcolor": "white",
            "gridwidth": 2,
            "linecolor": "white",
            "showbackground": true,
            "ticks": "",
            "zerolinecolor": "white"
           }
          },
          "shapedefaults": {
           "line": {
            "color": "#2a3f5f"
           }
          },
          "ternary": {
           "aaxis": {
            "gridcolor": "white",
            "linecolor": "white",
            "ticks": ""
           },
           "baxis": {
            "gridcolor": "white",
            "linecolor": "white",
            "ticks": ""
           },
           "bgcolor": "#E5ECF6",
           "caxis": {
            "gridcolor": "white",
            "linecolor": "white",
            "ticks": ""
           }
          },
          "title": {
           "x": 0.05
          },
          "xaxis": {
           "automargin": true,
           "gridcolor": "white",
           "linecolor": "white",
           "ticks": "",
           "title": {
            "standoff": 15
           },
           "zerolinecolor": "white",
           "zerolinewidth": 2
          },
          "yaxis": {
           "automargin": true,
           "gridcolor": "white",
           "linecolor": "white",
           "ticks": "",
           "title": {
            "standoff": 15
           },
           "zerolinecolor": "white",
           "zerolinewidth": 2
          }
         }
        },
        "title": {
         "text": "Distribution of Data Scientist Jobs per State "
        }
       }
      }
     },
     "metadata": {},
     "output_type": "display_data"
    }
   ],
   "source": [
    "# Create a choropleth map\n",
    "fig = px.choropleth(jobs_per_state, \n",
    "                    locations='Location_State', \n",
    "                    locationmode='USA-states',\n",
    "                    color='Number of Jobs',\n",
    "                    color_continuous_scale=\"sunsetdark\",\n",
    "                    range_color=(0, jobs_per_state['Number of Jobs'].max()),\n",
    "                    scope='usa',\n",
    "                    title='Distribution of Data Scientist Jobs per State ')\n",
    "\n",
    "fig.show()"
   ]
  },
  {
   "cell_type": "code",
   "execution_count": 407,
   "metadata": {},
   "outputs": [
    {
     "data": {
      "application/vnd.plotly.v1+json": {
       "config": {
        "plotlyServerURL": "https://plot.ly"
       },
       "data": [
        {
         "alignmentgroup": "True",
         "hovertemplate": "Number of Jobs=%{marker.color}<br>Location_State=%{y}<extra></extra>",
         "legendgroup": "",
         "marker": {
          "color": [
           29,
           43,
           46,
           67,
           121
          ],
          "coloraxis": "coloraxis",
          "pattern": {
           "shape": ""
          }
         },
         "name": "",
         "offsetgroup": "",
         "orientation": "h",
         "showlegend": false,
         "text": [
          29,
          43,
          46,
          67,
          121
         ],
         "textposition": "auto",
         "type": "bar",
         "x": [
          29,
          43,
          46,
          67,
          121
         ],
         "xaxis": "x",
         "y": [
          "MD",
          "NY",
          "MA",
          "VA",
          "CA"
         ],
         "yaxis": "y"
        }
       ],
       "layout": {
        "barmode": "relative",
        "coloraxis": {
         "colorbar": {
          "title": {
           "text": "Number of Jobs"
          }
         },
         "colorscale": [
          [
           0,
           "rgb(252, 222, 156)"
          ],
          [
           0.16666666666666666,
           "rgb(250, 164, 118)"
          ],
          [
           0.3333333333333333,
           "rgb(240, 116, 110)"
          ],
          [
           0.5,
           "rgb(227, 79, 111)"
          ],
          [
           0.6666666666666666,
           "rgb(220, 57, 119)"
          ],
          [
           0.8333333333333334,
           "rgb(185, 37, 122)"
          ],
          [
           1,
           "rgb(124, 29, 111)"
          ]
         ],
         "showscale": false
        },
        "legend": {
         "tracegroupgap": 0
        },
        "margin": {
         "b": 1,
         "l": 20,
         "pad": 5,
         "r": 20,
         "t": 40
        },
        "template": {
         "data": {
          "bar": [
           {
            "error_x": {
             "color": "#2a3f5f"
            },
            "error_y": {
             "color": "#2a3f5f"
            },
            "marker": {
             "line": {
              "color": "white",
              "width": 0.5
             },
             "pattern": {
              "fillmode": "overlay",
              "size": 10,
              "solidity": 0.2
             }
            },
            "type": "bar"
           }
          ],
          "barpolar": [
           {
            "marker": {
             "line": {
              "color": "white",
              "width": 0.5
             },
             "pattern": {
              "fillmode": "overlay",
              "size": 10,
              "solidity": 0.2
             }
            },
            "type": "barpolar"
           }
          ],
          "carpet": [
           {
            "aaxis": {
             "endlinecolor": "#2a3f5f",
             "gridcolor": "#C8D4E3",
             "linecolor": "#C8D4E3",
             "minorgridcolor": "#C8D4E3",
             "startlinecolor": "#2a3f5f"
            },
            "baxis": {
             "endlinecolor": "#2a3f5f",
             "gridcolor": "#C8D4E3",
             "linecolor": "#C8D4E3",
             "minorgridcolor": "#C8D4E3",
             "startlinecolor": "#2a3f5f"
            },
            "type": "carpet"
           }
          ],
          "choropleth": [
           {
            "colorbar": {
             "outlinewidth": 0,
             "ticks": ""
            },
            "type": "choropleth"
           }
          ],
          "contour": [
           {
            "colorbar": {
             "outlinewidth": 0,
             "ticks": ""
            },
            "colorscale": [
             [
              0,
              "#0d0887"
             ],
             [
              0.1111111111111111,
              "#46039f"
             ],
             [
              0.2222222222222222,
              "#7201a8"
             ],
             [
              0.3333333333333333,
              "#9c179e"
             ],
             [
              0.4444444444444444,
              "#bd3786"
             ],
             [
              0.5555555555555556,
              "#d8576b"
             ],
             [
              0.6666666666666666,
              "#ed7953"
             ],
             [
              0.7777777777777778,
              "#fb9f3a"
             ],
             [
              0.8888888888888888,
              "#fdca26"
             ],
             [
              1,
              "#f0f921"
             ]
            ],
            "type": "contour"
           }
          ],
          "contourcarpet": [
           {
            "colorbar": {
             "outlinewidth": 0,
             "ticks": ""
            },
            "type": "contourcarpet"
           }
          ],
          "heatmap": [
           {
            "colorbar": {
             "outlinewidth": 0,
             "ticks": ""
            },
            "colorscale": [
             [
              0,
              "#0d0887"
             ],
             [
              0.1111111111111111,
              "#46039f"
             ],
             [
              0.2222222222222222,
              "#7201a8"
             ],
             [
              0.3333333333333333,
              "#9c179e"
             ],
             [
              0.4444444444444444,
              "#bd3786"
             ],
             [
              0.5555555555555556,
              "#d8576b"
             ],
             [
              0.6666666666666666,
              "#ed7953"
             ],
             [
              0.7777777777777778,
              "#fb9f3a"
             ],
             [
              0.8888888888888888,
              "#fdca26"
             ],
             [
              1,
              "#f0f921"
             ]
            ],
            "type": "heatmap"
           }
          ],
          "heatmapgl": [
           {
            "colorbar": {
             "outlinewidth": 0,
             "ticks": ""
            },
            "colorscale": [
             [
              0,
              "#0d0887"
             ],
             [
              0.1111111111111111,
              "#46039f"
             ],
             [
              0.2222222222222222,
              "#7201a8"
             ],
             [
              0.3333333333333333,
              "#9c179e"
             ],
             [
              0.4444444444444444,
              "#bd3786"
             ],
             [
              0.5555555555555556,
              "#d8576b"
             ],
             [
              0.6666666666666666,
              "#ed7953"
             ],
             [
              0.7777777777777778,
              "#fb9f3a"
             ],
             [
              0.8888888888888888,
              "#fdca26"
             ],
             [
              1,
              "#f0f921"
             ]
            ],
            "type": "heatmapgl"
           }
          ],
          "histogram": [
           {
            "marker": {
             "pattern": {
              "fillmode": "overlay",
              "size": 10,
              "solidity": 0.2
             }
            },
            "type": "histogram"
           }
          ],
          "histogram2d": [
           {
            "colorbar": {
             "outlinewidth": 0,
             "ticks": ""
            },
            "colorscale": [
             [
              0,
              "#0d0887"
             ],
             [
              0.1111111111111111,
              "#46039f"
             ],
             [
              0.2222222222222222,
              "#7201a8"
             ],
             [
              0.3333333333333333,
              "#9c179e"
             ],
             [
              0.4444444444444444,
              "#bd3786"
             ],
             [
              0.5555555555555556,
              "#d8576b"
             ],
             [
              0.6666666666666666,
              "#ed7953"
             ],
             [
              0.7777777777777778,
              "#fb9f3a"
             ],
             [
              0.8888888888888888,
              "#fdca26"
             ],
             [
              1,
              "#f0f921"
             ]
            ],
            "type": "histogram2d"
           }
          ],
          "histogram2dcontour": [
           {
            "colorbar": {
             "outlinewidth": 0,
             "ticks": ""
            },
            "colorscale": [
             [
              0,
              "#0d0887"
             ],
             [
              0.1111111111111111,
              "#46039f"
             ],
             [
              0.2222222222222222,
              "#7201a8"
             ],
             [
              0.3333333333333333,
              "#9c179e"
             ],
             [
              0.4444444444444444,
              "#bd3786"
             ],
             [
              0.5555555555555556,
              "#d8576b"
             ],
             [
              0.6666666666666666,
              "#ed7953"
             ],
             [
              0.7777777777777778,
              "#fb9f3a"
             ],
             [
              0.8888888888888888,
              "#fdca26"
             ],
             [
              1,
              "#f0f921"
             ]
            ],
            "type": "histogram2dcontour"
           }
          ],
          "mesh3d": [
           {
            "colorbar": {
             "outlinewidth": 0,
             "ticks": ""
            },
            "type": "mesh3d"
           }
          ],
          "parcoords": [
           {
            "line": {
             "colorbar": {
              "outlinewidth": 0,
              "ticks": ""
             }
            },
            "type": "parcoords"
           }
          ],
          "pie": [
           {
            "automargin": true,
            "type": "pie"
           }
          ],
          "scatter": [
           {
            "fillpattern": {
             "fillmode": "overlay",
             "size": 10,
             "solidity": 0.2
            },
            "type": "scatter"
           }
          ],
          "scatter3d": [
           {
            "line": {
             "colorbar": {
              "outlinewidth": 0,
              "ticks": ""
             }
            },
            "marker": {
             "colorbar": {
              "outlinewidth": 0,
              "ticks": ""
             }
            },
            "type": "scatter3d"
           }
          ],
          "scattercarpet": [
           {
            "marker": {
             "colorbar": {
              "outlinewidth": 0,
              "ticks": ""
             }
            },
            "type": "scattercarpet"
           }
          ],
          "scattergeo": [
           {
            "marker": {
             "colorbar": {
              "outlinewidth": 0,
              "ticks": ""
             }
            },
            "type": "scattergeo"
           }
          ],
          "scattergl": [
           {
            "marker": {
             "colorbar": {
              "outlinewidth": 0,
              "ticks": ""
             }
            },
            "type": "scattergl"
           }
          ],
          "scattermapbox": [
           {
            "marker": {
             "colorbar": {
              "outlinewidth": 0,
              "ticks": ""
             }
            },
            "type": "scattermapbox"
           }
          ],
          "scatterpolar": [
           {
            "marker": {
             "colorbar": {
              "outlinewidth": 0,
              "ticks": ""
             }
            },
            "type": "scatterpolar"
           }
          ],
          "scatterpolargl": [
           {
            "marker": {
             "colorbar": {
              "outlinewidth": 0,
              "ticks": ""
             }
            },
            "type": "scatterpolargl"
           }
          ],
          "scatterternary": [
           {
            "marker": {
             "colorbar": {
              "outlinewidth": 0,
              "ticks": ""
             }
            },
            "type": "scatterternary"
           }
          ],
          "surface": [
           {
            "colorbar": {
             "outlinewidth": 0,
             "ticks": ""
            },
            "colorscale": [
             [
              0,
              "#0d0887"
             ],
             [
              0.1111111111111111,
              "#46039f"
             ],
             [
              0.2222222222222222,
              "#7201a8"
             ],
             [
              0.3333333333333333,
              "#9c179e"
             ],
             [
              0.4444444444444444,
              "#bd3786"
             ],
             [
              0.5555555555555556,
              "#d8576b"
             ],
             [
              0.6666666666666666,
              "#ed7953"
             ],
             [
              0.7777777777777778,
              "#fb9f3a"
             ],
             [
              0.8888888888888888,
              "#fdca26"
             ],
             [
              1,
              "#f0f921"
             ]
            ],
            "type": "surface"
           }
          ],
          "table": [
           {
            "cells": {
             "fill": {
              "color": "#EBF0F8"
             },
             "line": {
              "color": "white"
             }
            },
            "header": {
             "fill": {
              "color": "#C8D4E3"
             },
             "line": {
              "color": "white"
             }
            },
            "type": "table"
           }
          ]
         },
         "layout": {
          "annotationdefaults": {
           "arrowcolor": "#2a3f5f",
           "arrowhead": 0,
           "arrowwidth": 1
          },
          "autotypenumbers": "strict",
          "coloraxis": {
           "colorbar": {
            "outlinewidth": 0,
            "ticks": ""
           }
          },
          "colorscale": {
           "diverging": [
            [
             0,
             "#8e0152"
            ],
            [
             0.1,
             "#c51b7d"
            ],
            [
             0.2,
             "#de77ae"
            ],
            [
             0.3,
             "#f1b6da"
            ],
            [
             0.4,
             "#fde0ef"
            ],
            [
             0.5,
             "#f7f7f7"
            ],
            [
             0.6,
             "#e6f5d0"
            ],
            [
             0.7,
             "#b8e186"
            ],
            [
             0.8,
             "#7fbc41"
            ],
            [
             0.9,
             "#4d9221"
            ],
            [
             1,
             "#276419"
            ]
           ],
           "sequential": [
            [
             0,
             "#0d0887"
            ],
            [
             0.1111111111111111,
             "#46039f"
            ],
            [
             0.2222222222222222,
             "#7201a8"
            ],
            [
             0.3333333333333333,
             "#9c179e"
            ],
            [
             0.4444444444444444,
             "#bd3786"
            ],
            [
             0.5555555555555556,
             "#d8576b"
            ],
            [
             0.6666666666666666,
             "#ed7953"
            ],
            [
             0.7777777777777778,
             "#fb9f3a"
            ],
            [
             0.8888888888888888,
             "#fdca26"
            ],
            [
             1,
             "#f0f921"
            ]
           ],
           "sequentialminus": [
            [
             0,
             "#0d0887"
            ],
            [
             0.1111111111111111,
             "#46039f"
            ],
            [
             0.2222222222222222,
             "#7201a8"
            ],
            [
             0.3333333333333333,
             "#9c179e"
            ],
            [
             0.4444444444444444,
             "#bd3786"
            ],
            [
             0.5555555555555556,
             "#d8576b"
            ],
            [
             0.6666666666666666,
             "#ed7953"
            ],
            [
             0.7777777777777778,
             "#fb9f3a"
            ],
            [
             0.8888888888888888,
             "#fdca26"
            ],
            [
             1,
             "#f0f921"
            ]
           ]
          },
          "colorway": [
           "#636efa",
           "#EF553B",
           "#00cc96",
           "#ab63fa",
           "#FFA15A",
           "#19d3f3",
           "#FF6692",
           "#B6E880",
           "#FF97FF",
           "#FECB52"
          ],
          "font": {
           "color": "#2a3f5f"
          },
          "geo": {
           "bgcolor": "white",
           "lakecolor": "white",
           "landcolor": "white",
           "showlakes": true,
           "showland": true,
           "subunitcolor": "#C8D4E3"
          },
          "hoverlabel": {
           "align": "left"
          },
          "hovermode": "closest",
          "mapbox": {
           "style": "light"
          },
          "paper_bgcolor": "white",
          "plot_bgcolor": "white",
          "polar": {
           "angularaxis": {
            "gridcolor": "#EBF0F8",
            "linecolor": "#EBF0F8",
            "ticks": ""
           },
           "bgcolor": "white",
           "radialaxis": {
            "gridcolor": "#EBF0F8",
            "linecolor": "#EBF0F8",
            "ticks": ""
           }
          },
          "scene": {
           "xaxis": {
            "backgroundcolor": "white",
            "gridcolor": "#DFE8F3",
            "gridwidth": 2,
            "linecolor": "#EBF0F8",
            "showbackground": true,
            "ticks": "",
            "zerolinecolor": "#EBF0F8"
           },
           "yaxis": {
            "backgroundcolor": "white",
            "gridcolor": "#DFE8F3",
            "gridwidth": 2,
            "linecolor": "#EBF0F8",
            "showbackground": true,
            "ticks": "",
            "zerolinecolor": "#EBF0F8"
           },
           "zaxis": {
            "backgroundcolor": "white",
            "gridcolor": "#DFE8F3",
            "gridwidth": 2,
            "linecolor": "#EBF0F8",
            "showbackground": true,
            "ticks": "",
            "zerolinecolor": "#EBF0F8"
           }
          },
          "shapedefaults": {
           "line": {
            "color": "#2a3f5f"
           }
          },
          "ternary": {
           "aaxis": {
            "gridcolor": "#DFE8F3",
            "linecolor": "#A2B1C6",
            "ticks": ""
           },
           "baxis": {
            "gridcolor": "#DFE8F3",
            "linecolor": "#A2B1C6",
            "ticks": ""
           },
           "bgcolor": "white",
           "caxis": {
            "gridcolor": "#DFE8F3",
            "linecolor": "#A2B1C6",
            "ticks": ""
           }
          },
          "title": {
           "x": 0.05
          },
          "xaxis": {
           "automargin": true,
           "gridcolor": "#EBF0F8",
           "linecolor": "#EBF0F8",
           "ticks": "",
           "title": {
            "standoff": 15
           },
           "zerolinecolor": "#EBF0F8",
           "zerolinewidth": 2
          },
          "yaxis": {
           "automargin": true,
           "gridcolor": "#EBF0F8",
           "linecolor": "#EBF0F8",
           "ticks": "",
           "title": {
            "standoff": 15
           },
           "zerolinecolor": "#EBF0F8",
           "zerolinewidth": 2
          }
         }
        },
        "title": {
         "text": "Top Five States with Data Scientist Positions"
        },
        "xaxis": {
         "anchor": "y",
         "domain": [
          0,
          1
         ],
         "title": {
          "text": "Number of Jobs"
         }
        },
        "yaxis": {
         "anchor": "x",
         "domain": [
          0,
          1
         ],
         "tickmode": "linear",
         "title": {
          "text": ""
         }
        }
       }
      }
     },
     "metadata": {},
     "output_type": "display_data"
    }
   ],
   "source": [
    "# Show 5 top states with the highest Job offers\n",
    "Top_5_states = jobs_per_state.iloc[-5:]\n",
    "# Plot the horizontal bar chart\n",
    "fig = px.bar(Top_5_states, \n",
    "             x='Number of Jobs', \n",
    "             y='Location_State', \n",
    "             orientation='h', \n",
    "             color='Number of Jobs',\n",
    "             color_continuous_scale=\"sunsetdark\",\n",
    "             title='Top Five States with Data Scientist Positions',\n",
    "             text='Number of Jobs')\n",
    "\n",
    "# Update layout for better readability\n",
    "fig.update_layout(xaxis_title='Number of Jobs',\n",
    "                  yaxis_title='',\n",
    "                  yaxis=dict(tickmode='linear'),\n",
    "                  template='plotly_white',\n",
    "                  margin_pad=5,\n",
    "                  coloraxis_showscale=False,\n",
    "                  margin=dict(l=20, r=20, t=40, b=1)  )\n",
    "\n",
    "# Show the plot\n",
    "fig.show()"
   ]
  },
  {
   "cell_type": "markdown",
   "metadata": {},
   "source": [
    "* We observe that **California** has the highest job offers. The second state with the highest job offers is **Virginia**, after that **Massachusetts**, **New York** and **Maryland**.\n",
    "* The majority of the job offers are concentrated in these 5 states.\n",
    "  "
   ]
  },
  {
   "cell_type": "markdown",
   "metadata": {},
   "source": [
    "### Exploring the Skills Highly Sought-after by Companies "
   ]
  },
  {
   "cell_type": "code",
   "execution_count": 408,
   "metadata": {},
   "outputs": [
    {
     "data": {
      "application/vnd.plotly.v1+json": {
       "config": {
        "plotlyServerURL": "https://plot.ly"
       },
       "data": [
        {
         "alignmentgroup": "True",
         "hovertemplate": "count=%{marker.color}<br>index=%{y}<extra></extra>",
         "legendgroup": "",
         "marker": {
          "color": [
           2,
           24,
           37,
           85,
           109,
           111,
           115,
           123,
           150,
           208,
           250,
           380,
           474
          ],
          "coloraxis": "coloraxis",
          "pattern": {
           "shape": ""
          }
         },
         "name": "",
         "offsetgroup": "",
         "orientation": "h",
         "showlegend": false,
         "text": [
          2,
          24,
          37,
          85,
          109,
          111,
          115,
          123,
          150,
          208,
          250,
          380,
          474
         ],
         "textposition": "auto",
         "type": "bar",
         "x": [
          2,
          24,
          37,
          85,
          109,
          111,
          115,
          123,
          150,
          208,
          250,
          380,
          474
         ],
         "xaxis": "x",
         "y": [
          "Web Scraping",
          "Power BI",
          "Azure",
          "Tableau",
          "Git",
          "Big Data",
          "Hadoop",
          "AWS",
          "Spark",
          "Excel",
          "SQL",
          "Python",
          "R"
         ],
         "yaxis": "y"
        }
       ],
       "layout": {
        "barmode": "relative",
        "coloraxis": {
         "colorbar": {
          "title": {
           "text": "count"
          }
         },
         "colorscale": [
          [
           0,
           "rgb(252, 222, 156)"
          ],
          [
           0.16666666666666666,
           "rgb(250, 164, 118)"
          ],
          [
           0.3333333333333333,
           "rgb(240, 116, 110)"
          ],
          [
           0.5,
           "rgb(227, 79, 111)"
          ],
          [
           0.6666666666666666,
           "rgb(220, 57, 119)"
          ],
          [
           0.8333333333333334,
           "rgb(185, 37, 122)"
          ],
          [
           1,
           "rgb(124, 29, 111)"
          ]
         ],
         "showscale": false
        },
        "legend": {
         "tracegroupgap": 0
        },
        "margin": {
         "b": 1,
         "l": 20,
         "pad": 5,
         "r": 20,
         "t": 40
        },
        "template": {
         "data": {
          "bar": [
           {
            "error_x": {
             "color": "#2a3f5f"
            },
            "error_y": {
             "color": "#2a3f5f"
            },
            "marker": {
             "line": {
              "color": "white",
              "width": 0.5
             },
             "pattern": {
              "fillmode": "overlay",
              "size": 10,
              "solidity": 0.2
             }
            },
            "type": "bar"
           }
          ],
          "barpolar": [
           {
            "marker": {
             "line": {
              "color": "white",
              "width": 0.5
             },
             "pattern": {
              "fillmode": "overlay",
              "size": 10,
              "solidity": 0.2
             }
            },
            "type": "barpolar"
           }
          ],
          "carpet": [
           {
            "aaxis": {
             "endlinecolor": "#2a3f5f",
             "gridcolor": "#C8D4E3",
             "linecolor": "#C8D4E3",
             "minorgridcolor": "#C8D4E3",
             "startlinecolor": "#2a3f5f"
            },
            "baxis": {
             "endlinecolor": "#2a3f5f",
             "gridcolor": "#C8D4E3",
             "linecolor": "#C8D4E3",
             "minorgridcolor": "#C8D4E3",
             "startlinecolor": "#2a3f5f"
            },
            "type": "carpet"
           }
          ],
          "choropleth": [
           {
            "colorbar": {
             "outlinewidth": 0,
             "ticks": ""
            },
            "type": "choropleth"
           }
          ],
          "contour": [
           {
            "colorbar": {
             "outlinewidth": 0,
             "ticks": ""
            },
            "colorscale": [
             [
              0,
              "#0d0887"
             ],
             [
              0.1111111111111111,
              "#46039f"
             ],
             [
              0.2222222222222222,
              "#7201a8"
             ],
             [
              0.3333333333333333,
              "#9c179e"
             ],
             [
              0.4444444444444444,
              "#bd3786"
             ],
             [
              0.5555555555555556,
              "#d8576b"
             ],
             [
              0.6666666666666666,
              "#ed7953"
             ],
             [
              0.7777777777777778,
              "#fb9f3a"
             ],
             [
              0.8888888888888888,
              "#fdca26"
             ],
             [
              1,
              "#f0f921"
             ]
            ],
            "type": "contour"
           }
          ],
          "contourcarpet": [
           {
            "colorbar": {
             "outlinewidth": 0,
             "ticks": ""
            },
            "type": "contourcarpet"
           }
          ],
          "heatmap": [
           {
            "colorbar": {
             "outlinewidth": 0,
             "ticks": ""
            },
            "colorscale": [
             [
              0,
              "#0d0887"
             ],
             [
              0.1111111111111111,
              "#46039f"
             ],
             [
              0.2222222222222222,
              "#7201a8"
             ],
             [
              0.3333333333333333,
              "#9c179e"
             ],
             [
              0.4444444444444444,
              "#bd3786"
             ],
             [
              0.5555555555555556,
              "#d8576b"
             ],
             [
              0.6666666666666666,
              "#ed7953"
             ],
             [
              0.7777777777777778,
              "#fb9f3a"
             ],
             [
              0.8888888888888888,
              "#fdca26"
             ],
             [
              1,
              "#f0f921"
             ]
            ],
            "type": "heatmap"
           }
          ],
          "heatmapgl": [
           {
            "colorbar": {
             "outlinewidth": 0,
             "ticks": ""
            },
            "colorscale": [
             [
              0,
              "#0d0887"
             ],
             [
              0.1111111111111111,
              "#46039f"
             ],
             [
              0.2222222222222222,
              "#7201a8"
             ],
             [
              0.3333333333333333,
              "#9c179e"
             ],
             [
              0.4444444444444444,
              "#bd3786"
             ],
             [
              0.5555555555555556,
              "#d8576b"
             ],
             [
              0.6666666666666666,
              "#ed7953"
             ],
             [
              0.7777777777777778,
              "#fb9f3a"
             ],
             [
              0.8888888888888888,
              "#fdca26"
             ],
             [
              1,
              "#f0f921"
             ]
            ],
            "type": "heatmapgl"
           }
          ],
          "histogram": [
           {
            "marker": {
             "pattern": {
              "fillmode": "overlay",
              "size": 10,
              "solidity": 0.2
             }
            },
            "type": "histogram"
           }
          ],
          "histogram2d": [
           {
            "colorbar": {
             "outlinewidth": 0,
             "ticks": ""
            },
            "colorscale": [
             [
              0,
              "#0d0887"
             ],
             [
              0.1111111111111111,
              "#46039f"
             ],
             [
              0.2222222222222222,
              "#7201a8"
             ],
             [
              0.3333333333333333,
              "#9c179e"
             ],
             [
              0.4444444444444444,
              "#bd3786"
             ],
             [
              0.5555555555555556,
              "#d8576b"
             ],
             [
              0.6666666666666666,
              "#ed7953"
             ],
             [
              0.7777777777777778,
              "#fb9f3a"
             ],
             [
              0.8888888888888888,
              "#fdca26"
             ],
             [
              1,
              "#f0f921"
             ]
            ],
            "type": "histogram2d"
           }
          ],
          "histogram2dcontour": [
           {
            "colorbar": {
             "outlinewidth": 0,
             "ticks": ""
            },
            "colorscale": [
             [
              0,
              "#0d0887"
             ],
             [
              0.1111111111111111,
              "#46039f"
             ],
             [
              0.2222222222222222,
              "#7201a8"
             ],
             [
              0.3333333333333333,
              "#9c179e"
             ],
             [
              0.4444444444444444,
              "#bd3786"
             ],
             [
              0.5555555555555556,
              "#d8576b"
             ],
             [
              0.6666666666666666,
              "#ed7953"
             ],
             [
              0.7777777777777778,
              "#fb9f3a"
             ],
             [
              0.8888888888888888,
              "#fdca26"
             ],
             [
              1,
              "#f0f921"
             ]
            ],
            "type": "histogram2dcontour"
           }
          ],
          "mesh3d": [
           {
            "colorbar": {
             "outlinewidth": 0,
             "ticks": ""
            },
            "type": "mesh3d"
           }
          ],
          "parcoords": [
           {
            "line": {
             "colorbar": {
              "outlinewidth": 0,
              "ticks": ""
             }
            },
            "type": "parcoords"
           }
          ],
          "pie": [
           {
            "automargin": true,
            "type": "pie"
           }
          ],
          "scatter": [
           {
            "fillpattern": {
             "fillmode": "overlay",
             "size": 10,
             "solidity": 0.2
            },
            "type": "scatter"
           }
          ],
          "scatter3d": [
           {
            "line": {
             "colorbar": {
              "outlinewidth": 0,
              "ticks": ""
             }
            },
            "marker": {
             "colorbar": {
              "outlinewidth": 0,
              "ticks": ""
             }
            },
            "type": "scatter3d"
           }
          ],
          "scattercarpet": [
           {
            "marker": {
             "colorbar": {
              "outlinewidth": 0,
              "ticks": ""
             }
            },
            "type": "scattercarpet"
           }
          ],
          "scattergeo": [
           {
            "marker": {
             "colorbar": {
              "outlinewidth": 0,
              "ticks": ""
             }
            },
            "type": "scattergeo"
           }
          ],
          "scattergl": [
           {
            "marker": {
             "colorbar": {
              "outlinewidth": 0,
              "ticks": ""
             }
            },
            "type": "scattergl"
           }
          ],
          "scattermapbox": [
           {
            "marker": {
             "colorbar": {
              "outlinewidth": 0,
              "ticks": ""
             }
            },
            "type": "scattermapbox"
           }
          ],
          "scatterpolar": [
           {
            "marker": {
             "colorbar": {
              "outlinewidth": 0,
              "ticks": ""
             }
            },
            "type": "scatterpolar"
           }
          ],
          "scatterpolargl": [
           {
            "marker": {
             "colorbar": {
              "outlinewidth": 0,
              "ticks": ""
             }
            },
            "type": "scatterpolargl"
           }
          ],
          "scatterternary": [
           {
            "marker": {
             "colorbar": {
              "outlinewidth": 0,
              "ticks": ""
             }
            },
            "type": "scatterternary"
           }
          ],
          "surface": [
           {
            "colorbar": {
             "outlinewidth": 0,
             "ticks": ""
            },
            "colorscale": [
             [
              0,
              "#0d0887"
             ],
             [
              0.1111111111111111,
              "#46039f"
             ],
             [
              0.2222222222222222,
              "#7201a8"
             ],
             [
              0.3333333333333333,
              "#9c179e"
             ],
             [
              0.4444444444444444,
              "#bd3786"
             ],
             [
              0.5555555555555556,
              "#d8576b"
             ],
             [
              0.6666666666666666,
              "#ed7953"
             ],
             [
              0.7777777777777778,
              "#fb9f3a"
             ],
             [
              0.8888888888888888,
              "#fdca26"
             ],
             [
              1,
              "#f0f921"
             ]
            ],
            "type": "surface"
           }
          ],
          "table": [
           {
            "cells": {
             "fill": {
              "color": "#EBF0F8"
             },
             "line": {
              "color": "white"
             }
            },
            "header": {
             "fill": {
              "color": "#C8D4E3"
             },
             "line": {
              "color": "white"
             }
            },
            "type": "table"
           }
          ]
         },
         "layout": {
          "annotationdefaults": {
           "arrowcolor": "#2a3f5f",
           "arrowhead": 0,
           "arrowwidth": 1
          },
          "autotypenumbers": "strict",
          "coloraxis": {
           "colorbar": {
            "outlinewidth": 0,
            "ticks": ""
           }
          },
          "colorscale": {
           "diverging": [
            [
             0,
             "#8e0152"
            ],
            [
             0.1,
             "#c51b7d"
            ],
            [
             0.2,
             "#de77ae"
            ],
            [
             0.3,
             "#f1b6da"
            ],
            [
             0.4,
             "#fde0ef"
            ],
            [
             0.5,
             "#f7f7f7"
            ],
            [
             0.6,
             "#e6f5d0"
            ],
            [
             0.7,
             "#b8e186"
            ],
            [
             0.8,
             "#7fbc41"
            ],
            [
             0.9,
             "#4d9221"
            ],
            [
             1,
             "#276419"
            ]
           ],
           "sequential": [
            [
             0,
             "#0d0887"
            ],
            [
             0.1111111111111111,
             "#46039f"
            ],
            [
             0.2222222222222222,
             "#7201a8"
            ],
            [
             0.3333333333333333,
             "#9c179e"
            ],
            [
             0.4444444444444444,
             "#bd3786"
            ],
            [
             0.5555555555555556,
             "#d8576b"
            ],
            [
             0.6666666666666666,
             "#ed7953"
            ],
            [
             0.7777777777777778,
             "#fb9f3a"
            ],
            [
             0.8888888888888888,
             "#fdca26"
            ],
            [
             1,
             "#f0f921"
            ]
           ],
           "sequentialminus": [
            [
             0,
             "#0d0887"
            ],
            [
             0.1111111111111111,
             "#46039f"
            ],
            [
             0.2222222222222222,
             "#7201a8"
            ],
            [
             0.3333333333333333,
             "#9c179e"
            ],
            [
             0.4444444444444444,
             "#bd3786"
            ],
            [
             0.5555555555555556,
             "#d8576b"
            ],
            [
             0.6666666666666666,
             "#ed7953"
            ],
            [
             0.7777777777777778,
             "#fb9f3a"
            ],
            [
             0.8888888888888888,
             "#fdca26"
            ],
            [
             1,
             "#f0f921"
            ]
           ]
          },
          "colorway": [
           "#636efa",
           "#EF553B",
           "#00cc96",
           "#ab63fa",
           "#FFA15A",
           "#19d3f3",
           "#FF6692",
           "#B6E880",
           "#FF97FF",
           "#FECB52"
          ],
          "font": {
           "color": "#2a3f5f"
          },
          "geo": {
           "bgcolor": "white",
           "lakecolor": "white",
           "landcolor": "white",
           "showlakes": true,
           "showland": true,
           "subunitcolor": "#C8D4E3"
          },
          "hoverlabel": {
           "align": "left"
          },
          "hovermode": "closest",
          "mapbox": {
           "style": "light"
          },
          "paper_bgcolor": "white",
          "plot_bgcolor": "white",
          "polar": {
           "angularaxis": {
            "gridcolor": "#EBF0F8",
            "linecolor": "#EBF0F8",
            "ticks": ""
           },
           "bgcolor": "white",
           "radialaxis": {
            "gridcolor": "#EBF0F8",
            "linecolor": "#EBF0F8",
            "ticks": ""
           }
          },
          "scene": {
           "xaxis": {
            "backgroundcolor": "white",
            "gridcolor": "#DFE8F3",
            "gridwidth": 2,
            "linecolor": "#EBF0F8",
            "showbackground": true,
            "ticks": "",
            "zerolinecolor": "#EBF0F8"
           },
           "yaxis": {
            "backgroundcolor": "white",
            "gridcolor": "#DFE8F3",
            "gridwidth": 2,
            "linecolor": "#EBF0F8",
            "showbackground": true,
            "ticks": "",
            "zerolinecolor": "#EBF0F8"
           },
           "zaxis": {
            "backgroundcolor": "white",
            "gridcolor": "#DFE8F3",
            "gridwidth": 2,
            "linecolor": "#EBF0F8",
            "showbackground": true,
            "ticks": "",
            "zerolinecolor": "#EBF0F8"
           }
          },
          "shapedefaults": {
           "line": {
            "color": "#2a3f5f"
           }
          },
          "ternary": {
           "aaxis": {
            "gridcolor": "#DFE8F3",
            "linecolor": "#A2B1C6",
            "ticks": ""
           },
           "baxis": {
            "gridcolor": "#DFE8F3",
            "linecolor": "#A2B1C6",
            "ticks": ""
           },
           "bgcolor": "white",
           "caxis": {
            "gridcolor": "#DFE8F3",
            "linecolor": "#A2B1C6",
            "ticks": ""
           }
          },
          "title": {
           "x": 0.05
          },
          "xaxis": {
           "automargin": true,
           "gridcolor": "#EBF0F8",
           "linecolor": "#EBF0F8",
           "ticks": "",
           "title": {
            "standoff": 15
           },
           "zerolinecolor": "#EBF0F8",
           "zerolinewidth": 2
          },
          "yaxis": {
           "automargin": true,
           "gridcolor": "#EBF0F8",
           "linecolor": "#EBF0F8",
           "ticks": "",
           "title": {
            "standoff": 15
           },
           "zerolinecolor": "#EBF0F8",
           "zerolinewidth": 2
          }
         }
        },
        "title": {
         "text": "Skill Demand Distribution"
        },
        "xaxis": {
         "anchor": "y",
         "domain": [
          0,
          1
         ],
         "title": {
          "text": "Number of Jobs"
         }
        },
        "yaxis": {
         "anchor": "x",
         "domain": [
          0,
          1
         ],
         "tickmode": "linear",
         "title": {
          "text": ""
         }
        }
       }
      }
     },
     "metadata": {},
     "output_type": "display_data"
    }
   ],
   "source": [
    "# show skills highly sought after by companies \n",
    "# tech_skills is a list of str skills e.g. 'R', 'Python' etc\n",
    "skill_counts = ds_us_df[tech_skills].sum(axis=0).sort_values().to_frame(name='count')\n",
    "\n",
    "\n",
    "# Plot the horizontal bar chart\n",
    "fig = px.bar(skill_counts, \n",
    "             x='count', \n",
    "             y=skill_counts.index, \n",
    "             orientation='h', \n",
    "             color='count',\n",
    "             color_continuous_scale=\"sunsetdark\",\n",
    "             title='Skill Demand Distribution',\n",
    "             text='count')\n",
    "\n",
    "# Update layout for better readability\n",
    "fig.update_layout(xaxis_title='Number of Jobs',\n",
    "                  yaxis_title='',\n",
    "                  yaxis=dict(tickmode='linear'),\n",
    "                  template='plotly_white',\n",
    "                  margin_pad=5,\n",
    "                  coloraxis_showscale=False,\n",
    "                  margin=dict(l=20, r=20, t=40, b=1)  )\n",
    "\n",
    "# Show the plot\n",
    "fig.show()"
   ]
  },
  {
   "cell_type": "markdown",
   "metadata": {},
   "source": [
    "* We observe that the top three skills highly demanded by the market are **R**, **Python**, and **SQL**.\n",
    "* Possessing these skills will significantly enhance candidate chances of getting job interviews and securing positions in the field."
   ]
  },
  {
   "cell_type": "markdown",
   "metadata": {},
   "source": [
    "### Exploring Industry Distribution among the Job Offers"
   ]
  },
  {
   "cell_type": "code",
   "execution_count": 409,
   "metadata": {},
   "outputs": [
    {
     "data": {
      "application/vnd.plotly.v1+json": {
       "config": {
        "plotlyServerURL": "https://plot.ly"
       },
       "data": [
        {
         "alignmentgroup": "True",
         "hovertemplate": "count=%{marker.color}<br>Industry=%{y}<extra></extra>",
         "legendgroup": "",
         "marker": {
          "color": [
           1,
           3,
           3,
           3,
           4,
           7,
           9,
           12,
           13,
           31,
           32,
           47,
           64,
           117,
           128
          ],
          "coloraxis": "coloraxis",
          "pattern": {
           "shape": ""
          }
         },
         "name": "",
         "offsetgroup": "",
         "orientation": "h",
         "showlegend": false,
         "text": [
          1,
          3,
          3,
          3,
          4,
          7,
          9,
          12,
          13,
          31,
          32,
          47,
          64,
          117,
          128
         ],
         "textposition": "auto",
         "type": "bar",
         "x": [
          1,
          3,
          3,
          3,
          4,
          7,
          9,
          12,
          13,
          31,
          32,
          47,
          64,
          117,
          128
         ],
         "xaxis": "x",
         "y": [
          "Media & Communications",
          "Real Estate & Construction",
          "Hospitality",
          "Distribution & Wholesale",
          "Transportation & Logistics",
          "Retail",
          "Energy & Utilities",
          "Government & Education",
          "Manufacturing",
          "Space",
          "Finance & Insurance",
          "Healthcare & Pharmaceuticals",
          "Other",
          "Technology",
          "Consulting & Services"
         ],
         "yaxis": "y"
        }
       ],
       "layout": {
        "barmode": "relative",
        "coloraxis": {
         "colorbar": {
          "title": {
           "text": "count"
          }
         },
         "colorscale": [
          [
           0,
           "rgb(252, 222, 156)"
          ],
          [
           0.16666666666666666,
           "rgb(250, 164, 118)"
          ],
          [
           0.3333333333333333,
           "rgb(240, 116, 110)"
          ],
          [
           0.5,
           "rgb(227, 79, 111)"
          ],
          [
           0.6666666666666666,
           "rgb(220, 57, 119)"
          ],
          [
           0.8333333333333334,
           "rgb(185, 37, 122)"
          ],
          [
           1,
           "rgb(124, 29, 111)"
          ]
         ],
         "showscale": false
        },
        "legend": {
         "tracegroupgap": 0
        },
        "margin": {
         "b": 1,
         "l": 20,
         "pad": 5,
         "r": 20,
         "t": 40
        },
        "template": {
         "data": {
          "bar": [
           {
            "error_x": {
             "color": "#2a3f5f"
            },
            "error_y": {
             "color": "#2a3f5f"
            },
            "marker": {
             "line": {
              "color": "white",
              "width": 0.5
             },
             "pattern": {
              "fillmode": "overlay",
              "size": 10,
              "solidity": 0.2
             }
            },
            "type": "bar"
           }
          ],
          "barpolar": [
           {
            "marker": {
             "line": {
              "color": "white",
              "width": 0.5
             },
             "pattern": {
              "fillmode": "overlay",
              "size": 10,
              "solidity": 0.2
             }
            },
            "type": "barpolar"
           }
          ],
          "carpet": [
           {
            "aaxis": {
             "endlinecolor": "#2a3f5f",
             "gridcolor": "#C8D4E3",
             "linecolor": "#C8D4E3",
             "minorgridcolor": "#C8D4E3",
             "startlinecolor": "#2a3f5f"
            },
            "baxis": {
             "endlinecolor": "#2a3f5f",
             "gridcolor": "#C8D4E3",
             "linecolor": "#C8D4E3",
             "minorgridcolor": "#C8D4E3",
             "startlinecolor": "#2a3f5f"
            },
            "type": "carpet"
           }
          ],
          "choropleth": [
           {
            "colorbar": {
             "outlinewidth": 0,
             "ticks": ""
            },
            "type": "choropleth"
           }
          ],
          "contour": [
           {
            "colorbar": {
             "outlinewidth": 0,
             "ticks": ""
            },
            "colorscale": [
             [
              0,
              "#0d0887"
             ],
             [
              0.1111111111111111,
              "#46039f"
             ],
             [
              0.2222222222222222,
              "#7201a8"
             ],
             [
              0.3333333333333333,
              "#9c179e"
             ],
             [
              0.4444444444444444,
              "#bd3786"
             ],
             [
              0.5555555555555556,
              "#d8576b"
             ],
             [
              0.6666666666666666,
              "#ed7953"
             ],
             [
              0.7777777777777778,
              "#fb9f3a"
             ],
             [
              0.8888888888888888,
              "#fdca26"
             ],
             [
              1,
              "#f0f921"
             ]
            ],
            "type": "contour"
           }
          ],
          "contourcarpet": [
           {
            "colorbar": {
             "outlinewidth": 0,
             "ticks": ""
            },
            "type": "contourcarpet"
           }
          ],
          "heatmap": [
           {
            "colorbar": {
             "outlinewidth": 0,
             "ticks": ""
            },
            "colorscale": [
             [
              0,
              "#0d0887"
             ],
             [
              0.1111111111111111,
              "#46039f"
             ],
             [
              0.2222222222222222,
              "#7201a8"
             ],
             [
              0.3333333333333333,
              "#9c179e"
             ],
             [
              0.4444444444444444,
              "#bd3786"
             ],
             [
              0.5555555555555556,
              "#d8576b"
             ],
             [
              0.6666666666666666,
              "#ed7953"
             ],
             [
              0.7777777777777778,
              "#fb9f3a"
             ],
             [
              0.8888888888888888,
              "#fdca26"
             ],
             [
              1,
              "#f0f921"
             ]
            ],
            "type": "heatmap"
           }
          ],
          "heatmapgl": [
           {
            "colorbar": {
             "outlinewidth": 0,
             "ticks": ""
            },
            "colorscale": [
             [
              0,
              "#0d0887"
             ],
             [
              0.1111111111111111,
              "#46039f"
             ],
             [
              0.2222222222222222,
              "#7201a8"
             ],
             [
              0.3333333333333333,
              "#9c179e"
             ],
             [
              0.4444444444444444,
              "#bd3786"
             ],
             [
              0.5555555555555556,
              "#d8576b"
             ],
             [
              0.6666666666666666,
              "#ed7953"
             ],
             [
              0.7777777777777778,
              "#fb9f3a"
             ],
             [
              0.8888888888888888,
              "#fdca26"
             ],
             [
              1,
              "#f0f921"
             ]
            ],
            "type": "heatmapgl"
           }
          ],
          "histogram": [
           {
            "marker": {
             "pattern": {
              "fillmode": "overlay",
              "size": 10,
              "solidity": 0.2
             }
            },
            "type": "histogram"
           }
          ],
          "histogram2d": [
           {
            "colorbar": {
             "outlinewidth": 0,
             "ticks": ""
            },
            "colorscale": [
             [
              0,
              "#0d0887"
             ],
             [
              0.1111111111111111,
              "#46039f"
             ],
             [
              0.2222222222222222,
              "#7201a8"
             ],
             [
              0.3333333333333333,
              "#9c179e"
             ],
             [
              0.4444444444444444,
              "#bd3786"
             ],
             [
              0.5555555555555556,
              "#d8576b"
             ],
             [
              0.6666666666666666,
              "#ed7953"
             ],
             [
              0.7777777777777778,
              "#fb9f3a"
             ],
             [
              0.8888888888888888,
              "#fdca26"
             ],
             [
              1,
              "#f0f921"
             ]
            ],
            "type": "histogram2d"
           }
          ],
          "histogram2dcontour": [
           {
            "colorbar": {
             "outlinewidth": 0,
             "ticks": ""
            },
            "colorscale": [
             [
              0,
              "#0d0887"
             ],
             [
              0.1111111111111111,
              "#46039f"
             ],
             [
              0.2222222222222222,
              "#7201a8"
             ],
             [
              0.3333333333333333,
              "#9c179e"
             ],
             [
              0.4444444444444444,
              "#bd3786"
             ],
             [
              0.5555555555555556,
              "#d8576b"
             ],
             [
              0.6666666666666666,
              "#ed7953"
             ],
             [
              0.7777777777777778,
              "#fb9f3a"
             ],
             [
              0.8888888888888888,
              "#fdca26"
             ],
             [
              1,
              "#f0f921"
             ]
            ],
            "type": "histogram2dcontour"
           }
          ],
          "mesh3d": [
           {
            "colorbar": {
             "outlinewidth": 0,
             "ticks": ""
            },
            "type": "mesh3d"
           }
          ],
          "parcoords": [
           {
            "line": {
             "colorbar": {
              "outlinewidth": 0,
              "ticks": ""
             }
            },
            "type": "parcoords"
           }
          ],
          "pie": [
           {
            "automargin": true,
            "type": "pie"
           }
          ],
          "scatter": [
           {
            "fillpattern": {
             "fillmode": "overlay",
             "size": 10,
             "solidity": 0.2
            },
            "type": "scatter"
           }
          ],
          "scatter3d": [
           {
            "line": {
             "colorbar": {
              "outlinewidth": 0,
              "ticks": ""
             }
            },
            "marker": {
             "colorbar": {
              "outlinewidth": 0,
              "ticks": ""
             }
            },
            "type": "scatter3d"
           }
          ],
          "scattercarpet": [
           {
            "marker": {
             "colorbar": {
              "outlinewidth": 0,
              "ticks": ""
             }
            },
            "type": "scattercarpet"
           }
          ],
          "scattergeo": [
           {
            "marker": {
             "colorbar": {
              "outlinewidth": 0,
              "ticks": ""
             }
            },
            "type": "scattergeo"
           }
          ],
          "scattergl": [
           {
            "marker": {
             "colorbar": {
              "outlinewidth": 0,
              "ticks": ""
             }
            },
            "type": "scattergl"
           }
          ],
          "scattermapbox": [
           {
            "marker": {
             "colorbar": {
              "outlinewidth": 0,
              "ticks": ""
             }
            },
            "type": "scattermapbox"
           }
          ],
          "scatterpolar": [
           {
            "marker": {
             "colorbar": {
              "outlinewidth": 0,
              "ticks": ""
             }
            },
            "type": "scatterpolar"
           }
          ],
          "scatterpolargl": [
           {
            "marker": {
             "colorbar": {
              "outlinewidth": 0,
              "ticks": ""
             }
            },
            "type": "scatterpolargl"
           }
          ],
          "scatterternary": [
           {
            "marker": {
             "colorbar": {
              "outlinewidth": 0,
              "ticks": ""
             }
            },
            "type": "scatterternary"
           }
          ],
          "surface": [
           {
            "colorbar": {
             "outlinewidth": 0,
             "ticks": ""
            },
            "colorscale": [
             [
              0,
              "#0d0887"
             ],
             [
              0.1111111111111111,
              "#46039f"
             ],
             [
              0.2222222222222222,
              "#7201a8"
             ],
             [
              0.3333333333333333,
              "#9c179e"
             ],
             [
              0.4444444444444444,
              "#bd3786"
             ],
             [
              0.5555555555555556,
              "#d8576b"
             ],
             [
              0.6666666666666666,
              "#ed7953"
             ],
             [
              0.7777777777777778,
              "#fb9f3a"
             ],
             [
              0.8888888888888888,
              "#fdca26"
             ],
             [
              1,
              "#f0f921"
             ]
            ],
            "type": "surface"
           }
          ],
          "table": [
           {
            "cells": {
             "fill": {
              "color": "#EBF0F8"
             },
             "line": {
              "color": "white"
             }
            },
            "header": {
             "fill": {
              "color": "#C8D4E3"
             },
             "line": {
              "color": "white"
             }
            },
            "type": "table"
           }
          ]
         },
         "layout": {
          "annotationdefaults": {
           "arrowcolor": "#2a3f5f",
           "arrowhead": 0,
           "arrowwidth": 1
          },
          "autotypenumbers": "strict",
          "coloraxis": {
           "colorbar": {
            "outlinewidth": 0,
            "ticks": ""
           }
          },
          "colorscale": {
           "diverging": [
            [
             0,
             "#8e0152"
            ],
            [
             0.1,
             "#c51b7d"
            ],
            [
             0.2,
             "#de77ae"
            ],
            [
             0.3,
             "#f1b6da"
            ],
            [
             0.4,
             "#fde0ef"
            ],
            [
             0.5,
             "#f7f7f7"
            ],
            [
             0.6,
             "#e6f5d0"
            ],
            [
             0.7,
             "#b8e186"
            ],
            [
             0.8,
             "#7fbc41"
            ],
            [
             0.9,
             "#4d9221"
            ],
            [
             1,
             "#276419"
            ]
           ],
           "sequential": [
            [
             0,
             "#0d0887"
            ],
            [
             0.1111111111111111,
             "#46039f"
            ],
            [
             0.2222222222222222,
             "#7201a8"
            ],
            [
             0.3333333333333333,
             "#9c179e"
            ],
            [
             0.4444444444444444,
             "#bd3786"
            ],
            [
             0.5555555555555556,
             "#d8576b"
            ],
            [
             0.6666666666666666,
             "#ed7953"
            ],
            [
             0.7777777777777778,
             "#fb9f3a"
            ],
            [
             0.8888888888888888,
             "#fdca26"
            ],
            [
             1,
             "#f0f921"
            ]
           ],
           "sequentialminus": [
            [
             0,
             "#0d0887"
            ],
            [
             0.1111111111111111,
             "#46039f"
            ],
            [
             0.2222222222222222,
             "#7201a8"
            ],
            [
             0.3333333333333333,
             "#9c179e"
            ],
            [
             0.4444444444444444,
             "#bd3786"
            ],
            [
             0.5555555555555556,
             "#d8576b"
            ],
            [
             0.6666666666666666,
             "#ed7953"
            ],
            [
             0.7777777777777778,
             "#fb9f3a"
            ],
            [
             0.8888888888888888,
             "#fdca26"
            ],
            [
             1,
             "#f0f921"
            ]
           ]
          },
          "colorway": [
           "#636efa",
           "#EF553B",
           "#00cc96",
           "#ab63fa",
           "#FFA15A",
           "#19d3f3",
           "#FF6692",
           "#B6E880",
           "#FF97FF",
           "#FECB52"
          ],
          "font": {
           "color": "#2a3f5f"
          },
          "geo": {
           "bgcolor": "white",
           "lakecolor": "white",
           "landcolor": "white",
           "showlakes": true,
           "showland": true,
           "subunitcolor": "#C8D4E3"
          },
          "hoverlabel": {
           "align": "left"
          },
          "hovermode": "closest",
          "mapbox": {
           "style": "light"
          },
          "paper_bgcolor": "white",
          "plot_bgcolor": "white",
          "polar": {
           "angularaxis": {
            "gridcolor": "#EBF0F8",
            "linecolor": "#EBF0F8",
            "ticks": ""
           },
           "bgcolor": "white",
           "radialaxis": {
            "gridcolor": "#EBF0F8",
            "linecolor": "#EBF0F8",
            "ticks": ""
           }
          },
          "scene": {
           "xaxis": {
            "backgroundcolor": "white",
            "gridcolor": "#DFE8F3",
            "gridwidth": 2,
            "linecolor": "#EBF0F8",
            "showbackground": true,
            "ticks": "",
            "zerolinecolor": "#EBF0F8"
           },
           "yaxis": {
            "backgroundcolor": "white",
            "gridcolor": "#DFE8F3",
            "gridwidth": 2,
            "linecolor": "#EBF0F8",
            "showbackground": true,
            "ticks": "",
            "zerolinecolor": "#EBF0F8"
           },
           "zaxis": {
            "backgroundcolor": "white",
            "gridcolor": "#DFE8F3",
            "gridwidth": 2,
            "linecolor": "#EBF0F8",
            "showbackground": true,
            "ticks": "",
            "zerolinecolor": "#EBF0F8"
           }
          },
          "shapedefaults": {
           "line": {
            "color": "#2a3f5f"
           }
          },
          "ternary": {
           "aaxis": {
            "gridcolor": "#DFE8F3",
            "linecolor": "#A2B1C6",
            "ticks": ""
           },
           "baxis": {
            "gridcolor": "#DFE8F3",
            "linecolor": "#A2B1C6",
            "ticks": ""
           },
           "bgcolor": "white",
           "caxis": {
            "gridcolor": "#DFE8F3",
            "linecolor": "#A2B1C6",
            "ticks": ""
           }
          },
          "title": {
           "x": 0.05
          },
          "xaxis": {
           "automargin": true,
           "gridcolor": "#EBF0F8",
           "linecolor": "#EBF0F8",
           "ticks": "",
           "title": {
            "standoff": 15
           },
           "zerolinecolor": "#EBF0F8",
           "zerolinewidth": 2
          },
          "yaxis": {
           "automargin": true,
           "gridcolor": "#EBF0F8",
           "linecolor": "#EBF0F8",
           "ticks": "",
           "title": {
            "standoff": 15
           },
           "zerolinecolor": "#EBF0F8",
           "zerolinewidth": 2
          }
         }
        },
        "title": {
         "text": "Jobs Distribution per Industry"
        },
        "xaxis": {
         "anchor": "y",
         "domain": [
          0,
          1
         ],
         "title": {
          "text": "Number of Jobs"
         }
        },
        "yaxis": {
         "anchor": "x",
         "domain": [
          0,
          1
         ],
         "tickmode": "linear",
         "title": {
          "text": ""
         }
        }
       }
      }
     },
     "metadata": {},
     "output_type": "display_data"
    }
   ],
   "source": [
    "# Show Industry Distribution\n",
    "\n",
    "industry_counts = ds_us_df['Industry'].value_counts().sort_values().to_frame(name='count')\n",
    "\n",
    "# Plot the horizontal bar chart\n",
    "fig = px.bar(industry_counts, \n",
    "             x='count', \n",
    "             y=industry_counts.index, \n",
    "             orientation='h', \n",
    "             color='count',\n",
    "             color_continuous_scale=\"sunsetdark\",\n",
    "             title='Jobs Distribution per Industry',\n",
    "             #labels={'Number of Jobs':'Number of Jobs', 'State':'State'},\n",
    "             text='count')\n",
    "\n",
    "# Update layout for better readability\n",
    "fig.update_layout(xaxis_title='Number of Jobs',\n",
    "                  yaxis_title='',\n",
    "                  yaxis=dict(tickmode='linear'),\n",
    "                  template='plotly_white',\n",
    "                  margin_pad=5,\n",
    "                  coloraxis_showscale=False,\n",
    "                  margin=dict(l=20, r=20, t=40, b=1)  )\n",
    "\n",
    "# Show the plot\n",
    "fig.show()"
   ]
  },
  {
   "cell_type": "markdown",
   "metadata": {},
   "source": [
    "* We observe that most of the jobs are in **Consulting & Services** and **Technology**. It is worth noting that there are significant job offers in an unspecified industry (Other).\n",
    "* Other industries that have considerable job offers are **Healthcare & Pharmaceuticals**, **Finance & Insurance**, and **Space**."
   ]
  },
  {
   "cell_type": "markdown",
   "metadata": {},
   "source": [
    "### Exploring Salary Distribution of all the Job Offers"
   ]
  },
  {
   "cell_type": "code",
   "execution_count": 410,
   "metadata": {},
   "outputs": [],
   "source": [
    "# Show Distribution of salaries \n",
    "salaries_range = ['Max_Salary_Estimate','Min_Salary_Estimate']\n",
    "all_salaries = pd.concat([ds_us_df[salaries_range[1]], ds_us_df[salaries_range[0]]] ).to_frame('salary')\n"
   ]
  },
  {
   "cell_type": "code",
   "execution_count": 411,
   "metadata": {},
   "outputs": [
    {
     "data": {
      "application/vnd.plotly.v1+json": {
       "config": {
        "plotlyServerURL": "https://plot.ly"
       },
       "data": [
        {
         "alignmentgroup": "True",
         "bingroup": "x",
         "hovertemplate": "salary=%{x}<br>count=%{y}<extra></extra>",
         "legendgroup": "",
         "marker": {
          "color": "purple",
          "pattern": {
           "shape": ""
          }
         },
         "name": "",
         "nbinsx": 30,
         "offsetgroup": "",
         "orientation": "v",
         "showlegend": false,
         "type": "histogram",
         "x": [
          137,
          137,
          137,
          137,
          137,
          137,
          137,
          137,
          137,
          137,
          137,
          137,
          137,
          137,
          137,
          137,
          137,
          137,
          137,
          137,
          137,
          137,
          137,
          137,
          137,
          75,
          75,
          75,
          75,
          75,
          75,
          75,
          75,
          75,
          75,
          75,
          75,
          75,
          75,
          75,
          75,
          75,
          75,
          75,
          79,
          79,
          79,
          79,
          79,
          79,
          79,
          79,
          79,
          79,
          79,
          79,
          79,
          79,
          79,
          79,
          79,
          79,
          79,
          79,
          99,
          99,
          99,
          99,
          99,
          99,
          99,
          99,
          99,
          99,
          99,
          99,
          99,
          99,
          99,
          99,
          99,
          99,
          99,
          90,
          90,
          90,
          90,
          90,
          90,
          90,
          90,
          90,
          90,
          90,
          90,
          101,
          101,
          101,
          101,
          101,
          101,
          101,
          101,
          101,
          56,
          56,
          56,
          56,
          56,
          56,
          56,
          56,
          56,
          56,
          79,
          79,
          79,
          79,
          79,
          79,
          79,
          79,
          79,
          79,
          79,
          71,
          71,
          71,
          71,
          71,
          71,
          71,
          71,
          71,
          71,
          71,
          71,
          71,
          90,
          90,
          90,
          90,
          90,
          90,
          90,
          90,
          90,
          90,
          90,
          90,
          90,
          90,
          90,
          90,
          91,
          91,
          91,
          91,
          91,
          91,
          91,
          91,
          91,
          91,
          91,
          91,
          91,
          91,
          91,
          91,
          91,
          91,
          141,
          141,
          141,
          141,
          141,
          141,
          141,
          141,
          141,
          141,
          141,
          141,
          141,
          141,
          141,
          141,
          141,
          141,
          141,
          145,
          145,
          145,
          145,
          145,
          145,
          145,
          145,
          145,
          145,
          145,
          145,
          145,
          145,
          145,
          79,
          79,
          79,
          79,
          79,
          79,
          79,
          79,
          79,
          79,
          79,
          79,
          79,
          79,
          122,
          122,
          122,
          122,
          122,
          122,
          122,
          122,
          122,
          122,
          122,
          122,
          122,
          122,
          122,
          122,
          122,
          112,
          112,
          112,
          112,
          112,
          112,
          112,
          112,
          112,
          112,
          112,
          112,
          112,
          112,
          110,
          110,
          110,
          110,
          110,
          110,
          110,
          110,
          110,
          124,
          124,
          124,
          124,
          124,
          124,
          124,
          124,
          124,
          124,
          124,
          124,
          124,
          124,
          124,
          124,
          124,
          124,
          124,
          124,
          79,
          79,
          79,
          79,
          79,
          79,
          79,
          79,
          79,
          79,
          79,
          79,
          79,
          79,
          79,
          79,
          79,
          69,
          69,
          69,
          69,
          69,
          69,
          69,
          69,
          69,
          69,
          69,
          69,
          69,
          69,
          69,
          69,
          69,
          69,
          69,
          31,
          31,
          31,
          31,
          31,
          31,
          31,
          31,
          31,
          31,
          31,
          31,
          31,
          31,
          31,
          95,
          95,
          95,
          95,
          95,
          95,
          95,
          95,
          95,
          95,
          95,
          95,
          95,
          95,
          95,
          95,
          95,
          95,
          95,
          95,
          212,
          212,
          212,
          212,
          212,
          212,
          212,
          212,
          212,
          212,
          212,
          212,
          212,
          212,
          212,
          212,
          66,
          66,
          66,
          66,
          66,
          66,
          66,
          66,
          66,
          66,
          66,
          66,
          66,
          66,
          128,
          128,
          128,
          128,
          128,
          128,
          128,
          128,
          128,
          128,
          128,
          128,
          128,
          138,
          138,
          138,
          138,
          138,
          80,
          80,
          80,
          80,
          80,
          80,
          80,
          80,
          80,
          80,
          80,
          80,
          80,
          80,
          80,
          80,
          80,
          80,
          80,
          87,
          87,
          87,
          87,
          87,
          87,
          87,
          87,
          87,
          87,
          87,
          87,
          87,
          87,
          87,
          87,
          87,
          87,
          87,
          92,
          92,
          92,
          92,
          92,
          92,
          92,
          92,
          92,
          92,
          92,
          92,
          92,
          92,
          92,
          92,
          92,
          105,
          105,
          105,
          105,
          105,
          105,
          105,
          105,
          105,
          105,
          105,
          105,
          105,
          105,
          105,
          105,
          105,
          105,
          105,
          105,
          171,
          171,
          171,
          171,
          171,
          171,
          171,
          171,
          171,
          171,
          171,
          171,
          171,
          171,
          171,
          171,
          171,
          171,
          171,
          171,
          171,
          171,
          171,
          171,
          171,
          131,
          131,
          131,
          131,
          131,
          131,
          131,
          131,
          131,
          131,
          131,
          131,
          131,
          131,
          131,
          131,
          131,
          131,
          131,
          131,
          131,
          131,
          131,
          131,
          131,
          131,
          131,
          131,
          131,
          131,
          131,
          131,
          131,
          131,
          131,
          131,
          131,
          131,
          131,
          132,
          132,
          132,
          132,
          132,
          132,
          132,
          132,
          132,
          132,
          132,
          132,
          132,
          132,
          132,
          132,
          132,
          132,
          132,
          109,
          109,
          109,
          109,
          109,
          109,
          109,
          109,
          109,
          109,
          109,
          109,
          165,
          165,
          165,
          165,
          165,
          165,
          165,
          165,
          165,
          97,
          97,
          97,
          97,
          97,
          97,
          97,
          97,
          97,
          97,
          106,
          106,
          106,
          106,
          106,
          106,
          106,
          106,
          106,
          106,
          106,
          123,
          123,
          123,
          123,
          123,
          123,
          123,
          123,
          123,
          123,
          123,
          123,
          123,
          124,
          124,
          124,
          124,
          124,
          124,
          124,
          124,
          124,
          124,
          124,
          124,
          124,
          124,
          124,
          124,
          150,
          150,
          150,
          150,
          150,
          150,
          150,
          150,
          150,
          150,
          150,
          150,
          150,
          150,
          150,
          150,
          150,
          150,
          225,
          225,
          225,
          225,
          225,
          225,
          225,
          225,
          225,
          225,
          225,
          225,
          225,
          225,
          225,
          225,
          225,
          225,
          225,
          225,
          225,
          225,
          225,
          225,
          225,
          225,
          225,
          225,
          225,
          225,
          225,
          225,
          225,
          225,
          147,
          147,
          147,
          147,
          147,
          147,
          147,
          147,
          147,
          147,
          147,
          147,
          147,
          147,
          146,
          146,
          146,
          146,
          146,
          146,
          146,
          146,
          146,
          146,
          146,
          146,
          146,
          146,
          146,
          146,
          146,
          116,
          116,
          116,
          116,
          116,
          116,
          116,
          116,
          116,
          116,
          116,
          116,
          116,
          116,
          163,
          163,
          163,
          163,
          163,
          163,
          163,
          163,
          163,
          198,
          198,
          198,
          198,
          198,
          198,
          198,
          198,
          198,
          198,
          198,
          198,
          198,
          198,
          198,
          198,
          198,
          198,
          198,
          198,
          133,
          133,
          133,
          133,
          133,
          133,
          133,
          133,
          133,
          133,
          133,
          133,
          133,
          133,
          133,
          133,
          133,
          116,
          116,
          116,
          116,
          116,
          116,
          116,
          116,
          116,
          116,
          116,
          116,
          116,
          116,
          116,
          116,
          116,
          116,
          116,
          56,
          56,
          56,
          56,
          56,
          56,
          56,
          56,
          56,
          56,
          56,
          56,
          56,
          56,
          56,
          119,
          119,
          119,
          119,
          119,
          119,
          119,
          119,
          119,
          119,
          119,
          119,
          119,
          119,
          119,
          119,
          119,
          119,
          119,
          119,
          331,
          331,
          331,
          331,
          331,
          331,
          331,
          331,
          331,
          331,
          331,
          331,
          331,
          331,
          331,
          331,
          112,
          112,
          112,
          112,
          112,
          112,
          112,
          112,
          112,
          112,
          112,
          112,
          112,
          112,
          201,
          201,
          201,
          201,
          201,
          201,
          201,
          201,
          201,
          201,
          201,
          201,
          201,
          158,
          158,
          158,
          158,
          158,
          132,
          132,
          132,
          132,
          132,
          132,
          132,
          132,
          132,
          132,
          132,
          132,
          132,
          132,
          132,
          132,
          132,
          132,
          132,
          141,
          141,
          141,
          141,
          141,
          141,
          141,
          141,
          141,
          141,
          141,
          141,
          141,
          141,
          141,
          141,
          141,
          141,
          141,
          155,
          155,
          155,
          155,
          155,
          155,
          155,
          155,
          155,
          155,
          155,
          155,
          155,
          155,
          155,
          155,
          155,
          167,
          167,
          167,
          167,
          167,
          167,
          167,
          167,
          167,
          167,
          167,
          167,
          167,
          167,
          167,
          167,
          167,
          167,
          167,
          167
         ],
         "xaxis": "x",
         "yaxis": "y"
        }
       ],
       "layout": {
        "bargap": 0.1,
        "barmode": "relative",
        "coloraxis": {
         "showscale": false
        },
        "legend": {
         "tracegroupgap": 0
        },
        "margin": {
         "b": 10,
         "l": 20,
         "pad": 5,
         "r": 20,
         "t": 40
        },
        "template": {
         "data": {
          "bar": [
           {
            "error_x": {
             "color": "#2a3f5f"
            },
            "error_y": {
             "color": "#2a3f5f"
            },
            "marker": {
             "line": {
              "color": "white",
              "width": 0.5
             },
             "pattern": {
              "fillmode": "overlay",
              "size": 10,
              "solidity": 0.2
             }
            },
            "type": "bar"
           }
          ],
          "barpolar": [
           {
            "marker": {
             "line": {
              "color": "white",
              "width": 0.5
             },
             "pattern": {
              "fillmode": "overlay",
              "size": 10,
              "solidity": 0.2
             }
            },
            "type": "barpolar"
           }
          ],
          "carpet": [
           {
            "aaxis": {
             "endlinecolor": "#2a3f5f",
             "gridcolor": "#C8D4E3",
             "linecolor": "#C8D4E3",
             "minorgridcolor": "#C8D4E3",
             "startlinecolor": "#2a3f5f"
            },
            "baxis": {
             "endlinecolor": "#2a3f5f",
             "gridcolor": "#C8D4E3",
             "linecolor": "#C8D4E3",
             "minorgridcolor": "#C8D4E3",
             "startlinecolor": "#2a3f5f"
            },
            "type": "carpet"
           }
          ],
          "choropleth": [
           {
            "colorbar": {
             "outlinewidth": 0,
             "ticks": ""
            },
            "type": "choropleth"
           }
          ],
          "contour": [
           {
            "colorbar": {
             "outlinewidth": 0,
             "ticks": ""
            },
            "colorscale": [
             [
              0,
              "#0d0887"
             ],
             [
              0.1111111111111111,
              "#46039f"
             ],
             [
              0.2222222222222222,
              "#7201a8"
             ],
             [
              0.3333333333333333,
              "#9c179e"
             ],
             [
              0.4444444444444444,
              "#bd3786"
             ],
             [
              0.5555555555555556,
              "#d8576b"
             ],
             [
              0.6666666666666666,
              "#ed7953"
             ],
             [
              0.7777777777777778,
              "#fb9f3a"
             ],
             [
              0.8888888888888888,
              "#fdca26"
             ],
             [
              1,
              "#f0f921"
             ]
            ],
            "type": "contour"
           }
          ],
          "contourcarpet": [
           {
            "colorbar": {
             "outlinewidth": 0,
             "ticks": ""
            },
            "type": "contourcarpet"
           }
          ],
          "heatmap": [
           {
            "colorbar": {
             "outlinewidth": 0,
             "ticks": ""
            },
            "colorscale": [
             [
              0,
              "#0d0887"
             ],
             [
              0.1111111111111111,
              "#46039f"
             ],
             [
              0.2222222222222222,
              "#7201a8"
             ],
             [
              0.3333333333333333,
              "#9c179e"
             ],
             [
              0.4444444444444444,
              "#bd3786"
             ],
             [
              0.5555555555555556,
              "#d8576b"
             ],
             [
              0.6666666666666666,
              "#ed7953"
             ],
             [
              0.7777777777777778,
              "#fb9f3a"
             ],
             [
              0.8888888888888888,
              "#fdca26"
             ],
             [
              1,
              "#f0f921"
             ]
            ],
            "type": "heatmap"
           }
          ],
          "heatmapgl": [
           {
            "colorbar": {
             "outlinewidth": 0,
             "ticks": ""
            },
            "colorscale": [
             [
              0,
              "#0d0887"
             ],
             [
              0.1111111111111111,
              "#46039f"
             ],
             [
              0.2222222222222222,
              "#7201a8"
             ],
             [
              0.3333333333333333,
              "#9c179e"
             ],
             [
              0.4444444444444444,
              "#bd3786"
             ],
             [
              0.5555555555555556,
              "#d8576b"
             ],
             [
              0.6666666666666666,
              "#ed7953"
             ],
             [
              0.7777777777777778,
              "#fb9f3a"
             ],
             [
              0.8888888888888888,
              "#fdca26"
             ],
             [
              1,
              "#f0f921"
             ]
            ],
            "type": "heatmapgl"
           }
          ],
          "histogram": [
           {
            "marker": {
             "pattern": {
              "fillmode": "overlay",
              "size": 10,
              "solidity": 0.2
             }
            },
            "type": "histogram"
           }
          ],
          "histogram2d": [
           {
            "colorbar": {
             "outlinewidth": 0,
             "ticks": ""
            },
            "colorscale": [
             [
              0,
              "#0d0887"
             ],
             [
              0.1111111111111111,
              "#46039f"
             ],
             [
              0.2222222222222222,
              "#7201a8"
             ],
             [
              0.3333333333333333,
              "#9c179e"
             ],
             [
              0.4444444444444444,
              "#bd3786"
             ],
             [
              0.5555555555555556,
              "#d8576b"
             ],
             [
              0.6666666666666666,
              "#ed7953"
             ],
             [
              0.7777777777777778,
              "#fb9f3a"
             ],
             [
              0.8888888888888888,
              "#fdca26"
             ],
             [
              1,
              "#f0f921"
             ]
            ],
            "type": "histogram2d"
           }
          ],
          "histogram2dcontour": [
           {
            "colorbar": {
             "outlinewidth": 0,
             "ticks": ""
            },
            "colorscale": [
             [
              0,
              "#0d0887"
             ],
             [
              0.1111111111111111,
              "#46039f"
             ],
             [
              0.2222222222222222,
              "#7201a8"
             ],
             [
              0.3333333333333333,
              "#9c179e"
             ],
             [
              0.4444444444444444,
              "#bd3786"
             ],
             [
              0.5555555555555556,
              "#d8576b"
             ],
             [
              0.6666666666666666,
              "#ed7953"
             ],
             [
              0.7777777777777778,
              "#fb9f3a"
             ],
             [
              0.8888888888888888,
              "#fdca26"
             ],
             [
              1,
              "#f0f921"
             ]
            ],
            "type": "histogram2dcontour"
           }
          ],
          "mesh3d": [
           {
            "colorbar": {
             "outlinewidth": 0,
             "ticks": ""
            },
            "type": "mesh3d"
           }
          ],
          "parcoords": [
           {
            "line": {
             "colorbar": {
              "outlinewidth": 0,
              "ticks": ""
             }
            },
            "type": "parcoords"
           }
          ],
          "pie": [
           {
            "automargin": true,
            "type": "pie"
           }
          ],
          "scatter": [
           {
            "fillpattern": {
             "fillmode": "overlay",
             "size": 10,
             "solidity": 0.2
            },
            "type": "scatter"
           }
          ],
          "scatter3d": [
           {
            "line": {
             "colorbar": {
              "outlinewidth": 0,
              "ticks": ""
             }
            },
            "marker": {
             "colorbar": {
              "outlinewidth": 0,
              "ticks": ""
             }
            },
            "type": "scatter3d"
           }
          ],
          "scattercarpet": [
           {
            "marker": {
             "colorbar": {
              "outlinewidth": 0,
              "ticks": ""
             }
            },
            "type": "scattercarpet"
           }
          ],
          "scattergeo": [
           {
            "marker": {
             "colorbar": {
              "outlinewidth": 0,
              "ticks": ""
             }
            },
            "type": "scattergeo"
           }
          ],
          "scattergl": [
           {
            "marker": {
             "colorbar": {
              "outlinewidth": 0,
              "ticks": ""
             }
            },
            "type": "scattergl"
           }
          ],
          "scattermapbox": [
           {
            "marker": {
             "colorbar": {
              "outlinewidth": 0,
              "ticks": ""
             }
            },
            "type": "scattermapbox"
           }
          ],
          "scatterpolar": [
           {
            "marker": {
             "colorbar": {
              "outlinewidth": 0,
              "ticks": ""
             }
            },
            "type": "scatterpolar"
           }
          ],
          "scatterpolargl": [
           {
            "marker": {
             "colorbar": {
              "outlinewidth": 0,
              "ticks": ""
             }
            },
            "type": "scatterpolargl"
           }
          ],
          "scatterternary": [
           {
            "marker": {
             "colorbar": {
              "outlinewidth": 0,
              "ticks": ""
             }
            },
            "type": "scatterternary"
           }
          ],
          "surface": [
           {
            "colorbar": {
             "outlinewidth": 0,
             "ticks": ""
            },
            "colorscale": [
             [
              0,
              "#0d0887"
             ],
             [
              0.1111111111111111,
              "#46039f"
             ],
             [
              0.2222222222222222,
              "#7201a8"
             ],
             [
              0.3333333333333333,
              "#9c179e"
             ],
             [
              0.4444444444444444,
              "#bd3786"
             ],
             [
              0.5555555555555556,
              "#d8576b"
             ],
             [
              0.6666666666666666,
              "#ed7953"
             ],
             [
              0.7777777777777778,
              "#fb9f3a"
             ],
             [
              0.8888888888888888,
              "#fdca26"
             ],
             [
              1,
              "#f0f921"
             ]
            ],
            "type": "surface"
           }
          ],
          "table": [
           {
            "cells": {
             "fill": {
              "color": "#EBF0F8"
             },
             "line": {
              "color": "white"
             }
            },
            "header": {
             "fill": {
              "color": "#C8D4E3"
             },
             "line": {
              "color": "white"
             }
            },
            "type": "table"
           }
          ]
         },
         "layout": {
          "annotationdefaults": {
           "arrowcolor": "#2a3f5f",
           "arrowhead": 0,
           "arrowwidth": 1
          },
          "autotypenumbers": "strict",
          "coloraxis": {
           "colorbar": {
            "outlinewidth": 0,
            "ticks": ""
           }
          },
          "colorscale": {
           "diverging": [
            [
             0,
             "#8e0152"
            ],
            [
             0.1,
             "#c51b7d"
            ],
            [
             0.2,
             "#de77ae"
            ],
            [
             0.3,
             "#f1b6da"
            ],
            [
             0.4,
             "#fde0ef"
            ],
            [
             0.5,
             "#f7f7f7"
            ],
            [
             0.6,
             "#e6f5d0"
            ],
            [
             0.7,
             "#b8e186"
            ],
            [
             0.8,
             "#7fbc41"
            ],
            [
             0.9,
             "#4d9221"
            ],
            [
             1,
             "#276419"
            ]
           ],
           "sequential": [
            [
             0,
             "#0d0887"
            ],
            [
             0.1111111111111111,
             "#46039f"
            ],
            [
             0.2222222222222222,
             "#7201a8"
            ],
            [
             0.3333333333333333,
             "#9c179e"
            ],
            [
             0.4444444444444444,
             "#bd3786"
            ],
            [
             0.5555555555555556,
             "#d8576b"
            ],
            [
             0.6666666666666666,
             "#ed7953"
            ],
            [
             0.7777777777777778,
             "#fb9f3a"
            ],
            [
             0.8888888888888888,
             "#fdca26"
            ],
            [
             1,
             "#f0f921"
            ]
           ],
           "sequentialminus": [
            [
             0,
             "#0d0887"
            ],
            [
             0.1111111111111111,
             "#46039f"
            ],
            [
             0.2222222222222222,
             "#7201a8"
            ],
            [
             0.3333333333333333,
             "#9c179e"
            ],
            [
             0.4444444444444444,
             "#bd3786"
            ],
            [
             0.5555555555555556,
             "#d8576b"
            ],
            [
             0.6666666666666666,
             "#ed7953"
            ],
            [
             0.7777777777777778,
             "#fb9f3a"
            ],
            [
             0.8888888888888888,
             "#fdca26"
            ],
            [
             1,
             "#f0f921"
            ]
           ]
          },
          "colorway": [
           "#636efa",
           "#EF553B",
           "#00cc96",
           "#ab63fa",
           "#FFA15A",
           "#19d3f3",
           "#FF6692",
           "#B6E880",
           "#FF97FF",
           "#FECB52"
          ],
          "font": {
           "color": "#2a3f5f"
          },
          "geo": {
           "bgcolor": "white",
           "lakecolor": "white",
           "landcolor": "white",
           "showlakes": true,
           "showland": true,
           "subunitcolor": "#C8D4E3"
          },
          "hoverlabel": {
           "align": "left"
          },
          "hovermode": "closest",
          "mapbox": {
           "style": "light"
          },
          "paper_bgcolor": "white",
          "plot_bgcolor": "white",
          "polar": {
           "angularaxis": {
            "gridcolor": "#EBF0F8",
            "linecolor": "#EBF0F8",
            "ticks": ""
           },
           "bgcolor": "white",
           "radialaxis": {
            "gridcolor": "#EBF0F8",
            "linecolor": "#EBF0F8",
            "ticks": ""
           }
          },
          "scene": {
           "xaxis": {
            "backgroundcolor": "white",
            "gridcolor": "#DFE8F3",
            "gridwidth": 2,
            "linecolor": "#EBF0F8",
            "showbackground": true,
            "ticks": "",
            "zerolinecolor": "#EBF0F8"
           },
           "yaxis": {
            "backgroundcolor": "white",
            "gridcolor": "#DFE8F3",
            "gridwidth": 2,
            "linecolor": "#EBF0F8",
            "showbackground": true,
            "ticks": "",
            "zerolinecolor": "#EBF0F8"
           },
           "zaxis": {
            "backgroundcolor": "white",
            "gridcolor": "#DFE8F3",
            "gridwidth": 2,
            "linecolor": "#EBF0F8",
            "showbackground": true,
            "ticks": "",
            "zerolinecolor": "#EBF0F8"
           }
          },
          "shapedefaults": {
           "line": {
            "color": "#2a3f5f"
           }
          },
          "ternary": {
           "aaxis": {
            "gridcolor": "#DFE8F3",
            "linecolor": "#A2B1C6",
            "ticks": ""
           },
           "baxis": {
            "gridcolor": "#DFE8F3",
            "linecolor": "#A2B1C6",
            "ticks": ""
           },
           "bgcolor": "white",
           "caxis": {
            "gridcolor": "#DFE8F3",
            "linecolor": "#A2B1C6",
            "ticks": ""
           }
          },
          "title": {
           "x": 0.05
          },
          "xaxis": {
           "automargin": true,
           "gridcolor": "#EBF0F8",
           "linecolor": "#EBF0F8",
           "ticks": "",
           "title": {
            "standoff": 15
           },
           "zerolinecolor": "#EBF0F8",
           "zerolinewidth": 2
          },
          "yaxis": {
           "automargin": true,
           "gridcolor": "#EBF0F8",
           "linecolor": "#EBF0F8",
           "ticks": "",
           "title": {
            "standoff": 15
           },
           "zerolinecolor": "#EBF0F8",
           "zerolinewidth": 2
          }
         }
        },
        "xaxis": {
         "anchor": "y",
         "domain": [
          0,
          1
         ],
         "tickformat": ",.3f",
         "tickprefix": "$",
         "title": {
          "text": "Salary in USD"
         }
        },
        "yaxis": {
         "anchor": "x",
         "domain": [
          0,
          1
         ],
         "title": {
          "text": "Count"
         }
        }
       }
      }
     },
     "metadata": {},
     "output_type": "display_data"
    }
   ],
   "source": [
    "fig = px.histogram(all_salaries,\n",
    "                   x='salary',\n",
    "                   nbins=30,\n",
    "                   color_discrete_sequence=['purple']\n",
    "             )\n",
    "\n",
    "# Update layout for better readability\n",
    "fig.update_layout(xaxis_title='Salary in USD',\n",
    "                  xaxis_tickprefix = '$', \n",
    "                  xaxis_tickformat = ',.3f',\n",
    "                  yaxis_title='Count',\n",
    "                  bargap=0.1,\n",
    "                  template='plotly_white',\n",
    "                  margin_pad=5,\n",
    "                  coloraxis_showscale=False,\n",
    "                  margin=dict(l=20, r=20, t=40, b=10)  )\n",
    "\n",
    "fig.show()\n"
   ]
  },
  {
   "cell_type": "markdown",
   "metadata": {},
   "source": [
    "* We observe that the majority of job postings offer salaries between **$75K** to **$150K**, indicating that this range is typical for many positions. Moreover, this suggests that many employers find this range appropriate for the roles advertised.\n",
    "* Jobs with salaries above **$180K** are less common, indicating that higher compensation is available for roles likely requiring specialized skills or higher levels of experience.\n",
    "* Jobs with salaries below **$70K** are fewer, These could be entry-level positions or roles in industries or regions with lower pay scales."
   ]
  },
  {
   "cell_type": "markdown",
   "metadata": {},
   "source": [
    "# Conclusion\n",
    "Based on the analysis of job postings of data scientist in the USA, several key insights have emerged:\n",
    "\n",
    "### Geographic Distribution:\n",
    "\n",
    "- **Top States**: California leads in job offers, followed by Virginia, Massachusetts, New York, and Maryland. The majority of job opportunities are concentrated in these five states.\n",
    "\n",
    "### Skill Demand:\n",
    "\n",
    "- **Top Skills**: The most highly demanded skills in the market are **R**, **Python**, and **SQL**. Possessing these skills will significantly enhance a candidate's chances of getting job interviews and securing positions in the field.\n",
    "\n",
    "### Industry Distribution:\n",
    "\n",
    "- **Leading Industries**: Most job offers are in the Consulting & Services and Technology sectors. Additionally, there are significant job offers in an unspecified industry (Other).\n",
    "- **Other Notable Industries**: Industries with considerable job offers include Healthcare & Pharmaceuticals, Finance & Insurance, and Space.\n",
    "\n",
    "### Salary Distribution:\n",
    "\n",
    "- **Common Salary Range**: The majority of job postings offer salaries between \\$75K and \\$150K, indicating this range is typical for many positions and deemed appropriate by many employers.\n",
    "- **High Salary Range**: Jobs with salaries above $180K are less common, suggesting that these roles likely require specialized skills or higher levels of experience.\n",
    "- **Entry-Level Salary Range**: Jobs with salaries below $70K are fewer and could represent entry-level positions or roles in industries or regions with lower pay scales.\n",
    "\n",
    "## Recommendations\n",
    "\n",
    "### Targeting High-Opportunity Locations:\n",
    "\n",
    "- Focus job search efforts in the top five states (California, Virginia, Massachusetts, New York, Maryland) where job opportunities are abundant.\n",
    "\n",
    "### Skill Development:\n",
    "\n",
    "- Prioritize acquiring and mastering the top skills (R, Python, SQL) to increase employability and competitiveness in the job market.\n",
    "\n",
    "### Industry Focus:\n",
    "\n",
    "- Consider targeting job opportunities in the leading industries (Consulting & Services, Technology) and also explore significant opportunities in Healthcare & Pharmaceuticals, Finance & Insurance, and Space.\n",
    "\n",
    "### Salary Expectations:\n",
    "\n",
    "- Align salary expectations with the common range of $75K to $150K. For higher compensation, aim to develop specialized skills and gain experience to qualify for roles offering above $180K.\n",
    "- For entry-level positions, expect salaries below $70K, which provide a starting point for gaining experience and advancing in the field.\n"
   ]
  },
  {
   "cell_type": "markdown",
   "metadata": {},
   "source": [
    "### End.\n",
    "***"
   ]
  }
 ],
 "metadata": {
  "kernelspec": {
   "display_name": "Python 3",
   "language": "python",
   "name": "python3"
  },
  "language_info": {
   "codemirror_mode": {
    "name": "ipython",
    "version": 3
   },
   "file_extension": ".py",
   "mimetype": "text/x-python",
   "name": "python",
   "nbconvert_exporter": "python",
   "pygments_lexer": "ipython3",
   "version": "3.12.2"
  }
 },
 "nbformat": 4,
 "nbformat_minor": 2
}
